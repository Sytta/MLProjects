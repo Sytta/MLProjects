{
 "cells": [
  {
   "cell_type": "code",
   "execution_count": null,
   "metadata": {},
   "outputs": [
    {
     "name": "stdout",
     "output_type": "stream",
     "text": [
      "SGD(0/49): loss=0.49595096528035826\n",
      "SGD(1/49): loss=1.148645498970357\n",
      "SGD(2/49): loss=0.5729048356495574\n",
      "SGD(3/49): loss=0.5728293817599707\n",
      "SGD(4/49): loss=0.6687380592342382\n",
      "SGD(5/49): loss=0.4932764290747278\n",
      "SGD(6/49): loss=1.0630400431704716\n",
      "SGD(7/49): loss=0.5181993559728255\n",
      "SGD(8/49): loss=0.5379071441081853\n",
      "SGD(9/49): loss=0.48532600380037055\n",
      "SGD(10/49): loss=0.8084986278733015\n",
      "SGD(11/49): loss=1.0285006732525315\n",
      "SGD(12/49): loss=0.6361365420042321\n",
      "SGD(13/49): loss=0.8266943019320524\n",
      "SGD(14/49): loss=0.6364032395662872\n",
      "SGD(15/49): loss=1.176970504073406\n",
      "SGD(16/49): loss=0.6523784543924264\n",
      "SGD(17/49): loss=0.7093164793866547\n",
      "SGD(18/49): loss=0.6238569403010515\n",
      "SGD(19/49): loss=0.602473183314858\n",
      "SGD(20/49): loss=0.5413327392993108\n",
      "SGD(21/49): loss=0.4953266722976119\n",
      "SGD(22/49): loss=0.6391846855904977\n",
      "SGD(23/49): loss=0.5025901924105619\n",
      "SGD(24/49): loss=0.5506759643338004\n",
      "SGD(25/49): loss=1.2337039264377898\n",
      "SGD(26/49): loss=1.2450516306000383\n",
      "SGD(27/49): loss=0.5217552653430766\n",
      "SGD(28/49): loss=0.8631070083250182\n",
      "SGD(29/49): loss=0.7003648405566326\n",
      "SGD(30/49): loss=0.7366773419740945\n",
      "SGD(31/49): loss=0.7116560249482443\n",
      "SGD(32/49): loss=0.8728613740416551\n",
      "SGD(33/49): loss=3.961949395627666\n",
      "SGD(34/49): loss=1.0877620387792941\n",
      "SGD(35/49): loss=0.7175058048933761\n",
      "SGD(36/49): loss=0.6885403273852626\n",
      "SGD(37/49): loss=0.6070354273683635\n",
      "SGD(38/49): loss=0.7298816338501145\n",
      "SGD(39/49): loss=0.5891069614472326\n",
      "SGD(40/49): loss=0.5178722293132261\n",
      "SGD(41/49): loss=0.9050570333120056\n",
      "SGD(42/49): loss=1.0385080935428779\n",
      "SGD(43/49): loss=0.7942359674114006\n",
      "SGD(44/49): loss=0.5440713439944859\n",
      "SGD(45/49): loss=0.5274243341179766\n",
      "SGD(46/49): loss=0.503741860967002\n",
      "SGD(47/49): loss=0.8114257210768193\n",
      "SGD(48/49): loss=0.66856101133693\n",
      "SGD(49/49): loss=1.1980019370202073\n"
     ]
    }
   ],
   "source": [
    "%run run.py"
   ]
  },
  {
   "cell_type": "code",
   "execution_count": null,
   "metadata": {},
   "outputs": [],
   "source": []
  }
 ],
 "metadata": {
  "kernelspec": {
   "display_name": "Python 3",
   "language": "python",
   "name": "python3"
  },
  "language_info": {
   "codemirror_mode": {
    "name": "ipython",
    "version": 3
   },
   "file_extension": ".py",
   "mimetype": "text/x-python",
   "name": "python",
   "nbconvert_exporter": "python",
   "pygments_lexer": "ipython3",
   "version": "3.6.5"
  }
 },
 "nbformat": 4,
 "nbformat_minor": 2
}
