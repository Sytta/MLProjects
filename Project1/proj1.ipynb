{
 "cells": [
  {
   "cell_type": "code",
   "execution_count": 1,
   "metadata": {},
   "outputs": [
    {
     "name": "stdout",
     "output_type": "stream",
     "text": [
      "SGD(0/49): loss=0.48453908094583803\n",
      "SGD(1/49): loss=0.5408821998080423\n",
      "SGD(2/49): loss=0.721006585084713\n",
      "SGD(3/49): loss=0.5256318752586507\n",
      "SGD(4/49): loss=0.5938876059126915\n",
      "SGD(5/49): loss=1.1986628494979763\n",
      "SGD(6/49): loss=1.5828512992907273\n",
      "SGD(7/49): loss=5.112625384412593\n",
      "SGD(8/49): loss=0.9914248798998253\n",
      "SGD(9/49): loss=0.7694250672847119\n",
      "SGD(10/49): loss=0.6686689504982686\n",
      "SGD(11/49): loss=0.9173714492184649\n",
      "SGD(12/49): loss=0.7801866090093924\n",
      "SGD(13/49): loss=0.9007696107212462\n",
      "SGD(14/49): loss=0.7345901519429487\n",
      "SGD(15/49): loss=2.3571221447068136\n",
      "SGD(16/49): loss=1.2611473360408352\n",
      "SGD(17/49): loss=8.69689342979642\n",
      "SGD(18/49): loss=2.629137371124531\n",
      "SGD(19/49): loss=2.300949964136678\n",
      "SGD(20/49): loss=1.2542458858764745\n",
      "SGD(21/49): loss=1.4926114402302577\n",
      "SGD(22/49): loss=1.1845657028288672\n",
      "SGD(23/49): loss=1.0836113326065535\n",
      "SGD(24/49): loss=0.7093431268670214\n",
      "SGD(25/49): loss=0.6261957739376117\n",
      "SGD(26/49): loss=1.00330988414424\n",
      "SGD(27/49): loss=0.7696149170427118\n",
      "SGD(28/49): loss=0.4923939084968193\n",
      "SGD(29/49): loss=0.513807535373077\n",
      "SGD(30/49): loss=0.5702636186104348\n",
      "SGD(31/49): loss=0.9592157937610127\n",
      "SGD(32/49): loss=0.5908089623642359\n",
      "SGD(33/49): loss=0.7905773199576809\n",
      "SGD(34/49): loss=0.8032520695490503\n",
      "SGD(35/49): loss=0.5055947203334539\n",
      "SGD(36/49): loss=0.45357696818645915\n",
      "SGD(37/49): loss=0.6507746597428382\n",
      "SGD(38/49): loss=0.4539593502283363\n",
      "SGD(39/49): loss=0.7207198810726247\n",
      "SGD(40/49): loss=0.4433067055244702\n",
      "SGD(41/49): loss=0.4575546926893779\n",
      "SGD(42/49): loss=0.5355264852573071\n",
      "SGD(43/49): loss=0.5062645551940862\n",
      "SGD(44/49): loss=0.9517134635066996\n",
      "SGD(45/49): loss=0.5181974263606542\n",
      "SGD(46/49): loss=0.9662871021960261\n",
      "SGD(47/49): loss=0.5135410222805132\n",
      "SGD(48/49): loss=0.5585686685825361\n",
      "SGD(49/49): loss=0.6168445173388417\n"
     ]
    }
   ],
   "source": [
    "%run run.py"
   ]
  },
  {
   "cell_type": "code",
   "execution_count": null,
   "metadata": {},
   "outputs": [],
   "source": []
  }
 ],
 "metadata": {
  "kernelspec": {
   "display_name": "Python 3",
   "language": "python",
   "name": "python3"
  },
  "language_info": {
   "codemirror_mode": {
    "name": "ipython",
    "version": 3
   },
   "file_extension": ".py",
   "mimetype": "text/x-python",
   "name": "python",
   "nbconvert_exporter": "python",
   "pygments_lexer": "ipython3",
   "version": "3.6.5"
  }
 },
 "nbformat": 4,
 "nbformat_minor": 2
}
