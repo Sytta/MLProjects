{
 "cells": [
  {
   "cell_type": "code",
   "execution_count": 3,
   "metadata": {},
   "outputs": [],
   "source": [
    "from stack import *\n",
    "from constants import *"
   ]
  },
  {
   "cell_type": "code",
   "execution_count": 4,
   "metadata": {},
   "outputs": [
    {
     "name": "stdout",
     "output_type": "stream",
     "text": [
      "Reading folder: ./predict_save/\n"
     ]
    }
   ],
   "source": [
    "print(\"Reading folder: {}\".format(folder))"
   ]
  },
  {
   "cell_type": "code",
   "execution_count": 5,
   "metadata": {},
   "outputs": [
    {
     "name": "stdout",
     "output_type": "stream",
     "text": [
      "Loading models...\n",
      "11 model families loaded:\n",
      " baseline: global_mean, global_median, user_mean, user_median, movie_mean, movie_median, movie_mean_user_std, movie_median_user_std, movie_mean_user_habit_std, movie_median_user_habit_std, movie_mean_user_habit, movie_median_user_habit, ; \n",
      "surprise: surprise_svd, surprise_knn, surprise_svd_pp, ; \n",
      "surprise_algo_user_std: surprise_svd_user_std, surprise_knn_user_std, ; \n",
      "spotlight: spotlight, ; \n",
      "spotlight_user_std: spotlight_user_std, ; \n",
      "als: als, ; \n",
      "als_user_std: als_user_std, ; \n",
      "pyfm: pyfm, ; \n",
      "pyfm_user_std: pyfm_user_std, ; \n",
      "mfrr: mfrr, ; \n",
      "mfrr_user_std: mfrr_user_std, ; \n",
      "\n"
     ]
    }
   ],
   "source": [
    "models = load_models()"
   ]
  },
  {
   "cell_type": "code",
   "execution_count": 6,
   "metadata": {},
   "outputs": [],
   "source": [
    "ground_truth = pd.read_csv(folder + \"ground_truth.csv\", index_col=0)"
   ]
  },
  {
   "cell_type": "code",
   "execution_count": 7,
   "metadata": {},
   "outputs": [
    {
     "data": {
      "text/html": [
       "<div>\n",
       "<style scoped>\n",
       "    .dataframe tbody tr th:only-of-type {\n",
       "        vertical-align: middle;\n",
       "    }\n",
       "\n",
       "    .dataframe tbody tr th {\n",
       "        vertical-align: top;\n",
       "    }\n",
       "\n",
       "    .dataframe thead th {\n",
       "        text-align: right;\n",
       "    }\n",
       "</style>\n",
       "<table border=\"1\" class=\"dataframe\">\n",
       "  <thead>\n",
       "    <tr style=\"text-align: right;\">\n",
       "      <th></th>\n",
       "      <th>User</th>\n",
       "      <th>Movie</th>\n",
       "      <th>Rating</th>\n",
       "    </tr>\n",
       "  </thead>\n",
       "  <tbody>\n",
       "    <tr>\n",
       "      <th>0</th>\n",
       "      <td>1207</td>\n",
       "      <td>877</td>\n",
       "      <td>3</td>\n",
       "    </tr>\n",
       "    <tr>\n",
       "      <th>1</th>\n",
       "      <td>2337</td>\n",
       "      <td>179</td>\n",
       "      <td>3</td>\n",
       "    </tr>\n",
       "    <tr>\n",
       "      <th>2</th>\n",
       "      <td>4221</td>\n",
       "      <td>971</td>\n",
       "      <td>4</td>\n",
       "    </tr>\n",
       "    <tr>\n",
       "      <th>3</th>\n",
       "      <td>2306</td>\n",
       "      <td>148</td>\n",
       "      <td>5</td>\n",
       "    </tr>\n",
       "    <tr>\n",
       "      <th>4</th>\n",
       "      <td>3092</td>\n",
       "      <td>188</td>\n",
       "      <td>4</td>\n",
       "    </tr>\n",
       "  </tbody>\n",
       "</table>\n",
       "</div>"
      ],
      "text/plain": [
       "   User  Movie  Rating\n",
       "0  1207    877       3\n",
       "1  2337    179       3\n",
       "2  4221    971       4\n",
       "3  2306    148       5\n",
       "4  3092    188       4"
      ]
     },
     "execution_count": 7,
     "metadata": {},
     "output_type": "execute_result"
    }
   ],
   "source": [
    "ground_truth.head()"
   ]
  },
  {
   "cell_type": "code",
   "execution_count": 8,
   "metadata": {
    "scrolled": false
   },
   "outputs": [
    {
     "name": "stdout",
     "output_type": "stream",
     "text": [
      "Loading predictions from ./predict_save/....\n",
      "[load_predictions] files: ['als_predictions_1:45:59.818126.csv', 'global_mean_predictions.csv', 'global_median_predictions.csv', 'mfrr_predictions_1:31:45.786389.csv', 'movie_mean_predictions.csv', 'movie_mean_user_habit_predictions.csv', 'movie_mean_user_habit_std_predictions.csv', 'movie_mean_user_std_predictions.csv', 'movie_median_predictions.csv', 'movie_median_user_habit_predictions.csv', 'movie_median_user_habit_std_predictions.csv', 'movie_median_user_std_predictions.csv', 'pyfm_predictions.csv', 'spotlight_predictions.csv', 'spotlight_user_std_predictions_3:39:03.098104.csv', 'surprise_knn_predictions.csv', 'surprise_knn_user_std_predictions_0:20:00.919416.csv', 'surprise_svd_pp_predictions.csv', 'surprise_svd_predictions.csv', 'surprise_svd_user_std_predictions_0:12:35.930335.csv', 'user_mean_predictions.csv', 'user_median_predictions.csv']\n",
      "Reading 1/22 : als_predictions_1:45:59.818126.csv...\n",
      "Reading 2/22 : global_mean_predictions.csv...\n",
      "Reading 3/22 : global_median_predictions.csv...\n",
      "Reading 4/22 : mfrr_predictions_1:31:45.786389.csv...\n",
      "Reading 5/22 : movie_mean_predictions.csv...\n",
      "Reading 6/22 : movie_mean_user_habit_predictions.csv...\n",
      "Reading 7/22 : movie_mean_user_habit_std_predictions.csv...\n",
      "Reading 8/22 : movie_mean_user_std_predictions.csv...\n",
      "Reading 9/22 : movie_median_predictions.csv...\n",
      "Reading 10/22 : movie_median_user_habit_predictions.csv...\n",
      "Reading 11/22 : movie_median_user_habit_std_predictions.csv...\n",
      "Reading 12/22 : movie_median_user_std_predictions.csv...\n",
      "Reading 13/22 : pyfm_predictions.csv...\n",
      "Reading 14/22 : spotlight_predictions.csv...\n",
      "Reading 15/22 : spotlight_user_std_predictions_3:39:03.098104.csv...\n",
      "Reading 16/22 : surprise_knn_predictions.csv...\n",
      "Reading 17/22 : surprise_knn_user_std_predictions_0:20:00.919416.csv...\n",
      "Reading 18/22 : surprise_svd_pp_predictions.csv...\n",
      "Reading 19/22 : surprise_svd_predictions.csv...\n",
      "Reading 20/22 : surprise_svd_user_std_predictions_0:12:35.930335.csv...\n",
      "Reading 21/22 : user_mean_predictions.csv...\n",
      "Reading 22/22 : user_median_predictions.csv...\n",
      "Predictions:    User  Movie       als  global_mean  global_median      mfrr  movie_mean  \\\n",
      "0     1     68  3.113779     3.855656            4.0  2.931784    3.507576   \n",
      "1     1     84  4.866766     3.855656            4.0  3.967232    4.159341   \n",
      "2     1    206  4.665121     3.855656            4.0  4.163851    4.006024   \n",
      "3     1    310  5.154342     3.855656            4.0  4.640329    4.567055   \n",
      "4     1    472  4.236025     3.855656            4.0  3.588951    3.665192   \n",
      "\n",
      "   movie_mean_user_habit  movie_mean_user_habit_std  movie_mean_user_std  \\\n",
      "0               4.318586                   4.325542             4.512189   \n",
      "1               4.970351                   4.981714             4.793540   \n",
      "2               4.817035                   4.809874             4.732291   \n",
      "3               5.378065                   5.353573             4.974215   \n",
      "4               4.476202                   4.482608             4.578013   \n",
      "\n",
      "      ...           pyfm  spotlight  spotlight_user_std  surprise_knn  \\\n",
      "0     ...       3.890816   3.921188            4.056973             3   \n",
      "1     ...       4.646547   4.644305            4.654809             4   \n",
      "2     ...       4.589666   4.422567            4.462980             4   \n",
      "3     ...       5.000000   5.014091            5.017692             5   \n",
      "4     ...       4.302767   3.982452            4.197906             4   \n",
      "\n",
      "   surprise_knn_user_std  surprise_svd_pp  surprise_svd  \\\n",
      "0               3.811011                3             3   \n",
      "1               3.811011                4             3   \n",
      "2               3.811011                3             3   \n",
      "3               4.811011                4             4   \n",
      "4               3.811011                3             3   \n",
      "\n",
      "   surprise_svd_user_std  user_mean  user_median  \n",
      "0               3.811011   4.666667          5.0  \n",
      "1               3.811011   4.666667          5.0  \n",
      "2               4.811011   4.666667          5.0  \n",
      "3               4.811011   4.666667          5.0  \n",
      "4               3.811011   4.666667          5.0  \n",
      "\n",
      "[5 rows x 24 columns]\n",
      "Time: 0:00:31.911569, Finished loading.\n",
      "Optimizing...\n",
      "Optimization terminated successfully.    (Exit mode 0)\n",
      "            Current function value: 0.9893887468678488\n",
      "            Iterations: 41\n",
      "            Function evaluations: 988\n",
      "            Gradient evaluations: 41\n",
      "Time: 0:08:45.434917. Optimization done.\n"
     ]
    }
   ],
   "source": [
    "res, predictions = optimize(models, ground_truth, folder)"
   ]
  },
  {
   "cell_type": "code",
   "execution_count": 12,
   "metadata": {},
   "outputs": [
    {
     "data": {
      "text/plain": [
       "['als',\n",
       " 'global_mean',\n",
       " 'global_median',\n",
       " 'mfrr',\n",
       " 'movie_mean',\n",
       " 'movie_mean_user_habit',\n",
       " 'movie_mean_user_habit_std',\n",
       " 'movie_mean_user_std',\n",
       " 'movie_median',\n",
       " 'movie_median_user_habit',\n",
       " 'movie_median_user_habit_std',\n",
       " 'movie_median_user_std',\n",
       " 'pyfm',\n",
       " 'spotlight',\n",
       " 'spotlight_user_std',\n",
       " 'surprise_knn',\n",
       " 'surprise_knn_user_std',\n",
       " 'surprise_svd_pp',\n",
       " 'surprise_svd',\n",
       " 'surprise_svd_user_std',\n",
       " 'user_mean',\n",
       " 'user_median']"
      ]
     },
     "execution_count": 12,
     "metadata": {},
     "output_type": "execute_result"
    }
   ],
   "source": []
  },
  {
   "cell_type": "code",
   "execution_count": 18,
   "metadata": {},
   "outputs": [],
   "source": [
    "def get_best_weights(res, predictions, ground_truth):\n",
    "    # Create best dictionnary\n",
    "    existing_models = predictions.columns[2:].tolist()\n",
    "    best_dict = {}\n",
    "    idx = 0\n",
    "    for model in existing_models:\n",
    "        best_dict[model] = res.x[idx]\n",
    "        idx = idx + 1\n",
    "    \n",
    "    print(\"Best weights: \\n {}\".format(best_dict))\n",
    "    # test\n",
    "    rmse = evaluate_stacking(res.x, models, predictions, ground_truth)\n",
    "    print(\"Best weights rmse: {}\".format(rmse))\n",
    "    return best_dict, rmse"
   ]
  },
  {
   "cell_type": "code",
   "execution_count": 30,
   "metadata": {},
   "outputs": [],
   "source": [
    "def predict(weight_dict, models):\n",
    "    print(\"Loading predictions....\")\n",
    "    predictions = load_predictions(folder_predict)\n",
    "    print(\"Finished loading.\")\n",
    "    \n",
    "    existing_models = predictions.columns[2:].tolist()\n",
    "    \n",
    "    stacked = np.zeros(predictions.shape[0])\n",
    "    for key, model_fam in models.items():\n",
    "        for name in model_fam.keys():\n",
    "            if name in existing_models:\n",
    "                weight = weight_dict[name]\n",
    "                print(\"Stacking {} * {}...\".format(weight, name))\n",
    "                stacked = stacked + weight * predictions[name]\n",
    "    \n",
    "    pred = predictions[['User', 'Movie']].copy()\n",
    "    pred['Rating'] = stacked\n",
    "    return pred"
   ]
  },
  {
   "cell_type": "code",
   "execution_count": 29,
   "metadata": {},
   "outputs": [
    {
     "name": "stdout",
     "output_type": "stream",
     "text": [
      "Best weights: \n",
      " {'als': 0.04156705547758971, 'global_mean': 0.04141987786482112, 'global_median': -0.049992873632281526, 'mfrr': 0.0026337763948453188, 'movie_mean': 0.036019683272407996, 'movie_mean_user_habit': 0.054753807715713865, 'movie_mean_user_habit_std': 0.2211152209790129, 'movie_mean_user_std': 0.07042404288603338, 'movie_median': -0.19430758778328971, 'movie_median_user_habit': -0.11959403936217423, 'movie_median_user_habit_std': -0.05553875753153203, 'movie_median_user_std': -0.03680447560310902, 'pyfm': 0.008765438135045127, 'spotlight': 0.01881009729092297, 'spotlight_user_std': 0.006383133180331191, 'surprise_knn': -1.0344699395226705e-05, 'surprise_knn_user_std': 0.021320357335072045, 'surprise_svd_pp': 0.022800519613375873, 'surprise_svd': 0.38529971058007395, 'surprise_svd_user_std': 0.21116440273761694, 'user_mean': 0.17468717610442938, 'user_median': 0.15789733232777103}\n",
      "Best weights rmse: 0.9893887468678488\n"
     ]
    }
   ],
   "source": [
    "best_dict, rmse = get_best_weights(res, predictions, ground_truth)"
   ]
  },
  {
   "cell_type": "code",
   "execution_count": 31,
   "metadata": {},
   "outputs": [
    {
     "name": "stdout",
     "output_type": "stream",
     "text": [
      "Loading predictions....\n",
      "[load_predictions] files: ['als_predictions.csv', 'global_mean_predictions.csv', 'global_median_predictions.csv', 'mfrr_predictions.csv', 'movie_mean_predictions.csv', 'movie_mean_user_habit_predictions.csv', 'movie_mean_user_habit_std_predictions.csv', 'movie_mean_user_std_predictions.csv', 'movie_median_predictions.csv', 'movie_median_user_habit_predictions.csv', 'movie_median_user_habit_std_predictions.csv', 'movie_median_user_std_predictions.csv', 'pyfm_predictions.csv', 'spotlight_predictions.csv', 'spotlight_user_std_predictions.csv', 'surprise_knn_predictions.csv', 'surprise_knn_user_std_predictions.csv', 'surprise_svd_pp_predictions.csv', 'surprise_svd_predictions.csv', 'surprise_svd_user_std_predictions.csv', 'user_mean_predictions.csv', 'user_median_predictions.csv']\n",
      "Reading 1/22 : als_predictions.csv...\n",
      "Reading 2/22 : global_mean_predictions.csv...\n",
      "Reading 3/22 : global_median_predictions.csv...\n",
      "Reading 4/22 : mfrr_predictions.csv...\n",
      "Reading 5/22 : movie_mean_predictions.csv...\n",
      "Reading 6/22 : movie_mean_user_habit_predictions.csv...\n",
      "Reading 7/22 : movie_mean_user_habit_std_predictions.csv...\n",
      "Reading 8/22 : movie_mean_user_std_predictions.csv...\n",
      "Reading 9/22 : movie_median_predictions.csv...\n",
      "Reading 10/22 : movie_median_user_habit_predictions.csv...\n",
      "Reading 11/22 : movie_median_user_habit_std_predictions.csv...\n",
      "Reading 12/22 : movie_median_user_std_predictions.csv...\n",
      "Reading 13/22 : pyfm_predictions.csv...\n",
      "Reading 14/22 : spotlight_predictions.csv...\n",
      "Reading 15/22 : spotlight_user_std_predictions.csv...\n",
      "Reading 16/22 : surprise_knn_predictions.csv...\n",
      "Reading 17/22 : surprise_knn_user_std_predictions.csv...\n",
      "Reading 18/22 : surprise_svd_pp_predictions.csv...\n",
      "Reading 19/22 : surprise_svd_predictions.csv...\n",
      "Reading 20/22 : surprise_svd_user_std_predictions.csv...\n",
      "Reading 21/22 : user_mean_predictions.csv...\n",
      "Reading 22/22 : user_median_predictions.csv...\n",
      "Finished loading.\n",
      "Stacking 0.04141987786482112 * global_mean...\n",
      "Stacking -0.049992873632281526 * global_median...\n",
      "Stacking 0.17468717610442938 * user_mean...\n",
      "Stacking 0.15789733232777103 * user_median...\n",
      "Stacking 0.036019683272407996 * movie_mean...\n",
      "Stacking -0.19430758778328971 * movie_median...\n",
      "Stacking 0.07042404288603338 * movie_mean_user_std...\n",
      "Stacking -0.03680447560310902 * movie_median_user_std...\n",
      "Stacking 0.2211152209790129 * movie_mean_user_habit_std...\n",
      "Stacking -0.05553875753153203 * movie_median_user_habit_std...\n",
      "Stacking 0.054753807715713865 * movie_mean_user_habit...\n",
      "Stacking -0.11959403936217423 * movie_median_user_habit...\n",
      "Stacking 0.38529971058007395 * surprise_svd...\n",
      "Stacking -1.0344699395226705e-05 * surprise_knn...\n",
      "Stacking 0.022800519613375873 * surprise_svd_pp...\n",
      "Stacking 0.21116440273761694 * surprise_svd_user_std...\n",
      "Stacking 0.021320357335072045 * surprise_knn_user_std...\n",
      "Stacking 0.01881009729092297 * spotlight...\n",
      "Stacking 0.006383133180331191 * spotlight_user_std...\n",
      "Stacking 0.04156705547758971 * als...\n",
      "Stacking 0.008765438135045127 * pyfm...\n",
      "Stacking 0.0026337763948453188 * mfrr...\n"
     ]
    }
   ],
   "source": [
    "pred = predict(best_dict, models)"
   ]
  },
  {
   "cell_type": "code",
   "execution_count": 32,
   "metadata": {},
   "outputs": [
    {
     "data": {
      "text/html": [
       "<div>\n",
       "<style scoped>\n",
       "    .dataframe tbody tr th:only-of-type {\n",
       "        vertical-align: middle;\n",
       "    }\n",
       "\n",
       "    .dataframe tbody tr th {\n",
       "        vertical-align: top;\n",
       "    }\n",
       "\n",
       "    .dataframe thead th {\n",
       "        text-align: right;\n",
       "    }\n",
       "</style>\n",
       "<table border=\"1\" class=\"dataframe\">\n",
       "  <thead>\n",
       "    <tr style=\"text-align: right;\">\n",
       "      <th></th>\n",
       "      <th>User</th>\n",
       "      <th>Movie</th>\n",
       "      <th>Rating</th>\n",
       "    </tr>\n",
       "  </thead>\n",
       "  <tbody>\n",
       "    <tr>\n",
       "      <th>0</th>\n",
       "      <td>1</td>\n",
       "      <td>4</td>\n",
       "      <td>3.444935</td>\n",
       "    </tr>\n",
       "    <tr>\n",
       "      <th>1</th>\n",
       "      <td>1</td>\n",
       "      <td>8</td>\n",
       "      <td>3.997530</td>\n",
       "    </tr>\n",
       "    <tr>\n",
       "      <th>2</th>\n",
       "      <td>1</td>\n",
       "      <td>21</td>\n",
       "      <td>3.065812</td>\n",
       "    </tr>\n",
       "    <tr>\n",
       "      <th>3</th>\n",
       "      <td>1</td>\n",
       "      <td>102</td>\n",
       "      <td>3.632541</td>\n",
       "    </tr>\n",
       "    <tr>\n",
       "      <th>4</th>\n",
       "      <td>1</td>\n",
       "      <td>127</td>\n",
       "      <td>3.264525</td>\n",
       "    </tr>\n",
       "  </tbody>\n",
       "</table>\n",
       "</div>"
      ],
      "text/plain": [
       "   User  Movie    Rating\n",
       "0     1      4  3.444935\n",
       "1     1      8  3.997530\n",
       "2     1     21  3.065812\n",
       "3     1    102  3.632541\n",
       "4     1    127  3.264525"
      ]
     },
     "execution_count": 32,
     "metadata": {},
     "output_type": "execute_result"
    }
   ],
   "source": [
    "pred.head()"
   ]
  },
  {
   "cell_type": "code",
   "execution_count": 33,
   "metadata": {},
   "outputs": [
    {
     "data": {
      "text/plain": [
       "(1176952, 3)"
      ]
     },
     "execution_count": 33,
     "metadata": {},
     "output_type": "execute_result"
    }
   ],
   "source": [
    "pred.shape"
   ]
  },
  {
   "cell_type": "code",
   "execution_count": 34,
   "metadata": {},
   "outputs": [
    {
     "name": "stdout",
     "output_type": "stream",
     "text": [
      "Creating submission file...\n"
     ]
    }
   ],
   "source": [
    "submission = create_csv_submission(pred)\n",
    "submission.to_csv(\"submission.csv\")"
   ]
  },
  {
   "cell_type": "code",
   "execution_count": 35,
   "metadata": {},
   "outputs": [
    {
     "name": "stdout",
     "output_type": "stream",
     "text": [
      "[load_dataset] Valid: (1176952, 3)\n"
     ]
    }
   ],
   "source": [
    "test_df = load_dataset(test_dataset)"
   ]
  },
  {
   "cell_type": "code",
   "execution_count": 38,
   "metadata": {},
   "outputs": [
    {
     "data": {
      "text/html": [
       "<div>\n",
       "<style scoped>\n",
       "    .dataframe tbody tr th:only-of-type {\n",
       "        vertical-align: middle;\n",
       "    }\n",
       "\n",
       "    .dataframe tbody tr th {\n",
       "        vertical-align: top;\n",
       "    }\n",
       "\n",
       "    .dataframe thead th {\n",
       "        text-align: right;\n",
       "    }\n",
       "</style>\n",
       "<table border=\"1\" class=\"dataframe\">\n",
       "  <thead>\n",
       "    <tr style=\"text-align: right;\">\n",
       "      <th></th>\n",
       "      <th>User</th>\n",
       "      <th>Movie</th>\n",
       "      <th>Rating</th>\n",
       "    </tr>\n",
       "  </thead>\n",
       "  <tbody>\n",
       "    <tr>\n",
       "      <th>1713</th>\n",
       "      <td>1</td>\n",
       "      <td>4</td>\n",
       "      <td>3</td>\n",
       "    </tr>\n",
       "    <tr>\n",
       "      <th>11826</th>\n",
       "      <td>1</td>\n",
       "      <td>8</td>\n",
       "      <td>3</td>\n",
       "    </tr>\n",
       "    <tr>\n",
       "      <th>30302</th>\n",
       "      <td>1</td>\n",
       "      <td>21</td>\n",
       "      <td>3</td>\n",
       "    </tr>\n",
       "    <tr>\n",
       "      <th>122581</th>\n",
       "      <td>1</td>\n",
       "      <td>102</td>\n",
       "      <td>3</td>\n",
       "    </tr>\n",
       "    <tr>\n",
       "      <th>147207</th>\n",
       "      <td>1</td>\n",
       "      <td>127</td>\n",
       "      <td>3</td>\n",
       "    </tr>\n",
       "  </tbody>\n",
       "</table>\n",
       "</div>"
      ],
      "text/plain": [
       "        User  Movie  Rating\n",
       "1713       1      4       3\n",
       "11826      1      8       3\n",
       "30302      1     21       3\n",
       "122581     1    102       3\n",
       "147207     1    127       3"
      ]
     },
     "execution_count": 38,
     "metadata": {},
     "output_type": "execute_result"
    }
   ],
   "source": [
    "test_df.sort_values(by=['User', 'Movie']).head()"
   ]
  },
  {
   "cell_type": "code",
   "execution_count": 37,
   "metadata": {},
   "outputs": [
    {
     "data": {
      "text/plain": [
       "(1176952, 3)"
      ]
     },
     "execution_count": 37,
     "metadata": {},
     "output_type": "execute_result"
    }
   ],
   "source": [
    "test_df.shape"
   ]
  },
  {
   "cell_type": "code",
   "execution_count": null,
   "metadata": {},
   "outputs": [],
   "source": []
  }
 ],
 "metadata": {
  "kernelspec": {
   "display_name": "Python 3",
   "language": "python",
   "name": "python3"
  },
  "language_info": {
   "codemirror_mode": {
    "name": "ipython",
    "version": 3
   },
   "file_extension": ".py",
   "mimetype": "text/x-python",
   "name": "python",
   "nbconvert_exporter": "python",
   "pygments_lexer": "ipython3",
   "version": "3.6.7"
  }
 },
 "nbformat": 4,
 "nbformat_minor": 2
}
