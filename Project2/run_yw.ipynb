{
 "cells": [
  {
   "cell_type": "code",
   "execution_count": 262,
   "metadata": {},
   "outputs": [],
   "source": [
    "import pandas as pd\n",
    "import numpy as np"
   ]
  },
  {
   "cell_type": "code",
   "execution_count": 263,
   "metadata": {},
   "outputs": [],
   "source": [
    "train_dataset = \"./data/data_train.csv\"\n",
    "test_dataset = \"./data/sampleSubmission.csv\""
   ]
  },
  {
   "cell_type": "code",
   "execution_count": 264,
   "metadata": {},
   "outputs": [],
   "source": [
    "def load_dataset(path):\n",
    "    \"\"\"Load dataset as a (User, Movie, Rating) pandas dataframe\"\"\"\n",
    "    df = pd.read_csv(path)\n",
    "    parsed_df = pd.DataFrame()\n",
    "    # Get all pairs of (r44_c1) -> (44, 1) (user, movie)\n",
    "    user_movie_indices = df.Id.apply(lambda x: x.split('_'))\n",
    "    parsed_df['User'] =  [int(i[0][1:]) for i in items_users_indices]\n",
    "    parsed_df['Movie'] = [int(i[1][1:]) for i in items_users_indices]\n",
    "    parsed_df['Rating'] = df['Prediction']\n",
    "    return parsed_df"
   ]
  },
  {
   "cell_type": "code",
   "execution_count": 265,
   "metadata": {},
   "outputs": [],
   "source": [
    "train_df = load_dataset(train_dataset)\n",
    "test_df = load_dataset(test_dataset)"
   ]
  },
  {
   "cell_type": "code",
   "execution_count": 266,
   "metadata": {},
   "outputs": [],
   "source": [
    "def split_dataset(df, p_test=0.2, min_num_ratings = 0):\n",
    "    \"\"\" split dataframe into train and test set \"\"\"\n",
    "    # select user and item based on the condition.\n",
    "    user_counts = df.User.value_counts()\n",
    "    valid_users = user_counts[user_counts > min_num_ratings].index.values\n",
    "    movie_counts = df.Movie.value_counts()\n",
    "    valid_movies = movie_counts[movie_counts > min_num_ratings].index.values\n",
    "\n",
    "    valid_ratings = df[df.User.isin(valid_users) & df.Movie.isin(valid_movies)].reset_index(drop=True)\n",
    "\n",
    "    # Split data\n",
    "    size = df.shape[0]\n",
    "    indexes = list(range(size))\n",
    "    np.random.shuffle(indexes)\n",
    "    \n",
    "    test_ind = indexes[:int(size*p_test)]\n",
    "    train_ind = indexes[int(size*p_test):]\n",
    "    \n",
    "    test = valid_ratings.loc[test_ind]\n",
    "    train = valid_ratings.loc[train_ind]\n",
    "\n",
    "    print(\"Train: {}, Test: {}\".format(test.shape, train.shape))\n",
    "    \n",
    "    # Test that the sum of nb rows of splitted dataframes = nb rows of original\n",
    "    if (train_tr.shape[0] + test_tr.shape[0] == df.shape[0]):\n",
    "        return train.reset_index(drop=True), test.reset_index(drop=True)\n",
    "    else:\n",
    "        raise Exception(\"[Error] Train: {} + Test {} != Original: {} !!\".format(train_tr.shape[0], test_tr.shape[0], df.shape[0]))\n"
   ]
  },
  {
   "cell_type": "code",
   "execution_count": 267,
   "metadata": {},
   "outputs": [
    {
     "name": "stdout",
     "output_type": "stream",
     "text": [
      "Train: (235390, 3), Test: (941562, 3)\n"
     ]
    }
   ],
   "source": [
    "train_tr, test_tr = split_dataset(train_df)"
   ]
  },
  {
   "cell_type": "code",
   "execution_count": 275,
   "metadata": {},
   "outputs": [],
   "source": [
    "def compute_rmse(pred, truth):\n",
    "    \"\"\" compute RMSE for pandas dataframes \"\"\"\n",
    "    truth_sorted = truth.sort_values(['User', 'Movie']).reset_index(drop=True)\n",
    "    pred_sorted = pred.sort_values(['User', 'Movie']).reset_index(drop=True)\n",
    "\n",
    "    truth_sorted['square_error'] = np.square(truth_sorted['Rating'] - prediction_sorted['Rating'])\n",
    "\n",
    "    mse = truth_sorted['square_error'].mean()\n",
    "    rmse = np.sqrt(mse)\n",
    "\n",
    "    return rmse"
   ]
  },
  {
   "cell_type": "code",
   "execution_count": 274,
   "metadata": {},
   "outputs": [],
   "source": []
  },
  {
   "cell_type": "code",
   "execution_count": null,
   "metadata": {},
   "outputs": [],
   "source": []
  }
 ],
 "metadata": {
  "kernelspec": {
   "display_name": "Python 3",
   "language": "python",
   "name": "python3"
  },
  "language_info": {
   "codemirror_mode": {
    "name": "ipython",
    "version": 3
   },
   "file_extension": ".py",
   "mimetype": "text/x-python",
   "name": "python",
   "nbconvert_exporter": "python",
   "pygments_lexer": "ipython3",
   "version": "3.6.5"
  }
 },
 "nbformat": 4,
 "nbformat_minor": 2
}
