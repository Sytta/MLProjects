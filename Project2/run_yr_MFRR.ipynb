{
 "cells": [
  {
   "cell_type": "code",
   "execution_count": 1,
   "metadata": {},
   "outputs": [],
   "source": [
    "import pandas as pd\n",
    "import numpy as np\n",
    "from helpers import *\n",
    "from sklearn.linear_model import Ridge"
   ]
  },
  {
   "cell_type": "code",
   "execution_count": 11,
   "metadata": {},
   "outputs": [],
   "source": [
    "# num_users, num_movies = len(rating),len(rating.columns)\n",
    "\n",
    "# user_features = pd.DataFrame(np.random.rand(num_users,num_features),index=range(1,num_users+1),columns=range(1,num_features+1))\n",
    "# movie_features = pd.DataFrame(np.random.rand(num_movies,num_features),index=range(1,num_movies+1),columns=range(1,num_features+1))\n",
    "\n",
    "# user_ft_data = train_df.set_index('Movie').join(Z).sort_values('User').set_index('User')\n",
    "# movie_ft_data = train_df.set_index('User').join(W).sort_values('Movie').set_index('Movie')\n",
    "\n",
    "# user_ft_data.loc[1,:].head(1)\n",
    "\n",
    "# user_ft_data.loc[1,user_ft_data.columns!='Rating']"
   ]
  },
  {
   "cell_type": "code",
   "execution_count": 24,
   "metadata": {},
   "outputs": [],
   "source": [
    "def compute_rmse_rr(pred, rating):\n",
    "    err = rating - pred\n",
    "    mse = err**2\n",
    "    return np.sqrt(np.mean(mse.mean(skipna=True)))"
   ]
  },
  {
   "cell_type": "code",
   "execution_count": 18,
   "metadata": {},
   "outputs": [],
   "source": [
    "def update_user_features(W,Z,train_df,lambda_,num_users):\n",
    "    user_ft_data = train_df.set_index('Movie').join(Z).sort_values('User').set_index('User')\n",
    "    model = Ridge(fit_intercept=False,alpha = lambda_)\n",
    "    \n",
    "    for i in range(1,num_users+1):\n",
    "        X = user_ft_data.loc[i,user_ft_data.columns!='Rating']\n",
    "        y = user_ft_data.loc[i,'Rating']\n",
    "        model.fit(X,y)\n",
    "        W.loc[i,:] = model.coef_\n",
    "    return W\n",
    "\n",
    "\n",
    "def update_movie_features(W,Z,train_df,lambda_,num_movies):\n",
    "    movie_ft_data = train_df.set_index('User').join(W).sort_values('Movie').set_index('Movie')\n",
    "    model = Ridge(fit_intercept=False,alpha = lambda_)\n",
    "    \n",
    "    for i in range(1,num_movies+1):\n",
    "        X = movie_ft_data.loc[i,movie_ft_data.columns!='Rating']\n",
    "        y = movie_ft_data.loc[i,'Rating']\n",
    "        model.fit(X,y)\n",
    "        Z.loc[i,:] = model.coef_\n",
    "    return Z"
   ]
  },
  {
   "cell_type": "code",
   "execution_count": 26,
   "metadata": {},
   "outputs": [],
   "source": [
    "def MF_RR(train_tr, rating,num_features,lambda_,iterations=20):\n",
    "    \"\"\"Alternating Least Squares (ALS) algorithm.\"\"\"\n",
    "    # define parameters\n",
    "    stop_criterion = 1e-5\n",
    "    change = 1\n",
    "    error_list = [0, 0]\n",
    "    it = 0\n",
    " \n",
    "    num_users, num_movies = len(rating),len(rating.columns)\n",
    "    # init matrix\n",
    "    user_features = pd.DataFrame(np.random.rand(num_users,num_features),index=range(1,num_users+1),columns=range(1,num_features+1))\n",
    "    movie_features = pd.DataFrame(np.random.rand(num_movies,num_features),index=range(1,num_movies+1),columns=range(1,num_features+1))\n",
    "    \n",
    "    train_rmse = 0\n",
    "    W = user_features.copy()\n",
    "    Z = movie_features.copy()\n",
    "    # start ALS\n",
    "    while(it < iterations):\n",
    "        W = update_user_features(W,Z,train_tr,lambda_,num_users)\n",
    "        \n",
    "        Z = update_movie_features(W,Z,train_tr,lambda_,num_movies)\n",
    "        pred = W.dot(Z.T)\n",
    "        pred[pred > 5] = 5\n",
    "        pred[pred < 1] = 1\n",
    "        train_rmse = compute_rmse_rr(pred,rating)\n",
    "        print(\"MF-RR training RMSE : {err}\".format(err=train_rmse))\n",
    "        error_list.append(train_rmse)\n",
    "        change = np.fabs(error_list[-1] - error_list[-2])\n",
    "        if (change < stop_criterion):\n",
    "            print(\"Converge!\")\n",
    "            break;\n",
    "            \n",
    "        it += 1\n",
    "        \n",
    "#     print(\"MF-RR Final training RMSE : {err}\".format(err=train_rmse))\n",
    "    return W,Z"
   ]
  },
  {
   "cell_type": "code",
   "execution_count": 57,
   "metadata": {},
   "outputs": [],
   "source": [
    "def mf_rr_algo(model,train_df,test_df):\n",
    "    \n",
    "    num_features = 20\n",
    "    lambda_ = 19\n",
    "    \n",
    "    rating = train_df.pivot(index=\"User\",columns=\"Movie\",values=\"Rating\")\n",
    "    \n",
    "    user_features,movie_features = MF_RR(train_df,rating,num_features,lambda_,iterations=20)\n",
    "    \n",
    "    pred = user_features.dot(movie_features.T)\n",
    "    pred[pred > 5] = 5\n",
    "    pred[pred < 1] = 1\n",
    "    \n",
    "    test_user = test_df['User'].values\n",
    "    test_movie = test_df['Movie'].values\n",
    "    \n",
    "    pred_test =[]\n",
    "    for user,movie in zip(test_user,test_movie):\n",
    "        pred_rating = pred.loc[user,movie]\n",
    "        pred_test.append(pred_rating)\n",
    "        \n",
    "    pred_test = np.asarray(pred_test)\n",
    "\n",
    "    test_ret = test_df.copy()\n",
    "    test_ret.drop(columns='Rating',inplace=True)\n",
    "    test_ret['Rating'] = pred_test\n",
    "    prediction = test_ret.copy()\n",
    "#     prediction = create_csv_submission(test_ret)\n",
    "    \n",
    "    return prediction"
   ]
  },
  {
   "cell_type": "markdown",
   "metadata": {},
   "source": [
    "## Test MFRR algo"
   ]
  },
  {
   "cell_type": "code",
   "execution_count": 54,
   "metadata": {},
   "outputs": [
    {
     "name": "stdout",
     "output_type": "stream",
     "text": [
      "[load_dataset] Valid: (1176952, 3)\n",
      "[load_dataset] Valid: (1176952, 3)\n"
     ]
    }
   ],
   "source": [
    "train_dataset = \"./data/data_train.csv\"\n",
    "test_dataset = \"./data/sampleSubmission.csv\"\n",
    "\n",
    "train_df = load_dataset(train_dataset)\n",
    "test_df = load_dataset(test_dataset)"
   ]
  },
  {
   "cell_type": "code",
   "execution_count": 55,
   "metadata": {},
   "outputs": [
    {
     "name": "stdout",
     "output_type": "stream",
     "text": [
      "[split_dataset] Valid: (1176952, 3)\n"
     ]
    }
   ],
   "source": [
    "train_tr, test_tr = split_dataset(train_df,p_test=0.5)"
   ]
  },
  {
   "cell_type": "code",
   "execution_count": 58,
   "metadata": {},
   "outputs": [
    {
     "name": "stdout",
     "output_type": "stream",
     "text": [
      "MF-RR training RMSE : 0.9888417362091013\n",
      "MF-RR training RMSE : 0.9756442891414643\n",
      "MF-RR training RMSE : 0.9648709136415702\n",
      "MF-RR training RMSE : 0.9582898528767403\n",
      "MF-RR training RMSE : 0.9539443183324987\n",
      "MF-RR training RMSE : 0.95109905813012\n",
      "MF-RR training RMSE : 0.9493085565853918\n",
      "MF-RR training RMSE : 0.9482580792515908\n",
      "MF-RR training RMSE : 0.9477215880370957\n",
      "MF-RR training RMSE : 0.9475373528892748\n",
      "MF-RR training RMSE : 0.9475919504153082\n",
      "MF-RR training RMSE : 0.9478056930300627\n",
      "MF-RR training RMSE : 0.9481229623670366\n",
      "MF-RR training RMSE : 0.9485047767673412\n",
      "MF-RR training RMSE : 0.9489231249984413\n",
      "MF-RR training RMSE : 0.9493588556197821\n",
      "MF-RR training RMSE : 0.9497977406294663\n",
      "MF-RR training RMSE : 0.9502297963659893\n",
      "MF-RR training RMSE : 0.9506478322941487\n",
      "MF-RR training RMSE : 0.9510469817429116\n"
     ]
    }
   ],
   "source": [
    "prediction = mf_rr_algo(\"\",train_tr,test_tr)"
   ]
  },
  {
   "cell_type": "code",
   "execution_count": 60,
   "metadata": {},
   "outputs": [
    {
     "data": {
      "text/html": [
       "<div>\n",
       "<style scoped>\n",
       "    .dataframe tbody tr th:only-of-type {\n",
       "        vertical-align: middle;\n",
       "    }\n",
       "\n",
       "    .dataframe tbody tr th {\n",
       "        vertical-align: top;\n",
       "    }\n",
       "\n",
       "    .dataframe thead th {\n",
       "        text-align: right;\n",
       "    }\n",
       "</style>\n",
       "<table border=\"1\" class=\"dataframe\">\n",
       "  <thead>\n",
       "    <tr style=\"text-align: right;\">\n",
       "      <th></th>\n",
       "      <th>User</th>\n",
       "      <th>Movie</th>\n",
       "      <th>Rating</th>\n",
       "    </tr>\n",
       "  </thead>\n",
       "  <tbody>\n",
       "    <tr>\n",
       "      <th>0</th>\n",
       "      <td>2135</td>\n",
       "      <td>741</td>\n",
       "      <td>3.845605</td>\n",
       "    </tr>\n",
       "    <tr>\n",
       "      <th>1</th>\n",
       "      <td>6850</td>\n",
       "      <td>357</td>\n",
       "      <td>2.125287</td>\n",
       "    </tr>\n",
       "    <tr>\n",
       "      <th>2</th>\n",
       "      <td>4393</td>\n",
       "      <td>440</td>\n",
       "      <td>3.244223</td>\n",
       "    </tr>\n",
       "    <tr>\n",
       "      <th>3</th>\n",
       "      <td>365</td>\n",
       "      <td>42</td>\n",
       "      <td>3.354287</td>\n",
       "    </tr>\n",
       "    <tr>\n",
       "      <th>4</th>\n",
       "      <td>9660</td>\n",
       "      <td>546</td>\n",
       "      <td>3.764170</td>\n",
       "    </tr>\n",
       "  </tbody>\n",
       "</table>\n",
       "</div>"
      ],
      "text/plain": [
       "   User  Movie    Rating\n",
       "0  2135    741  3.845605\n",
       "1  6850    357  2.125287\n",
       "2  4393    440  3.244223\n",
       "3   365     42  3.354287\n",
       "4  9660    546  3.764170"
      ]
     },
     "execution_count": 60,
     "metadata": {},
     "output_type": "execute_result"
    }
   ],
   "source": [
    "prediction.head()"
   ]
  },
  {
   "cell_type": "markdown",
   "metadata": {},
   "source": [
    "## Debug for each"
   ]
  },
  {
   "cell_type": "code",
   "execution_count": 15,
   "metadata": {},
   "outputs": [
    {
     "name": "stdout",
     "output_type": "stream",
     "text": [
      "[load_dataset] Valid: (1176952, 3)\n",
      "[load_dataset] Valid: (1176952, 3)\n",
      "[split_dataset] Valid: (1176952, 3)\n"
     ]
    }
   ],
   "source": [
    "train_dataset = \"./data/data_train.csv\"\n",
    "test_dataset = \"./data/sampleSubmission.csv\"\n",
    "\n",
    "train_df = load_dataset(train_dataset)\n",
    "test_df = load_dataset(test_dataset)\n",
    "train_tr, test_tr = split_dataset(train_df)\n",
    "# train_tr = train_tr.pivot(index=\"User\",columns=\"Movie\",values=\"Rating\").fillna(0)\n",
    "# test_tr = test_tr.pivot(index=\"User\",columns=\"Movie\",values=\"Rating\").fillna(0)"
   ]
  },
  {
   "cell_type": "code",
   "execution_count": 16,
   "metadata": {},
   "outputs": [],
   "source": [
    "rating = train_df.pivot(index=\"User\",columns=\"Movie\",values=\"Rating\")"
   ]
  },
  {
   "cell_type": "code",
   "execution_count": 27,
   "metadata": {},
   "outputs": [
    {
     "name": "stdout",
     "output_type": "stream",
     "text": [
      "MF-RR training RMSE : 0.9962715663977991\n",
      "MF-RR training RMSE : 0.9821503744810715\n",
      "MF-RR training RMSE : 0.9715191976415806\n",
      "MF-RR training RMSE : 0.9648483388734127\n",
      "MF-RR training RMSE : 0.9609606277479182\n",
      "MF-RR training RMSE : 0.958657229973747\n",
      "MF-RR training RMSE : 0.9572381437650561\n",
      "MF-RR training RMSE : 0.9563431546319633\n",
      "MF-RR training RMSE : 0.9557697728835788\n",
      "MF-RR training RMSE : 0.9554186642932773\n",
      "MF-RR training RMSE : 0.9552258745111935\n",
      "MF-RR training RMSE : 0.9551474234591418\n",
      "MF-RR training RMSE : 0.9551523752923804\n",
      "Converge!\n"
     ]
    }
   ],
   "source": [
    "num_features = 20\n",
    "lambda_ = 19\n",
    "user_features,movie_features = MF_RR(train_tr,rating,num_features,lambda_,iterations=20)"
   ]
  },
  {
   "cell_type": "code",
   "execution_count": 28,
   "metadata": {},
   "outputs": [],
   "source": [
    "pred = user_features.dot(movie_features.T)\n",
    "pred[pred > 5] = 5\n",
    "pred[pred < 1] = 1"
   ]
  },
  {
   "cell_type": "code",
   "execution_count": 31,
   "metadata": {},
   "outputs": [],
   "source": [
    "test_user = test_tr['User'].values\n",
    "test_movie = test_tr['Movie'].values"
   ]
  },
  {
   "cell_type": "code",
   "execution_count": 43,
   "metadata": {},
   "outputs": [],
   "source": [
    "pred_test =[]\n",
    "for user,movie in zip(test_user,test_movie):\n",
    "    pred_rating = pred.loc[user,movie]\n",
    "    pred_test.append(pred_rating)\n",
    "pred_test = np.asarray(pred_test)\n",
    "pred_test[pred_test > 5] = 5\n",
    "pred_test[pred_test < 1] = 1\n",
    "test_ret = test_tr.copy()\n",
    "test_ret['Pred'] = pred_test"
   ]
  },
  {
   "cell_type": "code",
   "execution_count": 45,
   "metadata": {},
   "outputs": [],
   "source": [
    "err = test_ret['Rating']-test_ret['Pred']\n",
    "mse = err**2\n",
    "rmse = np.sqrt(mse.mean())"
   ]
  },
  {
   "cell_type": "code",
   "execution_count": 46,
   "metadata": {},
   "outputs": [
    {
     "data": {
      "text/plain": [
       "1.0082348576201594"
      ]
     },
     "execution_count": 46,
     "metadata": {},
     "output_type": "execute_result"
    }
   ],
   "source": [
    "rmse"
   ]
  }
 ],
 "metadata": {
  "kernelspec": {
   "display_name": "Python 3",
   "language": "python",
   "name": "python3"
  },
  "language_info": {
   "codemirror_mode": {
    "name": "ipython",
    "version": 3
   },
   "file_extension": ".py",
   "mimetype": "text/x-python",
   "name": "python",
   "nbconvert_exporter": "python",
   "pygments_lexer": "ipython3",
   "version": "3.6.6"
  }
 },
 "nbformat": 4,
 "nbformat_minor": 2
}
