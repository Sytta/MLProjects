{
 "cells": [
  {
   "cell_type": "code",
   "execution_count": 2,
   "metadata": {},
   "outputs": [],
   "source": [
    "from helpers import *\n",
    "import pandas as pd\n",
    "from spotlight.interactions import Interactions\n",
    "from spotlight.cross_validation import random_train_test_split\n",
    "from spotlight.evaluation import rmse_score\n",
    "from spotlight.factorization.explicit import ExplicitFactorizationModel\n",
    "import torch\n",
    "import time\n",
    "import datetime "
   ]
  },
  {
   "cell_type": "code",
   "execution_count": 3,
   "metadata": {},
   "outputs": [],
   "source": [
    "train_dataset = \"./datas/data_train.csv\"\n",
    "test_dataset = \"./datas/sampleSubmission.csv\""
   ]
  },
  {
   "cell_type": "code",
   "execution_count": 4,
   "metadata": {},
   "outputs": [],
   "source": [
    "train = load_dataset(train_dataset)\n",
    "test = load_dataset(test_dataset)\n",
    "# train_tr, test_tr = split_dataset(train_df)"
   ]
  },
  {
   "cell_type": "code",
   "execution_count": 5,
   "metadata": {},
   "outputs": [],
   "source": [
    "# Explicitly convert into datatypes needed by spotlight models\n",
    "user_tr = np.array(train.User, dtype=np.int32)\n",
    "movie_tr = np.array(train.Movie, dtype=np.int32)\n",
    "rating_tr = np.array(train.Rating, dtype=np.float32)\n",
    "user_te = np.array(train.User, dtype=np.int32)\n",
    "movie_te = np.array(train.Movie, dtype=np.int32)\n",
    "# num_users = len(train.User.unique())\n",
    "# num_items = len(train.Movie.unique())"
   ]
  },
  {
   "cell_type": "code",
   "execution_count": 6,
   "metadata": {},
   "outputs": [],
   "source": [
    "#spotlight.factorization.explicit.ExplicitFactorizationModel(loss='regression', embedding_dim=32, n_iter=10, \n",
    "#batch_size=256, l2=0.0, learning_rate=0.01, optimizer_func=None, use_cuda=False, representation=None, \n",
    "#sparse=False, random_state=None)\n",
    "\n",
    "#(user_ids, item_ids, ratings=None, timestamps=None, weights=None, num_users=None, num_items=None)\n",
    "\n",
    "train_data = Interactions(user_ids=user_tr, item_ids=movie_tr, ratings=rating_tr)\n",
    "test_data = Interactions(user_ids=user_tr, item_ids=movie_te)"
   ]
  },
  {
   "cell_type": "code",
   "execution_count": 6,
   "metadata": {},
   "outputs": [],
   "source": [
    "model = ExplicitFactorizationModel(loss='regression',\n",
    "                                   embedding_dim=128,  # latent dimensionality\n",
    "                                   n_iter=10,  # number of epochs of training\n",
    "                                   batch_size=1024,  # minibatch size\n",
    "                                   l2=1e-9,  # strength of L2 regularization\n",
    "                                   learning_rate=1e-3,\n",
    "                                   use_cuda=torch.cuda.is_available())"
   ]
  },
  {
   "cell_type": "code",
   "execution_count": 7,
   "metadata": {},
   "outputs": [
    {
     "name": "stdout",
     "output_type": "stream",
     "text": [
      "Epoch 0: loss 3.7733740256661954\n",
      "Epoch 1: loss 1.0350730077080104\n",
      "Epoch 2: loss 1.0120432836594788\n",
      "Epoch 3: loss 0.9867667126655578\n",
      "Epoch 4: loss 0.9654490405061971\n",
      "Epoch 5: loss 0.9378023430575495\n",
      "Epoch 6: loss 0.8966138672828674\n",
      "Epoch 7: loss 0.8377001707968504\n",
      "Epoch 8: loss 0.7613696554951046\n",
      "Epoch 9: loss 0.6713688180757605\n"
     ]
    }
   ],
   "source": [
    "model.fit(train_data, verbose=True)"
   ]
  },
  {
   "cell_type": "code",
   "execution_count": 8,
   "metadata": {},
   "outputs": [],
   "source": [
    "# train_rmse = rmse_score(model, train_tr_data)\n",
    "# test_rmse = rmse_score(model, test_tr_data)\n",
    "\n",
    "# print('Train RMSE {:.3f}, test RMSE {:.3f}'.format(train_rmse, test_rmse))"
   ]
  },
  {
   "cell_type": "code",
   "execution_count": 9,
   "metadata": {},
   "outputs": [],
   "source": [
    "predictions = model.predict(user_te, movie_te)"
   ]
  },
  {
   "cell_type": "code",
   "execution_count": 12,
   "metadata": {},
   "outputs": [
    {
     "data": {
      "text/html": [
       "<div>\n",
       "<style scoped>\n",
       "    .dataframe tbody tr th:only-of-type {\n",
       "        vertical-align: middle;\n",
       "    }\n",
       "\n",
       "    .dataframe tbody tr th {\n",
       "        vertical-align: top;\n",
       "    }\n",
       "\n",
       "    .dataframe thead th {\n",
       "        text-align: right;\n",
       "    }\n",
       "</style>\n",
       "<table border=\"1\" class=\"dataframe\">\n",
       "  <thead>\n",
       "    <tr style=\"text-align: right;\">\n",
       "      <th></th>\n",
       "      <th>User</th>\n",
       "      <th>Movie</th>\n",
       "      <th>Rating</th>\n",
       "    </tr>\n",
       "  </thead>\n",
       "  <tbody>\n",
       "    <tr>\n",
       "      <th>0</th>\n",
       "      <td>44</td>\n",
       "      <td>1</td>\n",
       "      <td>4.013346</td>\n",
       "    </tr>\n",
       "    <tr>\n",
       "      <th>1</th>\n",
       "      <td>61</td>\n",
       "      <td>1</td>\n",
       "      <td>3.994558</td>\n",
       "    </tr>\n",
       "    <tr>\n",
       "      <th>2</th>\n",
       "      <td>67</td>\n",
       "      <td>1</td>\n",
       "      <td>3.406853</td>\n",
       "    </tr>\n",
       "    <tr>\n",
       "      <th>3</th>\n",
       "      <td>72</td>\n",
       "      <td>1</td>\n",
       "      <td>3.683364</td>\n",
       "    </tr>\n",
       "    <tr>\n",
       "      <th>4</th>\n",
       "      <td>86</td>\n",
       "      <td>1</td>\n",
       "      <td>3.744920</td>\n",
       "    </tr>\n",
       "  </tbody>\n",
       "</table>\n",
       "</div>"
      ],
      "text/plain": [
       "   User  Movie    Rating\n",
       "0    44      1  4.013346\n",
       "1    61      1  3.994558\n",
       "2    67      1  3.406853\n",
       "3    72      1  3.683364\n",
       "4    86      1  3.744920"
      ]
     },
     "execution_count": 12,
     "metadata": {},
     "output_type": "execute_result"
    }
   ],
   "source": [
    "predictions_df = pd.DataFrame()\n",
    "predictions_df['User'] = user_te\n",
    "predictions_df['Movie'] = movie_te\n",
    "predictions_df['Rating'] = predictions\n",
    "\n",
    "predictions_df.head()"
   ]
  },
  {
   "cell_type": "code",
   "execution_count": 29,
   "metadata": {},
   "outputs": [
    {
     "name": "stdout",
     "output_type": "stream",
     "text": [
      "Creating submission file...\n"
     ]
    }
   ],
   "source": [
    "submission = create_csv_submission(predictions_df)"
   ]
  },
  {
   "cell_type": "code",
   "execution_count": 30,
   "metadata": {},
   "outputs": [],
   "source": [
    "submission.to_csv(\"spotlight.csv\")"
   ]
  },
  {
   "cell_type": "code",
   "execution_count": 7,
   "metadata": {},
   "outputs": [],
   "source": [
    "# -----------Time: 0:11:05.077740, Loss: regression, n_iter: 50, l2: 1e-05, batch_size: 256, learning_rate: 0.0001, embedding_dim: 150, rmse: 0.9847699999809265-------------\n",
    "model_en = ExplicitFactorizationModel(loss='regression',\n",
    "                                   embedding_dim=150,  # latent dimensionality\n",
    "                                   n_iter=50,  # number of epochs of training\n",
    "                                   batch_size=256,  # minibatch size\n",
    "                                   l2=1e-5,  # strength of L2 regularization\n",
    "                                   learning_rate=0.0001,\n",
    "                                   use_cuda=torch.cuda.is_available())"
   ]
  },
  {
   "cell_type": "code",
   "execution_count": null,
   "metadata": {},
   "outputs": [
    {
     "name": "stdout",
     "output_type": "stream",
     "text": [
      "Epoch 0: loss 10.368889724238638\n",
      "Epoch 1: loss 1.4260485237606093\n"
     ]
    }
   ],
   "source": [
    "model_en.fit(train_data, verbose=True)"
   ]
  },
  {
   "cell_type": "code",
   "execution_count": null,
   "metadata": {},
   "outputs": [],
   "source": []
  },
  {
   "cell_type": "code",
   "execution_count": 8,
   "metadata": {},
   "outputs": [],
   "source": [
    "# -----------Time: 0:05:04.112898, Loss: regression, n_iter: 20, l2: 1.3848863713938746e-15, batch_size: 256, learning_rate: 0.00018738174228603868, embedding_dim: 200, rmse: 0.9899572134017944-------------\n",
    "model2 = ExplicitFactorizationModel(loss='regression',\n",
    "                                   embedding_dim=200,  # latent dimensionality\n",
    "                                   n_iter=20,  # number of epochs of training\n",
    "                                   batch_size=256,  # minibatch size\n",
    "                                   l2=1.3848863713938746e-15,  # strength of L2 regularization\n",
    "                                   learning_rate=0.00018738174228603868,\n",
    "                                   use_cuda=torch.cuda.is_available())"
   ]
  },
  {
   "cell_type": "code",
   "execution_count": null,
   "metadata": {},
   "outputs": [],
   "source": [
    "model2.fit(train_data, verbose=True)"
   ]
  },
  {
   "cell_type": "code",
   "execution_count": null,
   "metadata": {},
   "outputs": [],
   "source": []
  }
 ],
 "metadata": {
  "kernelspec": {
   "display_name": "Python 3",
   "language": "python",
   "name": "python3"
  },
  "language_info": {
   "codemirror_mode": {
    "name": "ipython",
    "version": 3
   },
   "file_extension": ".py",
   "mimetype": "text/x-python",
   "name": "python",
   "nbconvert_exporter": "python",
   "pygments_lexer": "ipython3",
   "version": "3.6.7"
  }
 },
 "nbformat": 4,
 "nbformat_minor": 2
}
