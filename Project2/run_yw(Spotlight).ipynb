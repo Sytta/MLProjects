{
 "cells": [
  {
   "cell_type": "code",
   "execution_count": 2,
   "metadata": {},
   "outputs": [],
   "source": [
    "from helpers import *\n",
    "import pandas as pd\n",
    "from spotlight.interactions import Interactions\n",
    "from spotlight.cross_validation import random_train_test_split\n",
    "from spotlight.evaluation import rmse_score\n",
    "from spotlight.factorization.explicit import ExplicitFactorizationModel\n",
    "import torch\n",
    "import time\n",
    "import datetime "
   ]
  },
  {
   "cell_type": "code",
   "execution_count": 3,
   "metadata": {},
   "outputs": [],
   "source": [
    "train_dataset = \"./datas/data_train.csv\"\n",
    "test_dataset = \"./datas/sampleSubmission.csv\""
   ]
  },
  {
   "cell_type": "code",
   "execution_count": 4,
   "metadata": {},
   "outputs": [],
   "source": [
    "train = load_dataset(train_dataset)\n",
    "test = load_dataset(test_dataset)\n",
    "# train_tr, test_tr = split_dataset(train_df)"
   ]
  },
  {
   "cell_type": "code",
   "execution_count": 27,
   "metadata": {},
   "outputs": [],
   "source": [
    "# Explicitly convert into datatypes needed by spotlight models\n",
    "user_tr = np.array(train.User, dtype=np.int32)\n",
    "movie_tr = np.array(train.Movie, dtype=np.int32)\n",
    "rating_tr = np.array(train.Rating, dtype=np.float32)\n",
    "user_te = np.array(test.User, dtype=np.int32)\n",
    "movie_te = np.array(test.Movie, dtype=np.int32)\n",
    "# num_users = len(train.User.unique())\n",
    "# num_items = len(train.Movie.unique())"
   ]
  },
  {
   "cell_type": "code",
   "execution_count": 6,
   "metadata": {},
   "outputs": [],
   "source": [
    "#spotlight.factorization.explicit.ExplicitFactorizationModel(loss='regression', embedding_dim=32, n_iter=10, \n",
    "#batch_size=256, l2=0.0, learning_rate=0.01, optimizer_func=None, use_cuda=False, representation=None, \n",
    "#sparse=False, random_state=None)\n",
    "\n",
    "#(user_ids, item_ids, ratings=None, timestamps=None, weights=None, num_users=None, num_items=None)\n",
    "\n",
    "train_data = Interactions(user_ids=user_tr, item_ids=movie_tr, ratings=rating_tr)\n",
    "test_data = Interactions(user_ids=user_tr, item_ids=movie_te)"
   ]
  },
  {
   "cell_type": "code",
   "execution_count": 6,
   "metadata": {},
   "outputs": [],
   "source": [
    "model = ExplicitFactorizationModel(loss='regression',\n",
    "                                   embedding_dim=128,  # latent dimensionality\n",
    "                                   n_iter=10,  # number of epochs of training\n",
    "                                   batch_size=1024,  # minibatch size\n",
    "                                   l2=1e-9,  # strength of L2 regularization\n",
    "                                   learning_rate=1e-3,\n",
    "                                   use_cuda=torch.cuda.is_available())"
   ]
  },
  {
   "cell_type": "code",
   "execution_count": 7,
   "metadata": {},
   "outputs": [
    {
     "name": "stdout",
     "output_type": "stream",
     "text": [
      "Epoch 0: loss 3.7733740256661954\n",
      "Epoch 1: loss 1.0350730077080104\n",
      "Epoch 2: loss 1.0120432836594788\n",
      "Epoch 3: loss 0.9867667126655578\n",
      "Epoch 4: loss 0.9654490405061971\n",
      "Epoch 5: loss 0.9378023430575495\n",
      "Epoch 6: loss 0.8966138672828674\n",
      "Epoch 7: loss 0.8377001707968504\n",
      "Epoch 8: loss 0.7613696554951046\n",
      "Epoch 9: loss 0.6713688180757605\n"
     ]
    }
   ],
   "source": [
    "model.fit(train_data, verbose=True)"
   ]
  },
  {
   "cell_type": "code",
   "execution_count": 8,
   "metadata": {},
   "outputs": [],
   "source": [
    "# train_rmse = rmse_score(model, train_tr_data)\n",
    "# test_rmse = rmse_score(model, test_tr_data)\n",
    "\n",
    "# print('Train RMSE {:.3f}, test RMSE {:.3f}'.format(train_rmse, test_rmse))"
   ]
  },
  {
   "cell_type": "code",
   "execution_count": 9,
   "metadata": {},
   "outputs": [],
   "source": [
    "predictions = model.predict(user_te, movie_te)"
   ]
  },
  {
   "cell_type": "code",
   "execution_count": 12,
   "metadata": {},
   "outputs": [
    {
     "data": {
      "text/html": [
       "<div>\n",
       "<style scoped>\n",
       "    .dataframe tbody tr th:only-of-type {\n",
       "        vertical-align: middle;\n",
       "    }\n",
       "\n",
       "    .dataframe tbody tr th {\n",
       "        vertical-align: top;\n",
       "    }\n",
       "\n",
       "    .dataframe thead th {\n",
       "        text-align: right;\n",
       "    }\n",
       "</style>\n",
       "<table border=\"1\" class=\"dataframe\">\n",
       "  <thead>\n",
       "    <tr style=\"text-align: right;\">\n",
       "      <th></th>\n",
       "      <th>User</th>\n",
       "      <th>Movie</th>\n",
       "      <th>Rating</th>\n",
       "    </tr>\n",
       "  </thead>\n",
       "  <tbody>\n",
       "    <tr>\n",
       "      <th>0</th>\n",
       "      <td>44</td>\n",
       "      <td>1</td>\n",
       "      <td>4.013346</td>\n",
       "    </tr>\n",
       "    <tr>\n",
       "      <th>1</th>\n",
       "      <td>61</td>\n",
       "      <td>1</td>\n",
       "      <td>3.994558</td>\n",
       "    </tr>\n",
       "    <tr>\n",
       "      <th>2</th>\n",
       "      <td>67</td>\n",
       "      <td>1</td>\n",
       "      <td>3.406853</td>\n",
       "    </tr>\n",
       "    <tr>\n",
       "      <th>3</th>\n",
       "      <td>72</td>\n",
       "      <td>1</td>\n",
       "      <td>3.683364</td>\n",
       "    </tr>\n",
       "    <tr>\n",
       "      <th>4</th>\n",
       "      <td>86</td>\n",
       "      <td>1</td>\n",
       "      <td>3.744920</td>\n",
       "    </tr>\n",
       "  </tbody>\n",
       "</table>\n",
       "</div>"
      ],
      "text/plain": [
       "   User  Movie    Rating\n",
       "0    44      1  4.013346\n",
       "1    61      1  3.994558\n",
       "2    67      1  3.406853\n",
       "3    72      1  3.683364\n",
       "4    86      1  3.744920"
      ]
     },
     "execution_count": 12,
     "metadata": {},
     "output_type": "execute_result"
    }
   ],
   "source": [
    "predictions_df = pd.DataFrame()\n",
    "predictions_df['User'] = user_te\n",
    "predictions_df['Movie'] = movie_te\n",
    "predictions_df['Rating'] = predictions\n",
    "\n",
    "predictions_df.head()"
   ]
  },
  {
   "cell_type": "code",
   "execution_count": 29,
   "metadata": {},
   "outputs": [
    {
     "name": "stdout",
     "output_type": "stream",
     "text": [
      "Creating submission file...\n"
     ]
    }
   ],
   "source": [
    "submission = create_csv_submission(predictions_df)"
   ]
  },
  {
   "cell_type": "code",
   "execution_count": 30,
   "metadata": {},
   "outputs": [],
   "source": [
    "submission.to_csv(\"spotlight.csv\")"
   ]
  },
  {
   "cell_type": "code",
   "execution_count": 7,
   "metadata": {},
   "outputs": [],
   "source": [
    "# -----------Time: 0:11:05.077740, Loss: regression, n_iter: 50, l2: 1e-05, batch_size: 256, learning_rate: 0.0001, embedding_dim: 150, rmse: 0.9847699999809265-------------\n",
    "model_en = ExplicitFactorizationModel(loss='regression',\n",
    "                                   embedding_dim=150,  # latent dimensionality\n",
    "                                   n_iter=50,  # number of epochs of training\n",
    "                                   batch_size=256,  # minibatch size\n",
    "                                   l2=1e-5,  # strength of L2 regularization\n",
    "                                   learning_rate=0.0001,\n",
    "                                   use_cuda=torch.cuda.is_available())"
   ]
  },
  {
   "cell_type": "code",
   "execution_count": 9,
   "metadata": {},
   "outputs": [
    {
     "name": "stdout",
     "output_type": "stream",
     "text": [
      "Epoch 0: loss 10.368889724238638\n",
      "Epoch 1: loss 1.4260485237606093\n",
      "Epoch 2: loss 1.0336816859483822\n",
      "Epoch 3: loss 1.0059397320039067\n",
      "Epoch 4: loss 1.0015464652720198\n",
      "Epoch 5: loss 1.0004634259705338\n",
      "Epoch 6: loss 0.9999525780623869\n",
      "Epoch 7: loss 0.9994931217897141\n",
      "Epoch 8: loss 0.9990492399462725\n",
      "Epoch 9: loss 0.998692056338338\n",
      "Epoch 10: loss 0.9980171905257692\n",
      "Epoch 11: loss 0.9974114759790736\n",
      "Epoch 12: loss 0.9965395889965645\n",
      "Epoch 13: loss 0.9954941436330771\n",
      "Epoch 14: loss 0.9940085963561982\n",
      "Epoch 15: loss 0.992498328111233\n",
      "Epoch 16: loss 0.990378863659046\n",
      "Epoch 17: loss 0.9883615037263502\n",
      "Epoch 18: loss 0.9860533290891452\n",
      "Epoch 19: loss 0.9835981001875721\n",
      "Epoch 20: loss 0.9810621489152125\n",
      "Epoch 21: loss 0.9784472995916104\n",
      "Epoch 22: loss 0.9756516686933566\n",
      "Epoch 23: loss 0.9728106635842649\n",
      "Epoch 24: loss 0.9700713580512337\n",
      "Epoch 25: loss 0.9670148671269676\n",
      "Epoch 26: loss 0.9638251552456304\n",
      "Epoch 27: loss 0.9605304157801325\n",
      "Epoch 28: loss 0.9565944997913789\n",
      "Epoch 29: loss 0.9523780095857245\n",
      "Epoch 30: loss 0.9476613812780526\n",
      "Epoch 31: loss 0.9423542801272926\n",
      "Epoch 32: loss 0.9365840633701583\n",
      "Epoch 33: loss 0.9301551886619097\n",
      "Epoch 34: loss 0.9231013513067693\n",
      "Epoch 35: loss 0.9155777429253602\n",
      "Epoch 36: loss 0.9073826896724311\n",
      "Epoch 37: loss 0.8986524264674541\n",
      "Epoch 38: loss 0.8892546121505822\n",
      "Epoch 39: loss 0.8792104820626463\n",
      "Epoch 40: loss 0.8686260931540594\n",
      "Epoch 41: loss 0.85719827744379\n",
      "Epoch 42: loss 0.8451197293853179\n",
      "Epoch 43: loss 0.8322857108749789\n",
      "Epoch 44: loss 0.8187878546169293\n",
      "Epoch 45: loss 0.8045044097240824\n",
      "Epoch 46: loss 0.789493038686476\n",
      "Epoch 47: loss 0.7736910523643385\n",
      "Epoch 48: loss 0.7570899019764008\n",
      "Epoch 49: loss 0.7400458964797506\n"
     ]
    }
   ],
   "source": [
    "model_en.fit(train_data, verbose=True)"
   ]
  },
  {
   "cell_type": "code",
   "execution_count": 37,
   "metadata": {
    "scrolled": true
   },
   "outputs": [
    {
     "name": "stdout",
     "output_type": "stream",
     "text": [
      "   User  Movie    Rating\n",
      "0    37      1  3.239807\n",
      "1    73      1  2.971795\n",
      "2   156      1  3.782236\n",
      "3   160      1  3.106833\n",
      "4   248      1  3.446185\n",
      "Creating submission file...\n"
     ]
    }
   ],
   "source": [
    "predictions_en = model_en.predict(user_te, movie_te)\n",
    "predictions_df_en = pd.DataFrame()\n",
    "predictions_df_en['User'] = user_te\n",
    "predictions_df_en['Movie'] = movie_te\n",
    "predictions_df_en['Rating'] = predictions_en\n",
    "\n",
    "print(predictions_df_en.head())\n",
    "\n",
    "submission_en = create_csv_submission(predictions_df_en)\n"
   ]
  },
  {
   "cell_type": "code",
   "execution_count": 38,
   "metadata": {},
   "outputs": [],
   "source": [
    "submission_en.to_csv(\"spotlight_enlarged.csv\")"
   ]
  },
  {
   "cell_type": "code",
   "execution_count": 8,
   "metadata": {},
   "outputs": [],
   "source": [
    "# -----------Time: 0:05:04.112898, Loss: regression, n_iter: 20, l2: 1.3848863713938746e-15, batch_size: 256, learning_rate: 0.00018738174228603868, embedding_dim: 200, rmse: 0.9899572134017944-------------\n",
    "model2 = ExplicitFactorizationModel(loss='regression',\n",
    "                                   embedding_dim=200,  # latent dimensionality\n",
    "                                   n_iter=20,  # number of epochs of training\n",
    "                                   batch_size=256,  # minibatch size\n",
    "                                   l2=1.3848863713938746e-15,  # strength of L2 regularization\n",
    "                                   learning_rate=0.00018738174228603868,\n",
    "                                   use_cuda=torch.cuda.is_available())"
   ]
  },
  {
   "cell_type": "code",
   "execution_count": 10,
   "metadata": {},
   "outputs": [
    {
     "name": "stdout",
     "output_type": "stream",
     "text": [
      "Epoch 0: loss 5.42496124735704\n",
      "Epoch 1: loss 1.0275038062826143\n",
      "Epoch 2: loss 1.0165661359128872\n",
      "Epoch 3: loss 1.0152426608597107\n",
      "Epoch 4: loss 1.0141553155050531\n",
      "Epoch 5: loss 1.0125589095130596\n",
      "Epoch 6: loss 1.0100998618048966\n",
      "Epoch 7: loss 1.0063645007715063\n",
      "Epoch 8: loss 1.0007831244403356\n",
      "Epoch 9: loss 0.9935231192856573\n",
      "Epoch 10: loss 0.9848079140962026\n",
      "Epoch 11: loss 0.9756279875916883\n",
      "Epoch 12: loss 0.9647848259344884\n",
      "Epoch 13: loss 0.9515543302902713\n",
      "Epoch 14: loss 0.9348213510727976\n",
      "Epoch 15: loss 0.9142228018827883\n",
      "Epoch 16: loss 0.8892097840131807\n",
      "Epoch 17: loss 0.859128309856969\n",
      "Epoch 18: loss 0.8237335480986185\n",
      "Epoch 19: loss 0.7826983401857287\n"
     ]
    }
   ],
   "source": [
    "model2.fit(train_data, verbose=True)"
   ]
  },
  {
   "cell_type": "code",
   "execution_count": 39,
   "metadata": {},
   "outputs": [
    {
     "name": "stdout",
     "output_type": "stream",
     "text": [
      "   User  Movie    Rating\n",
      "0    37      1  3.307779\n",
      "1    73      1  3.104012\n",
      "2   156      1  3.828374\n",
      "3   160      1  3.423509\n",
      "4   248      1  3.575156\n",
      "Creating submission file...\n"
     ]
    }
   ],
   "source": [
    "predictions_2 = model2.predict(user_te, movie_te)\n",
    "predictions_df_2 = pd.DataFrame()\n",
    "predictions_df_2['User'] = user_te\n",
    "predictions_df_2['Movie'] = movie_te\n",
    "predictions_df_2['Rating'] = predictions_2\n",
    "\n",
    "print(predictions_df_2.head())\n",
    "\n",
    "submission_2 = create_csv_submission(predictions_df_2)\n",
    "submission_2.to_csv(\"spotlight_2.csv\")"
   ]
  },
  {
   "cell_type": "code",
   "execution_count": 21,
   "metadata": {},
   "outputs": [
    {
     "data": {
      "text/plain": [
       "(1176952, 2)"
      ]
     },
     "execution_count": 21,
     "metadata": {},
     "output_type": "execute_result"
    }
   ],
   "source": [
    "pyfm = pd.read_csv(\"pyFM.csv\", index_col=0)"
   ]
  },
  {
   "cell_type": "code",
   "execution_count": 32,
   "metadata": {},
   "outputs": [
    {
     "data": {
      "text/html": [
       "<div>\n",
       "<style scoped>\n",
       "    .dataframe tbody tr th:only-of-type {\n",
       "        vertical-align: middle;\n",
       "    }\n",
       "\n",
       "    .dataframe tbody tr th {\n",
       "        vertical-align: top;\n",
       "    }\n",
       "\n",
       "    .dataframe thead th {\n",
       "        text-align: right;\n",
       "    }\n",
       "</style>\n",
       "<table border=\"1\" class=\"dataframe\">\n",
       "  <thead>\n",
       "    <tr style=\"text-align: right;\">\n",
       "      <th></th>\n",
       "      <th>Id</th>\n",
       "      <th>Prediction</th>\n",
       "    </tr>\n",
       "  </thead>\n",
       "  <tbody>\n",
       "    <tr>\n",
       "      <th>0</th>\n",
       "      <td>r37_c1</td>\n",
       "      <td>3</td>\n",
       "    </tr>\n",
       "    <tr>\n",
       "      <th>1</th>\n",
       "      <td>r73_c1</td>\n",
       "      <td>3</td>\n",
       "    </tr>\n",
       "    <tr>\n",
       "      <th>2</th>\n",
       "      <td>r156_c1</td>\n",
       "      <td>4</td>\n",
       "    </tr>\n",
       "    <tr>\n",
       "      <th>3</th>\n",
       "      <td>r160_c1</td>\n",
       "      <td>3</td>\n",
       "    </tr>\n",
       "    <tr>\n",
       "      <th>4</th>\n",
       "      <td>r248_c1</td>\n",
       "      <td>4</td>\n",
       "    </tr>\n",
       "  </tbody>\n",
       "</table>\n",
       "</div>"
      ],
      "text/plain": [
       "        Id  Prediction\n",
       "0   r37_c1           3\n",
       "1   r73_c1           3\n",
       "2  r156_c1           4\n",
       "3  r160_c1           3\n",
       "4  r248_c1           4"
      ]
     },
     "execution_count": 32,
     "metadata": {},
     "output_type": "execute_result"
    }
   ],
   "source": [
    "pyfm.head()"
   ]
  },
  {
   "cell_type": "code",
   "execution_count": 35,
   "metadata": {},
   "outputs": [],
   "source": [
    "def create_csv_submission(predictions):\n",
    "    \"\"\"Create submission file \"\"\"\n",
    "    print(\"Creating submission file...\")\n",
    "    def round_(x):\n",
    "        if x > 5:\n",
    "            return 5\n",
    "        elif x < 1:\n",
    "            return 1\n",
    "        else:\n",
    "            return round(x)\n",
    "     \n",
    "    predictions['Id'] = predictions.apply(lambda x: 'r{}_c{}'.format(int(x.User), int(x.Movie)), axis=1)\n",
    "    predictions['Prediction'] = predictions.Rating.apply(lambda x: round_(x))\n",
    "    return predictions[['Id', 'Prediction']]"
   ]
  },
  {
   "cell_type": "code",
   "execution_count": null,
   "metadata": {},
   "outputs": [],
   "source": []
  }
 ],
 "metadata": {
  "kernelspec": {
   "display_name": "Python 3",
   "language": "python",
   "name": "python3"
  },
  "language_info": {
   "codemirror_mode": {
    "name": "ipython",
    "version": 3
   },
   "file_extension": ".py",
   "mimetype": "text/x-python",
   "name": "python",
   "nbconvert_exporter": "python",
   "pygments_lexer": "ipython3",
   "version": "3.6.7"
  }
 },
 "nbformat": 4,
 "nbformat_minor": 2
}
