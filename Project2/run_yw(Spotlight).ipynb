{
 "cells": [
  {
   "cell_type": "code",
   "execution_count": 1,
   "metadata": {},
   "outputs": [],
   "source": [
    "from helpers import *\n",
    "import pandas as pd\n",
    "from spotlight.interactions import Interactions\n",
    "from spotlight.cross_validation import random_train_test_split\n",
    "# from spotlight.datasets.movielens import get_movielens_dataset\n",
    "from spotlight.evaluation import rmse_score\n",
    "from spotlight.factorization.explicit import ExplicitFactorizationModel\n",
    "import torch\n",
    "import time\n",
    "import datetime "
   ]
  },
  {
   "cell_type": "code",
   "execution_count": 2,
   "metadata": {},
   "outputs": [],
   "source": [
    "train_dataset = \"./datas/data_train.csv\"\n",
    "test_dataset = \"./datas/sampleSubmission.csv\""
   ]
  },
  {
   "cell_type": "code",
   "execution_count": 3,
   "metadata": {},
   "outputs": [],
   "source": [
    "train = load_dataset(train_dataset)\n",
    "test = load_dataset(test_dataset)\n",
    "# train_tr, test_tr = split_dataset(train_df)"
   ]
  },
  {
   "cell_type": "code",
   "execution_count": 7,
   "metadata": {},
   "outputs": [],
   "source": [
    "# Explicitly convert into datatypes needed by spotlight models\n",
    "user_tr = np.array(train.User, dtype=np.int32)\n",
    "movie_tr = np.array(train.Movie, dtype=np.int32)\n",
    "rating_tr = np.array(train.Rating, dtype=np.float32)\n",
    "user_te = np.array(train.User, dtype=np.int32)\n",
    "movie_te = np.array(train.Movie, dtype=np.int32)\n",
    "# num_users = len(train.User.unique())\n",
    "# num_items = len(train.Movie.unique())"
   ]
  },
  {
   "cell_type": "code",
   "execution_count": 10,
   "metadata": {},
   "outputs": [
    {
     "data": {
      "text/plain": [
       "array([[   44,     1,     4],\n",
       "       [   61,     1,     3],\n",
       "       [   67,     1,     4],\n",
       "       ...,\n",
       "       [ 9994,  1000,     3],\n",
       "       [ 9997,  1000,     4],\n",
       "       [10000,  1000,     3]])"
      ]
     },
     "execution_count": 10,
     "metadata": {},
     "output_type": "execute_result"
    }
   ],
   "source": [
    "train.values"
   ]
  },
  {
   "cell_type": "code",
   "execution_count": 5,
   "metadata": {},
   "outputs": [],
   "source": [
    "#spotlight.factorization.explicit.ExplicitFactorizationModel(loss='regression', embedding_dim=32, n_iter=10, \n",
    "#batch_size=256, l2=0.0, learning_rate=0.01, optimizer_func=None, use_cuda=False, representation=None, \n",
    "#sparse=False, random_state=None)\n",
    "\n",
    "#(user_ids, item_ids, ratings=None, timestamps=None, weights=None, num_users=None, num_items=None)\n",
    "\n",
    "train_data = Interactions(user_ids=user_tr, item_ids=movie_tr, ratings=rating_tr)\n",
    "test_data = Interactions(user_ids=user_tr, item_ids=movie_te)"
   ]
  },
  {
   "cell_type": "code",
   "execution_count": 6,
   "metadata": {},
   "outputs": [],
   "source": [
    "# Try differente measures for model\n",
    "\n",
    "\n",
    "\n",
    "model = ExplicitFactorizationModel(loss='regression',\n",
    "                                   embedding_dim=128,  # latent dimensionality\n",
    "                                   n_iter=100,  # number of epochs of training\n",
    "                                   batch_size=1024,  # minibatch size\n",
    "                                   l2=1e-9,  # strength of L2 regularization\n",
    "                                   learning_rate=1e-3,\n",
    "                                   use_cuda=torch.cuda.is_available())"
   ]
  },
  {
   "cell_type": "code",
   "execution_count": 54,
   "metadata": {},
   "outputs": [
    {
     "name": "stdout",
     "output_type": "stream",
     "text": [
      "Split into \n",
      " <Interactions dataset (10001 users x 1001 items x 941561 interactions)> and \n",
      " <Interactions dataset (10001 users x 1001 items x 235391 interactions)>.\n",
      "Epoch 0: loss 4.446086791287298\n",
      "Epoch 1: loss 1.0409307400817456\n",
      "Epoch 2: loss 1.0356640114732412\n",
      "Epoch 3: loss 1.0259268952452618\n",
      "Epoch 4: loss 1.0084546969636627\n",
      "Epoch 5: loss 0.9854768148582914\n",
      "Epoch 6: loss 0.9497285816332568\n",
      "Epoch 7: loss 0.897088973224163\n",
      "Epoch 8: loss 0.8260124109361483\n",
      "Epoch 9: loss 0.7404092589798181\n",
      "Epoch 10: loss 0.6458839933509412\n",
      "Epoch 11: loss 0.5516599723178407\n",
      "Epoch 12: loss 0.4656921215031458\n",
      "Epoch 13: loss 0.3921459426374539\n",
      "Epoch 14: loss 0.33249402587180554\n",
      "Epoch 15: loss 0.2848272685123526\n",
      "Epoch 16: loss 0.24745993826376356\n",
      "Epoch 17: loss 0.21786563934191414\n",
      "Epoch 18: loss 0.1942208067878433\n",
      "Epoch 19: loss 0.17500407276270183\n",
      "Epoch 20: loss 0.15930413391603077\n",
      "Epoch 21: loss 0.14609255061849305\n",
      "Epoch 22: loss 0.13494189626172834\n",
      "Epoch 23: loss 0.12552229946722154\n",
      "Epoch 24: loss 0.11731656258520873\n",
      "Epoch 25: loss 0.11007795175942389\n",
      "Epoch 26: loss 0.10378829972899478\n",
      "Epoch 27: loss 0.09802029887619226\n",
      "Epoch 28: loss 0.09312908182163601\n",
      "Epoch 29: loss 0.08858746904474886\n",
      "Epoch 30: loss 0.08453717065732116\n",
      "Epoch 31: loss 0.08085007471963764\n",
      "Epoch 32: loss 0.07748820309162788\n",
      "Epoch 33: loss 0.0744245362630033\n",
      "Epoch 34: loss 0.07158444086494653\n",
      "Epoch 35: loss 0.06903675631822451\n",
      "Epoch 36: loss 0.06664971214030747\n",
      "Epoch 37: loss 0.06443694355776129\n",
      "Epoch 38: loss 0.06233650675124448\n",
      "Epoch 39: loss 0.06049133222145231\n",
      "Epoch 40: loss 0.05878259684161648\n",
      "Epoch 41: loss 0.05700241781204291\n",
      "Epoch 42: loss 0.05549472062241124\n",
      "Epoch 43: loss 0.054094527807572616\n",
      "Epoch 44: loss 0.05269442109553062\n",
      "Epoch 45: loss 0.05144107296414997\n",
      "Epoch 46: loss 0.050226233284110605\n",
      "Epoch 47: loss 0.04905788102389678\n",
      "Epoch 48: loss 0.04800533339705156\n",
      "Epoch 49: loss 0.046952674303041855\n",
      "Epoch 50: loss 0.046000741207567246\n",
      "Epoch 51: loss 0.045039244911269004\n",
      "Epoch 52: loss 0.044134786374785975\n",
      "Epoch 53: loss 0.04339515227905434\n",
      "Epoch 54: loss 0.04257383959205902\n",
      "Epoch 55: loss 0.04182933676056564\n",
      "Epoch 56: loss 0.041110687140051436\n",
      "Epoch 57: loss 0.04038313123923929\n",
      "Epoch 58: loss 0.03974753168775984\n",
      "Epoch 59: loss 0.03908938905629127\n",
      "Epoch 60: loss 0.038467891265273745\n",
      "Epoch 61: loss 0.03795846125677876\n",
      "Epoch 62: loss 0.03740849834461899\n",
      "Epoch 63: loss 0.03684643826690381\n",
      "Epoch 64: loss 0.0362606156333957\n",
      "Epoch 65: loss 0.03584944039137791\n",
      "Epoch 66: loss 0.03532963767850204\n",
      "Epoch 67: loss 0.0348784577101469\n",
      "Epoch 68: loss 0.03441952916834017\n",
      "Epoch 69: loss 0.034016191173830757\n",
      "Epoch 70: loss 0.03358989151640107\n",
      "Epoch 71: loss 0.03323698961175978\n",
      "Epoch 72: loss 0.03282765661487761\n",
      "Epoch 73: loss 0.03246426378255305\n",
      "Epoch 74: loss 0.03204030136618277\n",
      "Epoch 75: loss 0.0316904401872307\n",
      "Epoch 76: loss 0.03134943899374617\n",
      "Epoch 77: loss 0.031045232516834918\n",
      "Epoch 78: loss 0.030758292049817417\n",
      "Epoch 79: loss 0.030402795707240055\n",
      "Epoch 80: loss 0.030100085663244777\n",
      "Epoch 81: loss 0.0297889759156691\n",
      "Epoch 82: loss 0.029555194814810934\n",
      "Epoch 83: loss 0.02928934957953575\n",
      "Epoch 84: loss 0.028973634208997956\n",
      "Epoch 85: loss 0.02873973686086095\n",
      "Epoch 86: loss 0.02847093644187502\n",
      "Epoch 87: loss 0.028173721911709592\n",
      "Epoch 88: loss 0.027952254387428578\n",
      "Epoch 89: loss 0.027758653662369952\n",
      "Epoch 90: loss 0.027508296185861463\n",
      "Epoch 91: loss 0.027227634015371618\n",
      "Epoch 92: loss 0.02704654876952586\n",
      "Epoch 93: loss 0.02686679876287994\n",
      "Epoch 94: loss 0.02662706131560971\n",
      "Epoch 95: loss 0.026409508474171162\n",
      "Epoch 96: loss 0.026235577213051527\n",
      "Epoch 97: loss 0.02604423277080059\n",
      "Epoch 98: loss 0.025843167390026477\n",
      "Epoch 99: loss 0.025612925580176322\n"
     ]
    }
   ],
   "source": [
    "train_tr_data, test_tr_data = random_train_test_split(train_data, random_state=np.random.RandomState(42))\n",
    "model.fit(train_tr_data, verbose=True)"
   ]
  },
  {
   "cell_type": "code",
   "execution_count": 55,
   "metadata": {},
   "outputs": [
    {
     "name": "stdout",
     "output_type": "stream",
     "text": [
      "Train RMSE 0.144, test RMSE 1.679\n"
     ]
    }
   ],
   "source": [
    "train_rmse = rmse_score(model, train_tr_data)\n",
    "test_rmse = rmse_score(model, test_tr_data)\n",
    "\n",
    "print('Train RMSE {:.3f}, test RMSE {:.3f}'.format(train_rmse, test_rmse))"
   ]
  },
  {
   "cell_type": "code",
   "execution_count": 56,
   "metadata": {},
   "outputs": [
    {
     "ename": "NameError",
     "evalue": "name 'predict' is not defined",
     "output_type": "error",
     "traceback": [
      "\u001b[0;31m---------------------------------------------------------------------------\u001b[0m",
      "\u001b[0;31mNameError\u001b[0m                                 Traceback (most recent call last)",
      "\u001b[0;32m<ipython-input-56-e80b0fe5fcb7>\u001b[0m in \u001b[0;36m<module>\u001b[0;34m\u001b[0m\n\u001b[0;32m----> 1\u001b[0;31m \u001b[0mpredictions\u001b[0m \u001b[0;34m=\u001b[0m \u001b[0mpredict\u001b[0m\u001b[0;34m(\u001b[0m\u001b[0muser_te\u001b[0m\u001b[0;34m,\u001b[0m \u001b[0mmovie_te\u001b[0m\u001b[0;34m)\u001b[0m\u001b[0;34m\u001b[0m\u001b[0;34m\u001b[0m\u001b[0m\n\u001b[0m",
      "\u001b[0;31mNameError\u001b[0m: name 'predict' is not defined"
     ]
    }
   ],
   "source": [
    "predictions = model.predict(user_te, movie_te)"
   ]
  },
  {
   "cell_type": "code",
   "execution_count": null,
   "metadata": {},
   "outputs": [],
   "source": [
    "predictions"
   ]
  },
  {
   "cell_type": "code",
   "execution_count": null,
   "metadata": {},
   "outputs": [],
   "source": []
  }
 ],
 "metadata": {
  "kernelspec": {
   "display_name": "Python 3",
   "language": "python",
   "name": "python3"
  },
  "language_info": {
   "codemirror_mode": {
    "name": "ipython",
    "version": 3
   },
   "file_extension": ".py",
   "mimetype": "text/x-python",
   "name": "python",
   "nbconvert_exporter": "python",
   "pygments_lexer": "ipython3",
   "version": "3.6.7"
  }
 },
 "nbformat": 4,
 "nbformat_minor": 2
}
