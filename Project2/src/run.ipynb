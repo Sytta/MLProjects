{
 "cells": [
  {
   "cell_type": "code",
   "execution_count": 1,
   "metadata": {},
   "outputs": [],
   "source": [
    "from stack import *\n",
    "from constants import *"
   ]
  },
  {
   "cell_type": "code",
   "execution_count": 2,
   "metadata": {},
   "outputs": [
    {
     "name": "stdout",
     "output_type": "stream",
     "text": [
      "Reading folder: ../train_predictions/\n"
     ]
    }
   ],
   "source": [
    "print(\"Reading folder: {}\".format(folder))"
   ]
  },
  {
   "cell_type": "code",
   "execution_count": 3,
   "metadata": {},
   "outputs": [
    {
     "name": "stdout",
     "output_type": "stream",
     "text": [
      "Loading models...\n",
      "6 model families loaded:\n",
      " baseline: global_mean, global_median, user_mean, user_median, movie_mean, movie_median, movie_mean_user_std, movie_median_user_std, movie_mean_user_habit_std, movie_median_user_habit_std, movie_mean_user_habit, movie_median_user_habit, ; \n",
      "surprise: surprise_svd, surprise_knn, surprise_svd_pp, ; \n",
      "spotlight: spotlight, ; \n",
      "als: als, ; \n",
      "pyfm: pyfm, ; \n",
      "mfrr: mfrr, ; \n",
      "\n"
     ]
    }
   ],
   "source": [
    "models = load_models()"
   ]
  },
  {
   "cell_type": "code",
   "execution_count": 4,
   "metadata": {},
   "outputs": [],
   "source": [
    "ground_truth = pd.read_csv(folder + \"ground_truth.csv\", index_col=0)"
   ]
  },
  {
   "cell_type": "code",
   "execution_count": 5,
   "metadata": {},
   "outputs": [
    {
     "data": {
      "text/html": [
       "<div>\n",
       "<style scoped>\n",
       "    .dataframe tbody tr th:only-of-type {\n",
       "        vertical-align: middle;\n",
       "    }\n",
       "\n",
       "    .dataframe tbody tr th {\n",
       "        vertical-align: top;\n",
       "    }\n",
       "\n",
       "    .dataframe thead th {\n",
       "        text-align: right;\n",
       "    }\n",
       "</style>\n",
       "<table border=\"1\" class=\"dataframe\">\n",
       "  <thead>\n",
       "    <tr style=\"text-align: right;\">\n",
       "      <th></th>\n",
       "      <th>User</th>\n",
       "      <th>Movie</th>\n",
       "      <th>Rating</th>\n",
       "    </tr>\n",
       "  </thead>\n",
       "  <tbody>\n",
       "    <tr>\n",
       "      <th>0</th>\n",
       "      <td>1207</td>\n",
       "      <td>877</td>\n",
       "      <td>3</td>\n",
       "    </tr>\n",
       "    <tr>\n",
       "      <th>1</th>\n",
       "      <td>2337</td>\n",
       "      <td>179</td>\n",
       "      <td>3</td>\n",
       "    </tr>\n",
       "    <tr>\n",
       "      <th>2</th>\n",
       "      <td>4221</td>\n",
       "      <td>971</td>\n",
       "      <td>4</td>\n",
       "    </tr>\n",
       "    <tr>\n",
       "      <th>3</th>\n",
       "      <td>2306</td>\n",
       "      <td>148</td>\n",
       "      <td>5</td>\n",
       "    </tr>\n",
       "    <tr>\n",
       "      <th>4</th>\n",
       "      <td>3092</td>\n",
       "      <td>188</td>\n",
       "      <td>4</td>\n",
       "    </tr>\n",
       "  </tbody>\n",
       "</table>\n",
       "</div>"
      ],
      "text/plain": [
       "   User  Movie  Rating\n",
       "0  1207    877       3\n",
       "1  2337    179       3\n",
       "2  4221    971       4\n",
       "3  2306    148       5\n",
       "4  3092    188       4"
      ]
     },
     "execution_count": 5,
     "metadata": {},
     "output_type": "execute_result"
    }
   ],
   "source": [
    "ground_truth.head()"
   ]
  },
  {
   "cell_type": "code",
   "execution_count": null,
   "metadata": {
    "scrolled": false
   },
   "outputs": [
    {
     "name": "stdout",
     "output_type": "stream",
     "text": [
      "Loading predictions from ../train_predictions/....\n",
      "[load_predictions] files: ['als_predictions.csv', 'global_mean_predictions.csv', 'global_median_predictions.csv', 'mfrr_predictions.csv', 'movie_mean_predictions.csv', 'movie_mean_user_habit_predictions.csv', 'movie_mean_user_habit_std_predictions.csv', 'movie_mean_user_std_predictions.csv', 'movie_median_predictions.csv', 'movie_median_user_habit_predictions.csv', 'movie_median_user_habit_std_predictions.csv', 'movie_median_user_std_predictions.csv', 'pyfm_predictions.csv', 'spotlight_predictions.csv', 'surprise_knn_predictions.csv', 'surprise_svd_pp_predictions.csv', 'surprise_svd_predictions.csv', 'user_mean_predictions.csv', 'user_median_predictions.csv']\n",
      "Reading 1/19 : als_predictions.csv...\n",
      "Reading 2/19 : global_mean_predictions.csv...\n",
      "Reading 3/19 : global_median_predictions.csv...\n",
      "Reading 4/19 : mfrr_predictions.csv...\n",
      "Reading 5/19 : movie_mean_predictions.csv...\n",
      "Reading 6/19 : movie_mean_user_habit_predictions.csv...\n",
      "Reading 7/19 : movie_mean_user_habit_std_predictions.csv...\n",
      "Reading 8/19 : movie_mean_user_std_predictions.csv...\n",
      "Reading 9/19 : movie_median_predictions.csv...\n",
      "Reading 10/19 : movie_median_user_habit_predictions.csv...\n",
      "Reading 11/19 : movie_median_user_habit_std_predictions.csv...\n",
      "Reading 12/19 : movie_median_user_std_predictions.csv...\n",
      "Reading 13/19 : pyfm_predictions.csv...\n",
      "Reading 14/19 : spotlight_predictions.csv...\n",
      "Reading 15/19 : surprise_knn_predictions.csv...\n",
      "Reading 16/19 : surprise_svd_pp_predictions.csv...\n",
      "Reading 17/19 : surprise_svd_predictions.csv...\n",
      "Reading 18/19 : user_mean_predictions.csv...\n",
      "Reading 19/19 : user_median_predictions.csv...\n",
      "Predictions:    User  Movie       als  global_mean  global_median      mfrr  movie_mean  \\\n",
      "0     1     68  3.113779     3.855656            4.0  2.931784    3.507576   \n",
      "1     1     84  4.866766     3.855656            4.0  3.967232    4.159341   \n",
      "2     1    206  4.665121     3.855656            4.0  4.163851    4.006024   \n",
      "3     1    310  5.154342     3.855656            4.0  4.640329    4.567055   \n",
      "4     1    472  4.236025     3.855656            4.0  3.588951    3.665192   \n",
      "\n",
      "   movie_mean_user_habit  movie_mean_user_habit_std  movie_mean_user_std  \\\n",
      "0               4.318586                   4.325542             4.512189   \n",
      "1               4.970351                   4.981714             4.793540   \n",
      "2               4.817035                   4.809874             4.732291   \n",
      "3               5.378065                   5.353573             4.974215   \n",
      "4               4.476202                   4.482608             4.578013   \n",
      "\n",
      "      ...       movie_median_user_habit  movie_median_user_habit_std  \\\n",
      "0     ...                      4.811011                     4.399940   \n",
      "1     ...                      4.811011                     5.166667   \n",
      "2     ...                      4.811011                     4.891639   \n",
      "3     ...                      5.811011                     5.586022   \n",
      "4     ...                      4.811011                     4.588989   \n",
      "\n",
      "   movie_median_user_std      pyfm  spotlight  surprise_knn  surprise_svd_pp  \\\n",
      "0               4.543219  3.890816   3.921188             3                3   \n",
      "1               4.871946  4.646547   4.644305             4                4   \n",
      "2               4.759580  4.589666   4.422567             4                3   \n",
      "3               5.075108  5.000000   5.014091             5                4   \n",
      "4               4.625482  4.302767   3.982452             4                3   \n",
      "\n",
      "   surprise_svd  user_mean  user_median  \n",
      "0             3   4.666667          5.0  \n",
      "1             3   4.666667          5.0  \n",
      "2             3   4.666667          5.0  \n",
      "3             4   4.666667          5.0  \n",
      "4             3   4.666667          5.0  \n",
      "\n",
      "[5 rows x 21 columns]\n",
      "Time: 0:00:25.453393, Finished loading.\n",
      "Initial weights: [0.05263157894736842, 0.05263157894736842, 0.05263157894736842, 0.05263157894736842, 0.05263157894736842, 0.05263157894736842, 0.05263157894736842, 0.05263157894736842, 0.05263157894736842, 0.05263157894736842, 0.05263157894736842, 0.05263157894736842, 0.05263157894736842, 0.05263157894736842, 0.05263157894736842, 0.05263157894736842, 0.05263157894736842, 0.05263157894736842, 0.05263157894736842]\n",
      "Optimizing...\n"
     ]
    }
   ],
   "source": [
    "res, predictions = optimize(models, ground_truth, folder)"
   ]
  },
  {
   "cell_type": "code",
   "execution_count": 10,
   "metadata": {},
   "outputs": [
    {
     "name": "stdout",
     "output_type": "stream",
     "text": [
      "Best weights: \n",
      " {'global_mean': 0.04349150446270624, 'global_median': 0.04314870861405616, 'user_mean': -0.05161249684542282, 'user_median': -0.004501407103595544, 'movie_mean': 0.008970185333798892, 'movie_median': 0.05045813082930219, 'movie_mean_user_std': 0.14102650168186012, 'movie_median_user_std': 0.1502732317267438, 'movie_mean_user_habit_std': -0.11833002139543332, 'movie_median_user_habit_std': -0.11828993985346828, 'movie_mean_user_habit': -0.08613414081218784, 'movie_median_user_habit': -0.04464648547851165, 'surprise_svd': 0.010565883176314931, 'surprise_knn': 0.029843085842787595, 'surprise_svd_pp': 0.008737405974155283, 'spotlight': 0.28877544038671826, 'als': 0.21455606179663697, 'pyfm': 0.28183782000328117, 'mfrr': 0.16722629378527226}\n",
      "[stack] weights: [ 0.0434915   0.04314871 -0.0516125  -0.00450141  0.00897019  0.05045813\n",
      "  0.1410265   0.15027323 -0.11833002 -0.11828994 -0.08613414 -0.04464649\n",
      "  0.01056588  0.02984309  0.00873741  0.28877544  0.21455606  0.28183782\n",
      "  0.16722629]\n",
      "[stack] weight: 0.04349150446270624 model: global_mean\n",
      "[stack] weight: 0.04314870861405616 model: global_median\n",
      "[stack] weight: -0.05161249684542282 model: user_mean\n",
      "[stack] weight: -0.004501407103595544 model: user_median\n",
      "[stack] weight: 0.008970185333798892 model: movie_mean\n",
      "[stack] weight: 0.05045813082930219 model: movie_median\n",
      "[stack] weight: 0.14102650168186012 model: movie_mean_user_std\n",
      "[stack] weight: 0.1502732317267438 model: movie_median_user_std\n",
      "[stack] weight: -0.11833002139543332 model: movie_mean_user_habit_std\n",
      "[stack] weight: -0.11828993985346828 model: movie_median_user_habit_std\n",
      "[stack] weight: -0.08613414081218784 model: movie_mean_user_habit\n",
      "[stack] weight: -0.04464648547851165 model: movie_median_user_habit\n",
      "[stack] weight: 0.010565883176314931 model: surprise_svd\n",
      "[stack] weight: 0.029843085842787595 model: surprise_knn\n",
      "[stack] weight: 0.008737405974155283 model: surprise_svd_pp\n",
      "[stack] weight: 0.28877544038671826 model: spotlight\n",
      "[stack] weight: 0.21455606179663697 model: als\n",
      "[stack] weight: 0.28183782000328117 model: pyfm\n",
      "[stack] weight: 0.16722629378527226 model: mfrr\n",
      "Best weights rmse: 0.9898475425946587\n"
     ]
    }
   ],
   "source": [
    "best_dict, rmse = get_best_weights(res, predictions, models, ground_truth)"
   ]
  },
  {
   "cell_type": "code",
   "execution_count": 11,
   "metadata": {
    "scrolled": false
   },
   "outputs": [
    {
     "name": "stdout",
     "output_type": "stream",
     "text": [
      "Loading predictions from ./train_predictions/....\n",
      "[load_predictions] files: ['als_predictions.csv', 'global_mean_predictions.csv', 'global_median_predictions.csv', 'mfrr_predictions.csv', 'movie_mean_predictions.csv', 'movie_mean_user_habit_predictions.csv', 'movie_mean_user_habit_std_predictions.csv', 'movie_mean_user_std_predictions.csv', 'movie_median_predictions.csv', 'movie_median_user_habit_predictions.csv', 'movie_median_user_habit_std_predictions.csv', 'movie_median_user_std_predictions.csv', 'pyfm_predictions.csv', 'spotlight_predictions.csv', 'spotlight_user_std_predictions.csv', 'surprise_knn_predictions.csv', 'surprise_knn_user_std_predictions.csv', 'surprise_svd_pp_predictions.csv', 'surprise_svd_predictions.csv', 'surprise_svd_user_std_predictions.csv', 'user_mean_predictions.csv', 'user_median_predictions.csv']\n"
     ]
    },
    {
     "name": "stderr",
     "output_type": "stream",
     "text": [
      "/home/yawen/anaconda3/envs/ML/lib/python3.6/site-packages/numpy/lib/arraysetops.py:522: FutureWarning: elementwise comparison failed; returning scalar instead, but in the future will perform elementwise comparison\n",
      "  mask |= (ar1 == a)\n"
     ]
    },
    {
     "name": "stdout",
     "output_type": "stream",
     "text": [
      "Reading 1/22 : als_predictions.csv...\n",
      "   User  Movie    Rating\n",
      "0     1      4  3.821791\n",
      "1     1      8  3.443690\n",
      "2     1     21  3.113324\n",
      "3     1    102  4.000825\n",
      "4     1    127  3.109752\n",
      "Reading 2/22 : global_mean_predictions.csv...\n",
      "   User  Movie    Rating\n",
      "0     1      4  3.857281\n",
      "1     1      8  3.857281\n",
      "2     1     21  3.857281\n",
      "3     1    102  3.857281\n",
      "4     1    127  3.857281\n",
      "Reading 3/22 : global_median_predictions.csv...\n",
      "   User  Movie  Rating\n",
      "0     1      4     4.0\n",
      "1     1      8     4.0\n",
      "2     1     21     4.0\n",
      "3     1    102     4.0\n",
      "4     1    127     4.0\n",
      "Reading 4/22 : mfrr_predictions.csv...\n",
      "   User  Movie    Rating\n",
      "0     1      4  3.315357\n",
      "1     1      8  2.381718\n",
      "2     1     21  2.860664\n",
      "3     1    102  3.793181\n",
      "4     1    127  2.877707\n",
      "Reading 5/22 : movie_mean_predictions.csv...\n",
      "   User  Movie    Rating\n",
      "0     1      4  3.936473\n",
      "1     1      8  3.877497\n",
      "2     1     21  3.557386\n",
      "3     1    102  4.187229\n",
      "4     1    127  3.449777\n",
      "Reading 6/22 : movie_mean_user_habit_predictions.csv...\n",
      "   User  Movie    Rating\n",
      "0     1      4  4.122671\n",
      "1     1      8  4.063695\n",
      "2     1     21  3.743584\n",
      "3     1    102  4.373427\n",
      "4     1    127  3.635975\n",
      "Reading 7/22 : movie_mean_user_habit_std_predictions.csv...\n",
      "   User  Movie    Rating\n",
      "0     1      4  4.145381\n",
      "1     1      8  4.081930\n",
      "2     1     21  3.763034\n",
      "3     1    102  4.370408\n",
      "4     1    127  3.639903\n",
      "Reading 8/22 : movie_mean_user_std_predictions.csv...\n",
      "   User  Movie    Rating\n",
      "0     1      4  4.119762\n",
      "1     1      8  4.055354\n",
      "2     1     21  3.765311\n",
      "3     1    102  4.362256\n",
      "4     1    127  3.649025\n",
      "Reading 9/22 : movie_median_predictions.csv...\n",
      "   User  Movie  Rating\n",
      "0     1      4     4.0\n",
      "1     1      8     4.0\n",
      "2     1     21     4.0\n",
      "3     1    102     5.0\n",
      "4     1    127     4.0\n",
      "Reading 10/22 : movie_median_user_habit_predictions.csv...\n",
      "   User  Movie    Rating\n",
      "0     1      4  4.186198\n",
      "1     1      8  4.186198\n",
      "2     1     21  4.186198\n",
      "3     1    102  5.186198\n",
      "4     1    127  4.186198\n",
      "Reading 11/22 : movie_median_user_habit_std_predictions.csv...\n",
      "   User  Movie    Rating\n",
      "0     1      4  4.363283\n",
      "1     1      8  4.479745\n",
      "2     1     21  3.930895\n",
      "3     1    102  4.761660\n",
      "4     1    127  3.846767\n",
      "Reading 12/22 : movie_median_user_std_predictions.csv...\n",
      "   User  Movie    Rating\n",
      "0     1      4  4.346152\n",
      "1     1      8  4.424030\n",
      "2     1     21  3.910092\n",
      "3     1    102  4.802150\n",
      "4     1    127  3.812867\n",
      "Reading 13/22 : pyfm_predictions.csv...\n",
      "   User  Movie    Rating\n",
      "0     1      4  3.647508\n",
      "1     1      8  3.864789\n",
      "2     1     21  3.452411\n",
      "3     1    102  3.974326\n",
      "4     1    127  3.359457\n",
      "Reading 14/22 : spotlight_predictions.csv...\n",
      "   User  Movie    Rating\n",
      "0     1      4  3.599016\n",
      "1     1      8  3.768262\n",
      "2     1     21  3.117947\n",
      "3     1    102  4.003023\n",
      "4     1    127  3.236897\n",
      "Reading 15/22 : spotlight_user_std_predictions.csv...\n",
      "   User  Movie    Rating\n",
      "0     1      4  3.264087\n",
      "1     1      8  3.651350\n",
      "2     1     21  3.047874\n",
      "3     1    102  3.615723\n",
      "4     1    127  3.336368\n",
      "Reading 16/22 : surprise_knn_predictions.csv...\n",
      "   User  Movie  Rating\n",
      "0     1      4       3\n",
      "1     1      8       3\n",
      "2     1     21       3\n",
      "3     1    102       4\n",
      "4     1    127       3\n",
      "Reading 17/22 : surprise_knn_user_std_predictions.csv...\n",
      "   User  Movie    Rating\n",
      "0     1      4  3.186198\n",
      "1     1      8  3.186198\n",
      "2     1     21  2.186198\n",
      "3     1    102  4.186198\n",
      "4     1    127  3.186198\n",
      "Reading 18/22 : surprise_svd_pp_predictions.csv...\n",
      "   User  Movie  Rating\n",
      "0     1      4       3\n",
      "1     1      8       3\n",
      "2     1     21       3\n",
      "3     1    102       4\n",
      "4     1    127       3\n",
      "Reading 19/22 : surprise_svd_predictions.csv...\n",
      "   User  Movie  Rating\n",
      "0     1      4       3\n",
      "1     1      8       4\n",
      "2     1     21       3\n",
      "3     1    102       4\n",
      "4     1    127       3\n",
      "Reading 20/22 : surprise_svd_user_std_predictions.csv...\n",
      "   User  Movie    Rating\n",
      "0     1      4  3.186198\n",
      "1     1      8  4.186198\n",
      "2     1     21  2.186198\n",
      "3     1    102  3.186198\n",
      "4     1    127  3.186198\n",
      "Reading 21/22 : user_mean_predictions.csv...\n",
      "   User  Movie    Rating\n",
      "0     1      4  4.043478\n",
      "1     1      8  4.043478\n",
      "2     1     21  4.043478\n",
      "3     1    102  4.043478\n",
      "4     1    127  4.043478\n",
      "Reading 22/22 : user_median_predictions.csv...\n",
      "   User  Movie  Rating\n",
      "0     1      4     4.0\n",
      "1     1      8     4.0\n",
      "2     1     21     4.0\n",
      "3     1    102     4.0\n",
      "4     1    127     4.0\n",
      "Finished loading. Predictions: ['User', 'Movie', 'als', 'global_mean', 'global_median', 'mfrr', 'movie_mean', 'movie_mean_user_habit', 'movie_mean_user_habit_std', 'movie_mean_user_std', 'movie_median', 'movie_median_user_habit', 'movie_median_user_habit_std', 'movie_median_user_std', 'pyfm', 'spotlight', 'spotlight_user_std', 'surprise_knn', 'surprise_knn_user_std', 'surprise_svd_pp', 'surprise_svd', 'surprise_svd_user_std', 'user_mean', 'user_median']\n",
      "Stacking 0.04349150446270624 * global_mean...\n",
      "Stacking 0.04314870861405616 * global_median...\n",
      "Stacking -0.05161249684542282 * user_mean...\n",
      "Stacking -0.004501407103595544 * user_median...\n",
      "Stacking 0.008970185333798892 * movie_mean...\n",
      "Stacking 0.05045813082930219 * movie_median...\n",
      "Stacking 0.14102650168186012 * movie_mean_user_std...\n",
      "Stacking 0.1502732317267438 * movie_median_user_std...\n",
      "Stacking -0.11833002139543332 * movie_mean_user_habit_std...\n",
      "Stacking -0.11828993985346828 * movie_median_user_habit_std...\n",
      "Stacking -0.08613414081218784 * movie_mean_user_habit...\n",
      "Stacking -0.04464648547851165 * movie_median_user_habit...\n",
      "Stacking 0.010565883176314931 * surprise_svd...\n",
      "Stacking 0.029843085842787595 * surprise_knn...\n",
      "Stacking 0.008737405974155283 * surprise_svd_pp...\n",
      "Stacking 0.28877544038671826 * spotlight...\n",
      "Stacking 0.21455606179663697 * als...\n",
      "Stacking 0.28183782000328117 * pyfm...\n",
      "Stacking 0.16722629378527226 * mfrr...\n"
     ]
    }
   ],
   "source": [
    "pred = predict(best_dict, models)"
   ]
  },
  {
   "cell_type": "code",
   "execution_count": 12,
   "metadata": {},
   "outputs": [
    {
     "data": {
      "text/html": [
       "<div>\n",
       "<style scoped>\n",
       "    .dataframe tbody tr th:only-of-type {\n",
       "        vertical-align: middle;\n",
       "    }\n",
       "\n",
       "    .dataframe tbody tr th {\n",
       "        vertical-align: top;\n",
       "    }\n",
       "\n",
       "    .dataframe thead th {\n",
       "        text-align: right;\n",
       "    }\n",
       "</style>\n",
       "<table border=\"1\" class=\"dataframe\">\n",
       "  <thead>\n",
       "    <tr style=\"text-align: right;\">\n",
       "      <th></th>\n",
       "      <th>User</th>\n",
       "      <th>Movie</th>\n",
       "      <th>Rating</th>\n",
       "    </tr>\n",
       "  </thead>\n",
       "  <tbody>\n",
       "    <tr>\n",
       "      <th>0</th>\n",
       "      <td>1</td>\n",
       "      <td>4</td>\n",
       "      <td>3.625402</td>\n",
       "    </tr>\n",
       "    <tr>\n",
       "      <th>1</th>\n",
       "      <td>1</td>\n",
       "      <td>8</td>\n",
       "      <td>3.509729</td>\n",
       "    </tr>\n",
       "    <tr>\n",
       "      <th>2</th>\n",
       "      <td>1</td>\n",
       "      <td>21</td>\n",
       "      <td>3.213580</td>\n",
       "    </tr>\n",
       "    <tr>\n",
       "      <th>3</th>\n",
       "      <td>1</td>\n",
       "      <td>102</td>\n",
       "      <td>4.017076</td>\n",
       "    </tr>\n",
       "    <tr>\n",
       "      <th>4</th>\n",
       "      <td>1</td>\n",
       "      <td>127</td>\n",
       "      <td>3.225631</td>\n",
       "    </tr>\n",
       "  </tbody>\n",
       "</table>\n",
       "</div>"
      ],
      "text/plain": [
       "   User  Movie    Rating\n",
       "0     1      4  3.625402\n",
       "1     1      8  3.509729\n",
       "2     1     21  3.213580\n",
       "3     1    102  4.017076\n",
       "4     1    127  3.225631"
      ]
     },
     "execution_count": 12,
     "metadata": {},
     "output_type": "execute_result"
    }
   ],
   "source": [
    "pred.head()"
   ]
  },
  {
   "cell_type": "code",
   "execution_count": 18,
   "metadata": {},
   "outputs": [
    {
     "data": {
      "text/plain": [
       "(1176952, 5)"
      ]
     },
     "execution_count": 18,
     "metadata": {},
     "output_type": "execute_result"
    }
   ],
   "source": [
    "pred.shape"
   ]
  },
  {
   "cell_type": "code",
   "execution_count": null,
   "metadata": {},
   "outputs": [],
   "source": []
  },
  {
   "cell_type": "code",
   "execution_count": 14,
   "metadata": {},
   "outputs": [
    {
     "name": "stdout",
     "output_type": "stream",
     "text": [
      "Creating submission file...\n"
     ]
    }
   ],
   "source": [
    "submission = create_csv_submission(pred)\n",
    "submission.to_csv(\"submission.csv\")"
   ]
  },
  {
   "cell_type": "code",
   "execution_count": 19,
   "metadata": {},
   "outputs": [
    {
     "data": {
      "text/html": [
       "<div>\n",
       "<style scoped>\n",
       "    .dataframe tbody tr th:only-of-type {\n",
       "        vertical-align: middle;\n",
       "    }\n",
       "\n",
       "    .dataframe tbody tr th {\n",
       "        vertical-align: top;\n",
       "    }\n",
       "\n",
       "    .dataframe thead th {\n",
       "        text-align: right;\n",
       "    }\n",
       "</style>\n",
       "<table border=\"1\" class=\"dataframe\">\n",
       "  <thead>\n",
       "    <tr style=\"text-align: right;\">\n",
       "      <th></th>\n",
       "      <th>Id</th>\n",
       "      <th>Prediction</th>\n",
       "    </tr>\n",
       "  </thead>\n",
       "  <tbody>\n",
       "    <tr>\n",
       "      <th>0</th>\n",
       "      <td>r1_c4</td>\n",
       "      <td>4</td>\n",
       "    </tr>\n",
       "    <tr>\n",
       "      <th>1</th>\n",
       "      <td>r1_c8</td>\n",
       "      <td>4</td>\n",
       "    </tr>\n",
       "    <tr>\n",
       "      <th>2</th>\n",
       "      <td>r1_c21</td>\n",
       "      <td>3</td>\n",
       "    </tr>\n",
       "    <tr>\n",
       "      <th>3</th>\n",
       "      <td>r1_c102</td>\n",
       "      <td>4</td>\n",
       "    </tr>\n",
       "    <tr>\n",
       "      <th>4</th>\n",
       "      <td>r1_c127</td>\n",
       "      <td>3</td>\n",
       "    </tr>\n",
       "  </tbody>\n",
       "</table>\n",
       "</div>"
      ],
      "text/plain": [
       "        Id  Prediction\n",
       "0    r1_c4           4\n",
       "1    r1_c8           4\n",
       "2   r1_c21           3\n",
       "3  r1_c102           4\n",
       "4  r1_c127           3"
      ]
     },
     "execution_count": 19,
     "metadata": {},
     "output_type": "execute_result"
    }
   ],
   "source": [
    "submission.head()"
   ]
  },
  {
   "cell_type": "code",
   "execution_count": 16,
   "metadata": {},
   "outputs": [
    {
     "name": "stdout",
     "output_type": "stream",
     "text": [
      "[load_dataset] Valid: (1176952, 3)\n"
     ]
    }
   ],
   "source": [
    "test_df = load_dataset(test_dataset)"
   ]
  },
  {
   "cell_type": "code",
   "execution_count": 17,
   "metadata": {},
   "outputs": [
    {
     "data": {
      "text/html": [
       "<div>\n",
       "<style scoped>\n",
       "    .dataframe tbody tr th:only-of-type {\n",
       "        vertical-align: middle;\n",
       "    }\n",
       "\n",
       "    .dataframe tbody tr th {\n",
       "        vertical-align: top;\n",
       "    }\n",
       "\n",
       "    .dataframe thead th {\n",
       "        text-align: right;\n",
       "    }\n",
       "</style>\n",
       "<table border=\"1\" class=\"dataframe\">\n",
       "  <thead>\n",
       "    <tr style=\"text-align: right;\">\n",
       "      <th></th>\n",
       "      <th>User</th>\n",
       "      <th>Movie</th>\n",
       "      <th>Rating</th>\n",
       "    </tr>\n",
       "  </thead>\n",
       "  <tbody>\n",
       "    <tr>\n",
       "      <th>0</th>\n",
       "      <td>37</td>\n",
       "      <td>1</td>\n",
       "      <td>3</td>\n",
       "    </tr>\n",
       "    <tr>\n",
       "      <th>1</th>\n",
       "      <td>73</td>\n",
       "      <td>1</td>\n",
       "      <td>3</td>\n",
       "    </tr>\n",
       "    <tr>\n",
       "      <th>2</th>\n",
       "      <td>156</td>\n",
       "      <td>1</td>\n",
       "      <td>3</td>\n",
       "    </tr>\n",
       "    <tr>\n",
       "      <th>3</th>\n",
       "      <td>160</td>\n",
       "      <td>1</td>\n",
       "      <td>3</td>\n",
       "    </tr>\n",
       "    <tr>\n",
       "      <th>4</th>\n",
       "      <td>248</td>\n",
       "      <td>1</td>\n",
       "      <td>3</td>\n",
       "    </tr>\n",
       "  </tbody>\n",
       "</table>\n",
       "</div>"
      ],
      "text/plain": [
       "   User  Movie  Rating\n",
       "0    37      1       3\n",
       "1    73      1       3\n",
       "2   156      1       3\n",
       "3   160      1       3\n",
       "4   248      1       3"
      ]
     },
     "execution_count": 17,
     "metadata": {},
     "output_type": "execute_result"
    }
   ],
   "source": [
    "test_df.head()"
   ]
  },
  {
   "cell_type": "code",
   "execution_count": 37,
   "metadata": {},
   "outputs": [
    {
     "data": {
      "text/plain": [
       "(1176952, 3)"
      ]
     },
     "execution_count": 37,
     "metadata": {},
     "output_type": "execute_result"
    }
   ],
   "source": [
    "test_df.shape"
   ]
  },
  {
   "cell_type": "code",
   "execution_count": null,
   "metadata": {},
   "outputs": [],
   "source": []
  }
 ],
 "metadata": {
  "kernelspec": {
   "display_name": "Python 3",
   "language": "python",
   "name": "python3"
  },
  "language_info": {
   "codemirror_mode": {
    "name": "ipython",
    "version": 3
   },
   "file_extension": ".py",
   "mimetype": "text/x-python",
   "name": "python",
   "nbconvert_exporter": "python",
   "pygments_lexer": "ipython3",
   "version": "3.6.7"
  }
 },
 "nbformat": 4,
 "nbformat_minor": 2
}
