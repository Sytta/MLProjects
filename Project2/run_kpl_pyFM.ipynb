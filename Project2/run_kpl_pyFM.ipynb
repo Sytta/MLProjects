{
 "cells": [
  {
   "cell_type": "code",
   "execution_count": 1,
   "metadata": {},
   "outputs": [],
   "source": [
    "import pandas as pd\n",
    "import numpy as np\n",
    "from pyfm import pylibfm\n",
    "from sklearn.feature_extraction import DictVectorizer"
   ]
  },
  {
   "cell_type": "code",
   "execution_count": 2,
   "metadata": {},
   "outputs": [],
   "source": [
    "train_dataset = \"./datas/data_train.csv\"\n",
    "pred_dataset = \"./datas/sampleSubmission.csv\""
   ]
  },
  {
   "cell_type": "code",
   "execution_count": 3,
   "metadata": {},
   "outputs": [],
   "source": [
    "def load_dataset(path):\n",
    "    \"\"\"Load dataset as a (User, Movie, Rating) pandas dataframe\"\"\"\n",
    "    df = pd.read_csv(path)\n",
    "    parsed_df = pd.DataFrame()\n",
    "    # Get all pairs of (r44_c1) -> (44, 1) (user, movie)\n",
    "    user_movie_indices = df.Id.apply(lambda x: x.split('_'))\n",
    "    parsed_df['User'] =  [int(i[0][1:]) for i in user_movie_indices]\n",
    "    parsed_df['Movie'] = [int(i[1][1:]) for i in user_movie_indices]\n",
    "    parsed_df['Rating'] = df['Prediction']\n",
    "    \n",
    "    num_items = parsed_df.Movie.nunique()\n",
    "    num_users = parsed_df.User.nunique()\n",
    "    print(\"USERS: {} ITEMS: {}\".format(num_users, num_items))\n",
    "    return parsed_df"
   ]
  },
  {
   "cell_type": "code",
   "execution_count": 4,
   "metadata": {},
   "outputs": [
    {
     "name": "stdout",
     "output_type": "stream",
     "text": [
      "USERS: 10000 ITEMS: 1000\n"
     ]
    }
   ],
   "source": [
    "train_df = load_dataset(train_dataset)"
   ]
  },
  {
   "cell_type": "code",
   "execution_count": 5,
   "metadata": {},
   "outputs": [
    {
     "name": "stdout",
     "output_type": "stream",
     "text": [
      "movies per user: min[3], max[522], users per movie: min[8], max[4590].\n",
      "The shape of test_dataset: (117695, 3), train_dataset: (1059257, 3)\n"
     ]
    }
   ],
   "source": [
    "def split_dataset(parsed_df, p_test=0.1, min_num_ratings=0):\n",
    "    movies_per_user = parsed_df.User.value_counts()\n",
    "    users_per_movie = parsed_df.Movie.value_counts()\n",
    "\n",
    "    valid_users = movies_per_user[movies_per_user > min_num_ratings].index.values\n",
    "    valid_movies = users_per_movie[users_per_movie > min_num_ratings].index.values\n",
    "    valid_parsed_df = parsed_df[parsed_df.User.isin(valid_users) & parsed_df.Movie.isin(valid_movies)].reset_index(drop=True)\n",
    "    \n",
    "    print(\"movies per user: min[{a}], max[{b}], users per movie: min[{c}], max[{d}].\".\n",
    "          format(a=movies_per_user.min(), b=movies_per_user.max(), c=users_per_movie.min(), d=users_per_movie.max()))\n",
    "\n",
    "    size = valid_parsed_df.shape[0]\n",
    "    indexes = list(range(size))\n",
    "    np.random.shuffle(indexes)\n",
    "\n",
    "    test_ind = indexes[:int(size*p_test)]\n",
    "    train_ind = indexes[int(size*p_test):]\n",
    "\n",
    "    test = valid_parsed_df.loc[test_ind].reset_index(drop=True)\n",
    "    train = valid_parsed_df.loc[train_ind].reset_index(drop=True)\n",
    "    print(\"The shape of test_dataset: {test}, train_dataset: {train}\".format(test=test.shape, train=train.shape))\n",
    "    \n",
    "    return train, test\n",
    "\n",
    "train, test = split_dataset(train_df)\n",
    "# print(train.iloc[0,2])\n",
    "# type(train.iloc[0,2])"
   ]
  },
  {
   "cell_type": "code",
   "execution_count": 6,
   "metadata": {},
   "outputs": [],
   "source": [
    "def compute_rmse(pred, real):\n",
    "    pred_sorted = pred.sort_values(['Movie', 'User']).reset_index(drop=True)\n",
    "    real_sorted = real.sort_values(['Movie', 'User']).reset_index(drop=True)\n",
    "\n",
    "    mse = np.square(pred_sorted.Rating - real_sorted.Rating).mean()\n",
    "    rmse = np.sqrt(mse)\n",
    "\n",
    "    return rmse"
   ]
  },
  {
   "cell_type": "code",
   "execution_count": 7,
   "metadata": {},
   "outputs": [],
   "source": [
    "def toPyFMData(df):\n",
    "    \"\"\"Transform pandas dataframe into the dataformat PyFM needs\"\"\"\n",
    "    data = []\n",
    "    users = set(df.User.unique())\n",
    "    movies = set(df.Movie.unique())\n",
    "    ratings = df.Rating.astype(float).tolist()\n",
    "    for row in df.iterrows():\n",
    "        data.append({\"user_id\": str(row[1].User), \"movie_id\": str(row[1].Movie)})\n",
    "    return (data, np.array(ratings), users, movies)"
   ]
  },
  {
   "cell_type": "code",
   "execution_count": 8,
   "metadata": {},
   "outputs": [],
   "source": [
    "(train_data, y_train, train_users, train_items) = toPyFMData(train)\n",
    "(test_data, y_test, test_users, test_items) = toPyFMData(test)\n",
    "v = DictVectorizer()\n",
    "X_train = v.fit_transform(train_data)\n",
    "X_test = v.transform(test_data)"
   ]
  },
  {
   "cell_type": "code",
   "execution_count": null,
   "metadata": {},
   "outputs": [
    {
     "name": "stdout",
     "output_type": "stream",
     "text": [
      "Creating validation dataset of 0.01 of training for adaptive regularization\n"
     ]
    }
   ],
   "source": [
    "fm = pylibfm.FM(num_factors=20, num_iter=200, verbose=True, task=\"regression\", initial_learning_rate=0.001, learning_rate_schedule=\"optimal\")\n",
    "fm.fit(X_train,y_train)"
   ]
  },
  {
   "cell_type": "code",
   "execution_count": null,
   "metadata": {},
   "outputs": [],
   "source": [
    "preds = fm.predict(X_test)\n",
    "from sklearn.metrics import mean_squared_error\n",
    "print(\"FM MSE: %.4f\" % mean_squared_error(y_test,preds))"
   ]
  },
  {
   "cell_type": "code",
   "execution_count": null,
   "metadata": {},
   "outputs": [],
   "source": []
  }
 ],
 "metadata": {
  "kernelspec": {
   "display_name": "Python 3",
   "language": "python",
   "name": "python3"
  },
  "language_info": {
   "codemirror_mode": {
    "name": "ipython",
    "version": 3
   },
   "file_extension": ".py",
   "mimetype": "text/x-python",
   "name": "python",
   "nbconvert_exporter": "python",
   "pygments_lexer": "ipython3",
   "version": "3.7.0"
  }
 },
 "nbformat": 4,
 "nbformat_minor": 2
}
