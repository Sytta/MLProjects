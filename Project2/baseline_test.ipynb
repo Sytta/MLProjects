{
 "cells": [
  {
   "cell_type": "code",
   "execution_count": 1,
   "metadata": {},
   "outputs": [],
   "source": [
    "from baseline import *\n",
    "from helpers import *"
   ]
  },
  {
   "cell_type": "markdown",
   "metadata": {},
   "source": [
    "global_mean = baseline_global_mean,   ## 1.127\n",
    "global_median = baseline_global_median, \n",
    "user_mean = baseline_user_mean,\n",
    "user_median = baseline_user_median,\n",
    "movie_mean = baseline_movie_mean,\n",
    "movie_median = baseline_movie_median,\n",
    "movie_mean_user_std = movie_mean_user_standardize, ## 1.046\n",
    "movie_median_user_std = movie_median_user_standardize,\n",
    "movie_mean_user_habit_std = movie_mean_user_habit_standardize, ## 1.046\n",
    "movie_median_user_habit_std = movie_median_user_habit_standardize,\n",
    "movie_mean_user_habit = movie_mean_user_habit,\n",
    "movie_mdeian_user_habit = movie_median_user_habit,"
   ]
  },
  {
   "cell_type": "code",
   "execution_count": 2,
   "metadata": {},
   "outputs": [
    {
     "name": "stdout",
     "output_type": "stream",
     "text": [
      "[load_dataset] Valid: (1176952, 3)\n",
      "[load_dataset] Valid: (1176952, 3)\n",
      "[load_dataset] Valid: (1176952, 3)\n"
     ]
    }
   ],
   "source": [
    "train_dataset = \"./datas/data_train.csv\"\n",
    "test_dataset = \"./datas/sampleSubmission.csv\"\n",
    "train_df = load_dataset(train_dataset)\n",
    "test_df = load_dataset(test_dataset)\n",
    "test = load_dataset(test_dataset, min_num_ratings = 0)"
   ]
  },
  {
   "cell_type": "code",
   "execution_count": 3,
   "metadata": {},
   "outputs": [
    {
     "name": "stdout",
     "output_type": "stream",
     "text": [
      "Creating submission file...\n"
     ]
    }
   ],
   "source": [
    "predictions = baseline_global_mean(train_df, test_df)\n",
    "submission = create_csv_submission(predictions)\n",
    "submission.to_csv(\"./datas/global_mean.csv\")"
   ]
  },
  {
   "cell_type": "code",
   "execution_count": 4,
   "metadata": {},
   "outputs": [
    {
     "name": "stdout",
     "output_type": "stream",
     "text": [
      "Creating submission file...\n"
     ]
    }
   ],
   "source": [
    "predictions = baseline_global_median(train_df, test_df)\n",
    "submission = create_csv_submission(predictions)\n",
    "submission.to_csv(\"./datas/global_median.csv\")"
   ]
  },
  {
   "cell_type": "code",
   "execution_count": null,
   "metadata": {},
   "outputs": [
    {
     "name": "stdout",
     "output_type": "stream",
     "text": [
      "Creating submission file...\n"
     ]
    }
   ],
   "source": [
    "predictions = baseline_user_mean(train_df, test_df)\n",
    "submission = create_csv_submission(predictions)\n",
    "submission.to_csv(\"./datas/user_mean.csv\")"
   ]
  },
  {
   "cell_type": "code",
   "execution_count": null,
   "metadata": {},
   "outputs": [
    {
     "name": "stdout",
     "output_type": "stream",
     "text": [
      "Creating submission file...\n"
     ]
    }
   ],
   "source": [
    "predictions = baseline_user_median(train_df, test_df)\n",
    "submission = create_csv_submission(predictions)\n",
    "submission.to_csv(\"./datas/user_median.csv\")"
   ]
  },
  {
   "cell_type": "code",
   "execution_count": null,
   "metadata": {},
   "outputs": [
    {
     "name": "stdout",
     "output_type": "stream",
     "text": [
      "Creating submission file...\n"
     ]
    }
   ],
   "source": [
    "predictions = baseline_movie_mean(train_df, test_df)\n",
    "submission = create_csv_submission(predictions)\n",
    "submission.to_csv(\"./datas/movie_mean.csv\")"
   ]
  },
  {
   "cell_type": "code",
   "execution_count": null,
   "metadata": {},
   "outputs": [
    {
     "name": "stdout",
     "output_type": "stream",
     "text": [
      "Creating submission file...\n"
     ]
    }
   ],
   "source": [
    "predictions = baseline_movie_median(train_df, test_df)\n",
    "submission = create_csv_submission(predictions)\n",
    "submission.to_csv(\"./datas/movie_median.csv\")"
   ]
  },
  {
   "cell_type": "code",
   "execution_count": null,
   "metadata": {},
   "outputs": [
    {
     "name": "stdout",
     "output_type": "stream",
     "text": [
      "Creating submission file...\n"
     ]
    }
   ],
   "source": [
    "predictions = movie_mean_user_standardize(train_df, test_df)\n",
    "submission = create_csv_submission(predictions)\n",
    "submission.to_csv(\"./datas/movie_mean_user_std.csv\")"
   ]
  },
  {
   "cell_type": "code",
   "execution_count": null,
   "metadata": {},
   "outputs": [
    {
     "name": "stdout",
     "output_type": "stream",
     "text": [
      "Creating submission file...\n"
     ]
    }
   ],
   "source": [
    "predictions = movie_median_user_standardize(train_df, test_df)\n",
    "submission = create_csv_submission(predictions)\n",
    "submission.to_csv(\"./datas/movie_median_user_std.csv\")"
   ]
  },
  {
   "cell_type": "code",
   "execution_count": null,
   "metadata": {},
   "outputs": [
    {
     "name": "stdout",
     "output_type": "stream",
     "text": [
      "Creating submission file...\n"
     ]
    }
   ],
   "source": [
    "predictions = movie_mean_user_habit_standardize(train_df, test_df)\n",
    "submission = create_csv_submission(predictions)\n",
    "submission.to_csv(\"./datas/movie_mean_user_habit_std.csv\")"
   ]
  },
  {
   "cell_type": "code",
   "execution_count": null,
   "metadata": {},
   "outputs": [
    {
     "name": "stdout",
     "output_type": "stream",
     "text": [
      "Creating submission file...\n"
     ]
    }
   ],
   "source": [
    "predictions = movie_median_user_habit_standardize(train_df, test_df)\n",
    "submission = create_csv_submission(predictions)\n",
    "submission.to_csv(\"./datas/movie_median_user_habit_std.csv\")"
   ]
  },
  {
   "cell_type": "code",
   "execution_count": null,
   "metadata": {},
   "outputs": [],
   "source": [
    "predictions = movie_mean_user_habit(train_df, test_df)\n",
    "submission = create_csv_submission(predictions)\n",
    "submission.to_csv(\"./datas/movie_mean_user_habit.csv\")"
   ]
  },
  {
   "cell_type": "code",
   "execution_count": null,
   "metadata": {},
   "outputs": [],
   "source": [
    "predictions = movie_median_user_habit(train_df, test_df)\n",
    "submission = create_csv_submission(predictions)\n",
    "submission.to_csv(\"./datas/movie_median_user_habit.csv\")"
   ]
  },
  {
   "cell_type": "code",
   "execution_count": null,
   "metadata": {},
   "outputs": [],
   "source": []
  }
 ],
 "metadata": {
  "kernelspec": {
   "display_name": "Python (ML)",
   "language": "python",
   "name": "ml"
  },
  "language_info": {
   "codemirror_mode": {
    "name": "ipython",
    "version": 3
   },
   "file_extension": ".py",
   "mimetype": "text/x-python",
   "name": "python",
   "nbconvert_exporter": "python",
   "pygments_lexer": "ipython3",
   "version": "3.6.7"
  }
 },
 "nbformat": 4,
 "nbformat_minor": 2
}
