{
 "cells": [
  {
   "cell_type": "code",
   "execution_count": 11,
   "metadata": {},
   "outputs": [],
   "source": [
    "from helpers import *\n",
    "from baseline import *\n",
    "from baseline_helpers import *\n",
    "\n",
    "import pandas as pd\n",
    "from spotlight.interactions import Interactions\n",
    "from spotlight.cross_validation import random_train_test_split\n",
    "from spotlight.evaluation import rmse_score\n",
    "from spotlight.factorization.explicit import ExplicitFactorizationModel\n",
    "import torch\n",
    "\n",
    "from pyfm import pylibfm\n",
    "from sklearn.feature_extraction import DictVectorizer\n",
    "\n",
    "import scipy.optimize as sco\n"
   ]
  },
  {
   "cell_type": "code",
   "execution_count": 12,
   "metadata": {},
   "outputs": [],
   "source": [
    "def load_models():\n",
    "    print(\"Loading surprise models...\")\n",
    "    models_dict = dict(\n",
    "        # Baseline parameters: (train, test)\n",
    "        global_mean = baseline_global_mean,\n",
    "        global_median = baseline_global_median,\n",
    "        user_mean = baseline_user_mean,\n",
    "        user_median = baseline_user_median,\n",
    "        movie_mean = baseline_movie_mean,\n",
    "        movie_median = baseline_movie_median,\n",
    "        movie_mean_user_std = movie_mean_user_standardize,\n",
    "        movie_median_user_std = movie_median_user_standardize,\n",
    "        movie_mean_user_habit_std = movie_mean_user_habit_standardize,\n",
    "        movie_median_user_habit_std = movie_median_user_habit_standardize,\n",
    "        movie_mean_user_habit = movie_mean_user_habit,\n",
    "        movie_mdeian_user_habit = movie_median_user_habit,\n",
    "        \n",
    "        # surprise\n",
    "        surprise_svd = SVD(n_factors=50, n_epochs=200, lr_bu=1e-9 , lr_qi=1e-5, reg_all=0.01),\n",
    "        surprise_svd_pp = SVDpp(n_factors=50, n_epochs=200, lr_bu=1e-9 , lr_qi=1e-5, reg_all=0.01),\n",
    "        surprise_knn = KNNBaseline(k=100, sim_options={'name': 'pearson_baseline', 'user_based': False}),\n",
    "        # spotlight\n",
    "        spotlight = ExplicitFactorizationModel(loss='regression',\n",
    "                                   embedding_dim=200,  # latent dimensionality\n",
    "                                   n_iter=20,  # number of epochs of training\n",
    "                                   batch_size=256,  # minibatch size\n",
    "                                   l2=1.3848863713938746e-15,  # strength of L2 regularization\n",
    "                                   learning_rate=0.00018738174228603868,\n",
    "                                   use_cuda=torch.cuda.is_available()),\n",
    "        # als\n",
    "        \n",
    "        # pyfm\n",
    "        pyfm = pylibfm.FM(num_factors=42, num_iter=200, verbose=True, \n",
    "                          task=\"regression\", initial_learning_rate=0.01, \n",
    "                          learning_rate_schedule=\"optimal\"),\n",
    "        # keras\n",
    "        # MF\n",
    "    )\n",
    "    \n",
    "    return models_dict\n",
    "    "
   ]
  },
  {
   "cell_type": "code",
   "execution_count": 16,
   "metadata": {},
   "outputs": [
    {
     "name": "stdout",
     "output_type": "stream",
     "text": [
      "Loading surprise models...\n"
     ]
    },
    {
     "data": {
      "text/plain": [
       "['global_mean',\n",
       " 'global_median',\n",
       " 'user_mean',\n",
       " 'user_median',\n",
       " 'movie_mean',\n",
       " 'movie_median',\n",
       " 'movie_mean_user_std',\n",
       " 'movie_median_user_std',\n",
       " 'movie_mean_user_habit_std',\n",
       " 'movie_median_user_habit_std',\n",
       " 'movie_mean_user_habit',\n",
       " 'movie_mdeian_user_habit',\n",
       " 'surprise_svd',\n",
       " 'surprise_svd_pp',\n",
       " 'surprise_knn',\n",
       " 'spotlight',\n",
       " 'pyfm']"
      ]
     },
     "execution_count": 16,
     "metadata": {},
     "output_type": "execute_result"
    }
   ],
   "source": [
    "models = load_models()\n",
    "list(models.keys())"
   ]
  },
  {
   "cell_type": "code",
   "execution_count": null,
   "metadata": {},
   "outputs": [],
   "source": []
  }
 ],
 "metadata": {
  "kernelspec": {
   "display_name": "Python 3",
   "language": "python",
   "name": "python3"
  },
  "language_info": {
   "codemirror_mode": {
    "name": "ipython",
    "version": 3
   },
   "file_extension": ".py",
   "mimetype": "text/x-python",
   "name": "python",
   "nbconvert_exporter": "python",
   "pygments_lexer": "ipython3",
   "version": "3.6.7"
  }
 },
 "nbformat": 4,
 "nbformat_minor": 2
}
