{
 "cells": [
  {
   "cell_type": "code",
   "execution_count": 1,
   "metadata": {},
   "outputs": [],
   "source": [
    "%matplotlib inline\n",
    "\n",
    "import numpy as np\n",
    "import scipy\n",
    "import scipy.io\n",
    "import scipy.sparse as sp\n",
    "from itertools import groupby\n",
    "import pandas as pd\n",
    "import warnings\n",
    "warnings.simplefilter(\"ignore\")\n",
    "import os"
   ]
  },
  {
   "cell_type": "code",
   "execution_count": 18,
   "metadata": {},
   "outputs": [],
   "source": [
    "from helpers import *"
   ]
  },
  {
   "cell_type": "code",
   "execution_count": 2,
   "metadata": {
    "scrolled": true
   },
   "outputs": [
    {
     "name": "stdout",
     "output_type": "stream",
     "text": [
      "number of items: 10000, number of users: 1000\n"
     ]
    }
   ],
   "source": [
    "# train_dataset = \"./data/data_train.csv\"\n",
    "# ratings = load_data(train_dataset)"
   ]
  },
  {
   "cell_type": "code",
   "execution_count": 2,
   "metadata": {},
   "outputs": [],
   "source": [
    "def read_txt(path):\n",
    "    \"\"\"read text file from path.\"\"\"\n",
    "    with open(path, \"r\") as f:\n",
    "        return f.read().splitlines()\n",
    "\n",
    "\n",
    "def load_data(path_dataset):\n",
    "    \"\"\"Load data in text format, one rating per line, as in the kaggle competition.\"\"\"\n",
    "    data = read_txt(path_dataset)[1:]\n",
    "    return preprocess_data(data)\n",
    "\n",
    "\n",
    "def preprocess_data(data):\n",
    "    \"\"\"preprocessing the text data, conversion to numerical array format.\"\"\"\n",
    "    def deal_line(line):\n",
    "        pos, rating = line.split(',')\n",
    "        row, col = pos.split(\"_\")\n",
    "        row = row.replace(\"r\", \"\")\n",
    "        col = col.replace(\"c\", \"\")\n",
    "        return int(row), int(col), float(rating)\n",
    "\n",
    "    def statistics(data):\n",
    "        row = set([line[0] for line in data])\n",
    "        col = set([line[1] for line in data])\n",
    "        return min(row), max(row), min(col), max(col)\n",
    "\n",
    "    # parse each line\n",
    "    data = [deal_line(line) for line in data]\n",
    "\n",
    "    # do statistics on the dataset.\n",
    "    min_row, max_row, min_col, max_col = statistics(data)\n",
    "    print(\"number of items: {}, number of users: {}\".format(max_row, max_col))\n",
    "\n",
    "    # build rating matrix.\n",
    "    ratings = sp.lil_matrix((max_row, max_col))\n",
    "    for row, col, rating in data:\n",
    "        ratings[row - 1, col - 1] = rating\n",
    "    return ratings\n",
    "\n",
    "\n",
    "def group_by(data, index):\n",
    "    \"\"\"group list of list by a specific index.\"\"\"\n",
    "    sorted_data = sorted(data, key=lambda x: x[index])\n",
    "    groupby_data = groupby(sorted_data, lambda x: x[index])\n",
    "    return groupby_data\n",
    "\n",
    "\n",
    "def build_index_groups(train):\n",
    "    \"\"\"build groups for nnz rows and cols.\"\"\"\n",
    "    # row : items; cols: users\n",
    "    nz_row, nz_col = train.nonzero()\n",
    "    nz_train = list(zip(nz_row, nz_col))\n",
    "\n",
    "    grouped_nz_train_byrow = group_by(nz_train, index=0) # group by items \n",
    "#     for g, value in grouped_nz_train_byrow:\n",
    "#         print(\"{}, {}\".format(g, list(value))) #value for g=0: (0, 1) (0, 2) (0, 3) index of all the users that rated the item 0\n",
    "    nz_row_colindices = [(g, np.array([v[1] for v in value])) # indices of all the users that rated item g\n",
    "                         for g, value in grouped_nz_train_byrow]\n",
    "    \n",
    "#     print(nz_row_colindices)\n",
    "\n",
    "    grouped_nz_train_bycol = group_by(nz_train, index=1) # group by users\n",
    "    nz_col_rowindices = [(g, np.array([v[0] for v in value])) # indices of all the movies rated by user g\n",
    "                         for g, value in grouped_nz_train_bycol]\n",
    "    return nz_train, nz_row_colindices, nz_col_rowindices"
   ]
  },
  {
   "cell_type": "code",
   "execution_count": 3,
   "metadata": {},
   "outputs": [],
   "source": [
    "def get_number_per(ratings):\n",
    "    \"\"\"plot the statistics result on raw rating data.\"\"\"\n",
    "    # do statistics.\n",
    "    num_items_per_user = np.array((ratings != 0).sum(axis=0)).flatten()\n",
    "    num_users_per_item = np.array((ratings != 0).sum(axis=1).T).flatten()\n",
    "    sorted_num_movies_per_user = np.sort(num_items_per_user)[::-1]\n",
    "    sorted_num_users_per_movie = np.sort(num_users_per_item)[::-1]\n",
    "    return num_items_per_user, num_users_per_item"
   ]
  },
  {
   "cell_type": "code",
   "execution_count": 4,
   "metadata": {},
   "outputs": [],
   "source": [
    "# num_items_per_user,num_users_per_item = get_number_per(ratings)"
   ]
  },
  {
   "cell_type": "code",
   "execution_count": 4,
   "metadata": {},
   "outputs": [],
   "source": [
    "def split_data(ratings, num_items_per_user, num_users_per_item,\n",
    "               min_num_ratings, p_test=0.1):\n",
    "    \"\"\"split the ratings to training data and test data.\n",
    "    Args:\n",
    "        min_num_ratings: \n",
    "            all users and items we keep must have at least min_num_ratings per user and per item. \n",
    "    \"\"\"\n",
    "#     # set seed\n",
    "#     np.random.seed(988)\n",
    "    \n",
    "    # select user and item based on the condition.\n",
    "    valid_users = np.where(num_items_per_user >= min_num_ratings)[0]\n",
    "    valid_items = np.where(num_users_per_item >= min_num_ratings)[0]\n",
    "    valid_ratings = ratings[valid_items, :][: , valid_users]  \n",
    "    \n",
    "    # init\n",
    "    num_rows, num_cols = valid_ratings.shape\n",
    "    train = sp.lil_matrix((num_rows, num_cols))\n",
    "    test = sp.lil_matrix((num_rows, num_cols))\n",
    "    \n",
    "    print(\"the shape of original ratings. (# of row, # of col): {}\".format(\n",
    "        ratings.shape))\n",
    "    print(\"the shape of valid ratings. (# of row, # of col): {}\".format(\n",
    "        (num_rows, num_cols)))\n",
    "\n",
    "    nz_items, nz_users = valid_ratings.nonzero()\n",
    "    \n",
    "    # split the data\n",
    "    for user in set(nz_users):\n",
    "        # randomly select a subset of ratings\n",
    "        row, col = valid_ratings[:, user].nonzero()\n",
    "        selects = np.random.choice(row, size=int(len(row) * p_test))\n",
    "        residual = list(set(row) - set(selects))\n",
    "\n",
    "        # add to train set\n",
    "        train[residual, user] = valid_ratings[residual, user]\n",
    "\n",
    "        # add to test set\n",
    "        test[selects, user] = valid_ratings[selects, user]\n",
    "    \n",
    "    \n",
    "    print(\"Total number of nonzero elements in origial data:{v}\".format(v=ratings.nnz))\n",
    "    print(\"Total number of nonzero elements in train data:{v}\".format(v=train.nnz))\n",
    "    print(\"Total number of nonzero elements in test data:{v}\".format(v=test.nnz))\n",
    "    return valid_ratings, train, test"
   ]
  },
  {
   "cell_type": "code",
   "execution_count": 6,
   "metadata": {},
   "outputs": [
    {
     "name": "stdout",
     "output_type": "stream",
     "text": [
      "the shape of original ratings. (# of row, # of col): (10000, 1000)\n",
      "the shape of valid ratings. (# of row, # of col): (10000, 1000)\n",
      "Total number of nonzero elements in origial data:1176952\n",
      "Total number of nonzero elements in train data:941957\n",
      "Total number of nonzero elements in test data:234995\n"
     ]
    }
   ],
   "source": [
    "# valid_ratings, train, test = split_data(\n",
    "#     ratings, num_items_per_user, num_users_per_item, min_num_ratings=0, p_test=0.2)"
   ]
  },
  {
   "cell_type": "code",
   "execution_count": 7,
   "metadata": {},
   "outputs": [
    {
     "data": {
      "text/plain": [
       "scipy.sparse.lil.lil_matrix"
      ]
     },
     "execution_count": 7,
     "metadata": {},
     "output_type": "execute_result"
    }
   ],
   "source": [
    "# type(test)"
   ]
  },
  {
   "cell_type": "code",
   "execution_count": 5,
   "metadata": {},
   "outputs": [],
   "source": [
    "def init_MF(train, num_features,weight=1.0):\n",
    "    \"\"\"init the parameter for matrix factorization.\"\"\"\n",
    "    \n",
    "    num_item,num_user = train.shape\n",
    "    \n",
    "    user_features = weight * np.random.rand(num_features,num_user)\n",
    "    item_features = weight * np.random.rand(num_features,num_item)\n",
    "    \n",
    "    item_nnz = train.getnnz(axis=1)\n",
    "    item_sum = train.sum(axis=1)\n",
    "    \n",
    "    return user_features, item_features"
   ]
  },
  {
   "cell_type": "code",
   "execution_count": 6,
   "metadata": {},
   "outputs": [],
   "source": [
    "def compute_error(data, user_features, item_features, nz):\n",
    "    \"\"\"compute the loss (MSE) of the prediction of nonzero elements.\"\"\"\n",
    "    # calculate rmse (we only consider nonzero entries.)\n",
    "    mse = 0\n",
    "    for row,col in nz:\n",
    "        user = user_features[:,col]\n",
    "        item = item_features[:,row]\n",
    "        mse += ((data[row,col] - user.T.dot(item))**2)\n",
    "    \n",
    "    rmse = np.sqrt(1.0*mse/len(nz))\n",
    "    return rmse"
   ]
  },
  {
   "cell_type": "code",
   "execution_count": 7,
   "metadata": {},
   "outputs": [],
   "source": [
    "def update_user_feature(\n",
    "        train, item_features, lambda_user,\n",
    "        nnz_items_per_user, nz_user_itemindices):\n",
    "    \"\"\"update user feature matrix.\"\"\"\n",
    "    \"\"\"the best lambda is assumed to be nnz_items_per_user[user] * lambda_user\"\"\"\n",
    "    # update and return user feature.\n",
    "    num_users = nnz_items_per_user.shape[0]\n",
    "    num_features = item_features.shape[0]\n",
    "    lambda_I = lambda_user * sp.eye(num_features)\n",
    "    updated_user_features = np.zeros((num_features,num_users))\n",
    "    \n",
    "    for user,item in nz_user_itemindices:\n",
    "        M = item_features[:,item]\n",
    "        \n",
    "        V = M @ train[item,user]\n",
    "        A = M @ M.T + nnz_items_per_user[user] * lambda_I\n",
    "        Z_star = np.linalg.solve(A,V)\n",
    "        updated_user_features[:,user] = np.copy(Z_star.T)\n",
    "    return updated_user_features\n",
    "\n",
    "def update_item_feature(\n",
    "        train, user_features, lambda_item,\n",
    "        nnz_users_per_item, nz_item_userindices):\n",
    "    \"\"\"update item feature matrix.\"\"\"\n",
    "    \"\"\"the best lambda is assumed to be nnz_items_per_item[item] * lambda_item\"\"\"\n",
    "    # update and return item feature.\n",
    "    num_items = nnz_users_per_item.shape[0]\n",
    "    num_features = user_features.shape[0]\n",
    "    lambda_I = lambda_item * sp.eye(num_features)\n",
    "    updated_item_features = np.zeros((num_features,num_items))\n",
    "    \n",
    "    for item,user in nz_item_userindices:\n",
    "        M = user_features[:,user]\n",
    "        \n",
    "        V = M @ train[item,user].T\n",
    "        A = M @ M.T + nnz_users_per_item[item] * lambda_I\n",
    "        W_star = np.linalg.solve(A,V)\n",
    "        updated_item_features[:,item] = np.copy(W_star.T)\n",
    "    return updated_item_features"
   ]
  },
  {
   "cell_type": "code",
   "execution_count": 8,
   "metadata": {},
   "outputs": [],
   "source": [
    "def ALS(train, test,num_features,lambda_user,lambda_item,max_weight=1.0,iterations=50):\n",
    "    \"\"\"Alternating Least Squares (ALS) algorithm.\"\"\"\n",
    "    # define parameters\n",
    "    stop_criterion = 1e-5\n",
    "    change = 1\n",
    "    error_list = [0, 0]\n",
    "    it = 0\n",
    " \n",
    "    nz_row, nz_col = train.nonzero()\n",
    "    nz_train = list(zip(nz_row, nz_col))\n",
    "    \n",
    "    nz_row, nz_col = test.nonzero()\n",
    "    nz_test = list(zip(nz_row, nz_col))\n",
    "    \n",
    "#     user_features_file_path = './data/user_features_%s_%s_%s_%s.npy' \\\n",
    "#         % (iterations, num_features, lambda_user, lambda_item)\n",
    "\n",
    "#     item_features_file_path = './data/item_features_%s_%s_%s_%s.npy' \\\n",
    "#         % (iterations, num_features, lambda_user, lambda_item)\n",
    "    \n",
    "#     if(os.path.exists(user_features_file_path) and os.path.exists(item_features_file_path)):\n",
    "#         user_features = np.load(user_features_file_path)\n",
    "#         item_features = np.load(item_features_file_path)\n",
    "\n",
    "#         train_rmse = compute_error(train, user_features, item_features,nz_train)\n",
    "\n",
    "#         test_rmse = compute_error(test, user_features, item_features,nz_test)\n",
    "        \n",
    "#         print(\"Train RMSE: {tr_rmse}, test RMSE: {te_rmse}\" .format(tr_rmse=train_rmse, te_rmse=test_rmse))\n",
    "\n",
    "#         return user_features, item_features,test_rmse\n",
    "    \n",
    "    # set seed\n",
    "#     np.random.seed(988)\n",
    "\n",
    "    # init ALS\n",
    "    user_features, item_features = init_MF(train, num_features,max_weight)\n",
    "    \n",
    "    # get the number of non-zero ratings for each user and item\n",
    "    nnz_items_per_user,nnz_users_per_item = train.getnnz(axis=0),train.getnnz(axis=1)\n",
    "    \n",
    "    # group the indices by row or column index\n",
    "    _, nz_item_userindices, nz_user_itemindices = build_index_groups(train)\n",
    "    \n",
    "    train_rmse = 0\n",
    "    # start ALS\n",
    "    while(it < iterations):\n",
    "        user_features = update_user_feature(train, item_features, lambda_user,\n",
    "                            nnz_items_per_user, nz_user_itemindices)\n",
    "        \n",
    "        item_features = update_item_feature(train, user_features, lambda_item,\n",
    "                            nnz_users_per_item, nz_item_userindices)\n",
    "        \n",
    "        train_rmse = compute_error(train,user_features,item_features,nz_train)\n",
    "#         print(\"ALS training RMSE : {err}\".format(err=train_rmse))\n",
    "        error_list.append(train_rmse)\n",
    "        change = np.fabs(error_list[-1] - error_list[-2])\n",
    "        if (change < stop_criterion):\n",
    "            print(\"Converge!\")\n",
    "            break;\n",
    "        it += 1\n",
    "        \n",
    "    print(\"ALS Final training RMSE : {err}\".format(err=train_rmse))\n",
    "    # evaluate the error in test set\n",
    "    \n",
    "    test_rmse = compute_error(test, user_features, item_features, nz_test)\n",
    "    print(\"RMSE on test data after ALS: {}.\".format(test_rmse))   \n",
    "    \n",
    "#     np.save(user_features_file_path, user_features)\n",
    "#     np.save(item_features_file_path, item_features)\n",
    "    \n",
    "    return item_features,user_features,test_rmse"
   ]
  },
  {
   "cell_type": "code",
   "execution_count": 17,
   "metadata": {},
   "outputs": [
    {
     "name": "stdout",
     "output_type": "stream",
     "text": [
      "ALS training RMSE : 0.6804265713964545\n",
      "ALS training RMSE : 0.6160907382671245\n",
      "ALS training RMSE : 0.5672073485553909\n",
      "ALS training RMSE : 0.5497330414721812\n",
      "ALS training RMSE : 0.5415995602519763\n",
      "ALS training RMSE : 0.5368605368734932\n",
      "ALS training RMSE : 0.5337420789679976\n",
      "ALS training RMSE : 0.5315389413941832\n",
      "ALS training RMSE : 0.5299072035495632\n",
      "ALS training RMSE : 0.5286563915443282\n",
      "ALS training RMSE : 0.527671453213674\n",
      "ALS training RMSE : 0.5268784327757908\n",
      "ALS training RMSE : 0.5262276284246435\n",
      "ALS training RMSE : 0.5256845598481641\n",
      "ALS training RMSE : 0.5252247230577611\n",
      "ALS training RMSE : 0.5248303451995805\n",
      "ALS training RMSE : 0.5244882944256996\n",
      "ALS training RMSE : 0.524188703361501\n",
      "ALS training RMSE : 0.5239240474442701\n",
      "ALS training RMSE : 0.5236885153834951\n",
      "ALS training RMSE : 0.5234775679682886\n",
      "ALS training RMSE : 0.5232876201623021\n",
      "ALS training RMSE : 0.5231158065289976\n",
      "ALS training RMSE : 0.5229598055817284\n",
      "ALS training RMSE : 0.5228177077655134\n",
      "ALS training RMSE : 0.5226879168328483\n",
      "ALS training RMSE : 0.5225690770920017\n",
      "ALS training RMSE : 0.5224600205351942\n",
      "ALS training RMSE : 0.522359728881977\n",
      "ALS training RMSE : 0.5222673064451062\n",
      "RMSE on test data after ALS: 0.7155165793912632.\n"
     ]
    }
   ],
   "source": [
    "# num_features = 50\n",
    "# lambda_user = 0.2\n",
    "# lambda_item = 0.02\n",
    "# item_features,user_features,_ = ALS(train, test,num_features,lambda_user,lambda_item)"
   ]
  },
  {
   "cell_type": "code",
   "execution_count": 55,
   "metadata": {},
   "outputs": [],
   "source": [
    "def cv_ALS_grid_search(train,test,seed=988):\n",
    "    # set seed\n",
    "    np.random.seed(seed)\n",
    "    \n",
    "    lambda_users = np.linspace(0.01,0.21,num=21)\n",
    "    lambda_items = np.linspace(0.01,0.21,num=21)\n",
    "    nb_features = 50\n",
    "    weights = np.linspace(1.0,3.0,num=30)\n",
    "    # for test\n",
    "#     lambda_users = [0.01]\n",
    "#     lambda_items = [0.2]\n",
    "#     nb_features = 20\n",
    "#     weights = [1.0]\n",
    "                    \n",
    "    best_weight = -1\n",
    "    best_lambda_item = -1\n",
    "    best_lambda_user = -1\n",
    "    best_num_feature = -1\n",
    "    best_rmse = 100\n",
    "    \n",
    "    newpath = r'./data' \n",
    "    if not os.path.exists(newpath):\n",
    "        os.makedirs(newpath)\n",
    "    for i in range(20,nb_features+1):\n",
    "        num_features = i\n",
    "        for weight in weights:\n",
    "            for lambda_user in lambda_users:\n",
    "                for lambda_item in lambda_items:\n",
    "                    item_features,user_features,test_rmse = ALS(train, test,num_features,lambda_user,lambda_item,weight)\n",
    "                    if(test_rmse < best_rmse):\n",
    "                        best_rmse = test_rmse\n",
    "                        bset_lambda_item = lambda_item\n",
    "                        best_lambda_user = lambda_user\n",
    "                        best_weight = weight\n",
    "                        best_num_feature = num_features\n",
    "                        best_rmse = test_rmse\n",
    "                        print(\"CHANGE=====>best rmse: {},lambda_item :{},lambda_user:{},weight:{},num_feature:{}\"\\\n",
    "                              .format(best_rmse,bset_lambda_item,best_lambda_user,best_weight,best_num_feature))\n",
    "    print(\"=======>>>>FINAL: BEST RMSE: {},lambda_item :{},lambda_user:{},weight:{},num_feature:{}\"\\\n",
    "                              .format(best_rmse,bset_lambda_item,best_lambda_user,best_weight,best_num_feature))\n",
    "    best_param = np.array([best_num_feature,best_weight,best_lambda_user,bset_lambda_item])\n",
    "    np.save(\"best_param_grid_search.npy\", best_param)\n",
    "    return best_num_feature,best_weight,best_lambda_user,bset_lambda_item"
   ]
  },
  {
   "cell_type": "code",
   "execution_count": 83,
   "metadata": {},
   "outputs": [],
   "source": [
    "def cv_ALS_random_search(train,test,seed=988):\n",
    "#     # set seed\n",
    "#     np.random.seed(seed)\n",
    "    users_range = np.linspace(0.01,1,num=100)\n",
    "    item_range = np.linspace(0.01,1,num=100)\n",
    "#     features_num_range = 60\n",
    "    features_num_range = np.linspace(1,60,num=60,dtype=np.int32)\n",
    "    weight_range = np.linspace(1.0,3.0,num=60)\n",
    "    \n",
    "    lambda_users = np.random.choice(users_range,60)\n",
    "    lambda_items = np.random.choice(item_range,60)\n",
    "    nb_features = np.random.choice(features_num_range,60)\n",
    "    weights = np.random.choice(weight_range,60)\n",
    "    \n",
    "    # for test\n",
    "#     lambda_users = [0.01]\n",
    "#     lambda_items = [0.2]\n",
    "#     nb_features = [20]\n",
    "#     weights = [1.0]\n",
    "    \n",
    "    best_weight = -1\n",
    "    best_lambda_item = -1\n",
    "    best_lambda_user = -1\n",
    "    best_num_feature = -1\n",
    "    best_rmse = 100\n",
    "    \n",
    "    k_fold = 5\n",
    "#     # set seed\n",
    "#     np.random.seed(seed)\n",
    "    \n",
    "    newpath = r'./data' \n",
    "    if not os.path.exists(newpath):\n",
    "        os.makedirs(newpath)\n",
    "    train_tr_list, test_tr_list = split_for_cv(train,p_test=0.2)\n",
    "    for num_features,weight,lambda_user,lambda_item in zip(nb_features,weights,lambda_users,lambda_items):\n",
    "        rmse_list = []\n",
    "        for train_tr,test_tr in zip(train_tr_list, test_tr_list): # 5-fold cv\n",
    "            item_features,user_features,test_tr_rmse = ALS(train_tr, test_tr,num_features,lambda_user,lambda_item,weight)\n",
    "#             print(\"test RMSE: {te_rmse}\" .format(te_rmse=test_tr_rmse))\n",
    "            rmse_list.append(test_tr_rmse)\n",
    "        test_rmse = np.mean(rmse_list)\n",
    "        if(test_rmse < best_rmse):\n",
    "            best_rmse = test_rmse\n",
    "            bset_lambda_item = lambda_item\n",
    "            best_lambda_user = lambda_user\n",
    "            best_weight = weight\n",
    "            best_num_feature = num_features\n",
    "            best_rmse = test_rmse\n",
    "            print(\"CHANGE=====>best rmse: {},lambda_item :{},lambda_user:{},weight:{},num_feature:{}\"\\\n",
    "                  .format(best_rmse,bset_lambda_item,best_lambda_user,best_weight,best_num_feature))\n",
    "            \n",
    "    print(\"=======>>>> FINAL: BEST RMSE: {},lambda_item :{},lambda_user:{},weight:{},num_feature:{}\"\\\n",
    "                              .format(best_rmse,bset_lambda_item,best_lambda_user,best_weight,best_num_feature))\n",
    "    \n",
    "    best_param = np.array([best_num_feature,best_weight,best_lambda_user,bset_lambda_item])\n",
    "    np.save(\"best_param_random_search.npy\", best_param)\n",
    "    return best_num_feature,best_weight,best_lambda_user,bset_lambda_item"
   ]
  },
  {
   "cell_type": "code",
   "execution_count": 94,
   "metadata": {},
   "outputs": [],
   "source": [
    "def split_for_cv(train,p_test=0.2,k_fold=5):\n",
    "    # init\n",
    "    num_rows, num_cols = train.shape\n",
    "    nz_items, nz_users = train.nonzero()\n",
    "    train_tr_list=[]\n",
    "    test_tr_list = []\n",
    "    # split the data\n",
    "    for k in range(k_fold):\n",
    "        train_tr = sp.lil_matrix((num_rows, num_cols))\n",
    "        test_tr = sp.lil_matrix((num_rows, num_cols))\n",
    "        for user in set(nz_users):\n",
    "            # randomly select a subset of ratings\n",
    "            row, col = train[:, user].nonzero()\n",
    "            selects = np.random.choice(row, size=int(len(row) * p_test))\n",
    "            residual = list(set(row) - set(selects))\n",
    "\n",
    "            # add to train set\n",
    "            train_tr[residual, user] = train[residual, user]\n",
    "\n",
    "            # add to test set\n",
    "            test_tr[selects, user] = train[selects, user]\n",
    "            \n",
    "        train_tr_list.append(train_tr)\n",
    "        test_tr_list.append(test_tr)\n",
    "        \n",
    "    return train_tr_list, test_tr_list"
   ]
  },
  {
   "cell_type": "code",
   "execution_count": 9,
   "metadata": {},
   "outputs": [],
   "source": [
    "def predict_ALS(train,test,num_features=None,lambda_user=None,lambda_item=None,weight=None,load_File=None):\n",
    "    if(load_File==1):\n",
    "        best_param = np.load(\"best_param_random_search.npy\")\n",
    "        num_features = best_param[0]\n",
    "        weight = best_param[1]\n",
    "        lambda_user = best_param[2]\n",
    "        lambda_item = best_param[3]\n",
    "    \n",
    "    item_features,user_features , _ = ALS(train, test,num_features,lambda_user,lambda_item,weight)\n",
    "    predict_labels = item_features.T @ user_features\n",
    "#     predict_labels[predict_labels > 5] = 5\n",
    "#     predict_labels[predict_labels < 1] = 1\n",
    "    \n",
    "    predict = np.asarray(predict_labels)\n",
    "    np.save(\"predict.npy\",predict)\n",
    "    \n",
    "    return predict\n",
    "    # Generate the CSV submission file\n",
    "    #generate_submission(predicted_labels)"
   ]
  },
  {
   "cell_type": "code",
   "execution_count": 10,
   "metadata": {},
   "outputs": [],
   "source": [
    "def run(intest=0,seed=988):\n",
    "    train_dataset = \"./data/data_train.csv\"\n",
    "    ratings = load_data(train_dataset)\n",
    "    \n",
    "    # set seed\n",
    "    np.random.seed(seed)\n",
    "    \n",
    "    num_items_per_user,num_users_per_item = get_number_per(ratings)\n",
    "    valid_ratings, train, test = split_data(\n",
    "    ratings, num_items_per_user, num_users_per_item, min_num_ratings=0, p_test=0.2)\n",
    "    if(intest ==1):\n",
    "        num_features = 20\n",
    "        weight = 2.1864406779661016\n",
    "        lambda_user = 0.02\n",
    "        lambda_item = 0.47\n",
    "    else:\n",
    "        num_features,weight,lambda_user,lambda_item = cv_ALS_random_search(train,test)\n",
    "#     num_features,weight,lambda_user,lambda_item = cv_ALS_grid_search(train,test)\n",
    "#     predict_ALS(train,test,load_File=1)\n",
    "#     np.random.seed(988)\n",
    "    predict = predict_ALS(train,test,num_features,lambda_user,lambda_item,weight)"
   ]
  },
  {
   "cell_type": "markdown",
   "metadata": {},
   "source": [
    "## Test Function"
   ]
  },
  {
   "cell_type": "code",
   "execution_count": 34,
   "metadata": {
    "scrolled": true
   },
   "outputs": [
    {
     "name": "stdout",
     "output_type": "stream",
     "text": [
      "number of items: 10000, number of users: 1000\n",
      "the shape of original ratings. (# of row, # of col): (10000, 1000)\n",
      "the shape of valid ratings. (# of row, # of col): (10000, 1000)\n",
      "Total number of nonzero elements in origial data:1176952\n",
      "Total number of nonzero elements in train data:941957\n",
      "Total number of nonzero elements in test data:234995\n",
      "ALS training RMSE : 0.9767730275311427\n",
      "RMSE on test data after ALS: 1.001994343538817.\n"
     ]
    }
   ],
   "source": [
    "#test function\n",
    "run(1)"
   ]
  },
  {
   "cell_type": "code",
   "execution_count": 69,
   "metadata": {},
   "outputs": [
    {
     "name": "stdout",
     "output_type": "stream",
     "text": [
      "number of items: 10000, number of users: 1000\n",
      "the shape of original ratings. (# of row, # of col): (10000, 1000)\n",
      "the shape of valid ratings. (# of row, # of col): (10000, 1000)\n",
      "Total number of nonzero elements in origial data:1176952\n",
      "Total number of nonzero elements in train data:963742\n",
      "Total number of nonzero elements in test data:213210\n"
     ]
    }
   ],
   "source": [
    "train_dataset = \"./data/data_train.csv\"\n",
    "ratings = load_data(train_dataset)\n",
    "num_items_per_user,num_users_per_item = get_number_per(ratings)\n",
    "valid_ratings, train, test = split_data(\n",
    "ratings, num_items_per_user, num_users_per_item, min_num_ratings=0, p_test=0.2)"
   ]
  },
  {
   "cell_type": "code",
   "execution_count": 81,
   "metadata": {},
   "outputs": [
    {
     "name": "stdout",
     "output_type": "stream",
     "text": [
      "ALS Final training RMSE : 0.8249949573586155\n",
      "RMSE on test data after ALS: 0.8242937198559628.\n",
      "test RMSE: 0.8242937198559628\n",
      "ALS Final training RMSE : 0.8252324088835039\n",
      "RMSE on test data after ALS: 0.8247501770710333.\n",
      "test RMSE: 0.8247501770710333\n",
      "ALS Final training RMSE : 0.8251761616150919\n",
      "RMSE on test data after ALS: 0.824538177162649.\n",
      "test RMSE: 0.824538177162649\n",
      "ALS Final training RMSE : 0.8253676057344289\n",
      "RMSE on test data after ALS: 0.8244818615498287.\n",
      "test RMSE: 0.8244818615498287\n",
      "ALS Final training RMSE : 0.8252385791149907\n",
      "RMSE on test data after ALS: 0.8243587954515158.\n",
      "test RMSE: 0.8243587954515158\n",
      "CHANGE=====>best rmse: 0.824484546218198,lambda_item :0.2,lambda_user:0.01,weight:1.0,num_feature:20\n",
      "=======>>>> FINAL: BEST RMSE: 0.824484546218198,lambda_item :0.2,lambda_user:0.01,weight:1.0,num_feature:20\n"
     ]
    }
   ],
   "source": [
    "num_features,weight,lambda_user,lambda_item = cv_ALS_random_search(train,test)"
   ]
  },
  {
   "cell_type": "code",
   "execution_count": 54,
   "metadata": {},
   "outputs": [
    {
     "name": "stdout",
     "output_type": "stream",
     "text": [
      "Train RMSE: 1.0085226256030653, test RMSE: 1.0327025362264135\n",
      "CHANGE=====>best rmse: 1.0327025362264135,lambda_item :0.2,lambda_user:0.01,weight:1.0,num_feature:20\n",
      "=======>>>>FINAL: BEST RMSE: 1.0327025362264135,lambda_item :0.2,lambda_user:0.01,weight:1.0,num_feature:20\n"
     ]
    }
   ],
   "source": [
    "num_features,weight,lambda_user,lambda_item = cv_ALS_grid_search(train,test)"
   ]
  },
  {
   "cell_type": "markdown",
   "metadata": {},
   "source": [
    "## Run random search"
   ]
  },
  {
   "cell_type": "code",
   "execution_count": 62,
   "metadata": {},
   "outputs": [
    {
     "name": "stdout",
     "output_type": "stream",
     "text": [
      "number of items: 10000, number of users: 1000\n",
      "the shape of original ratings. (# of row, # of col): (10000, 1000)\n",
      "the shape of valid ratings. (# of row, # of col): (10000, 1000)\n",
      "Total number of nonzero elements in origial data:1176952\n",
      "Total number of nonzero elements in train data:941957\n",
      "Total number of nonzero elements in test data:234995\n",
      "Converge!\n",
      "ALS Final training RMSE : 1.2844089848348634\n",
      "RMSE on test data after ALS: 1.2919185835400455.\n",
      "CHANGE=====>best rmse: 1.2919185835400455,lambda_item :0.9400000000000001,lambda_user:0.7100000000000001,weight:2.9661016949152543,num_feature:32\n",
      "Converge!\n",
      "ALS Final training RMSE : 1.0810079018281236\n",
      "RMSE on test data after ALS: 1.0906493535590387.\n",
      "CHANGE=====>best rmse: 1.0906493535590387,lambda_item :0.5700000000000001,lambda_user:0.33,weight:2.3220338983050848,num_feature:34\n",
      "Converge!\n",
      "ALS Final training RMSE : 1.1279576635076167\n",
      "RMSE on test data after ALS: 1.1370043252059976.\n",
      "Converge!\n",
      "ALS Final training RMSE : 1.0872603753772792\n",
      "RMSE on test data after ALS: 1.096817235839338.\n",
      "Converge!\n",
      "ALS Final training RMSE : 1.1142248310737406\n",
      "RMSE on test data after ALS: 1.1234365779761046.\n",
      "Converge!\n",
      "ALS Final training RMSE : 1.0800060627212296\n",
      "RMSE on test data after ALS: 1.089661249357824.\n",
      "CHANGE=====>best rmse: 1.089661249357824,lambda_item :0.6,lambda_user:0.31,weight:1.5084745762711864,num_feature:2\n",
      "Converge!\n",
      "ALS Final training RMSE : 1.0087394937548997\n",
      "RMSE on test data after ALS: 1.019782961811328.\n",
      "CHANGE=====>best rmse: 1.019782961811328,lambda_item :0.98,lambda_user:0.04,weight:2.389830508474576,num_feature:32\n",
      "Converge!\n",
      "ALS Final training RMSE : 1.1337914596675172\n",
      "RMSE on test data after ALS: 1.1427699161495164.\n",
      "Converge!\n",
      "ALS Final training RMSE : 1.0123368780246207\n",
      "RMSE on test data after ALS: 1.023097977330351.\n",
      "Converge!\n",
      "ALS Final training RMSE : 1.150098788648393\n",
      "RMSE on test data after ALS: 1.158892200599582.\n",
      "Converge!\n",
      "ALS Final training RMSE : 1.1123284461819973\n",
      "RMSE on test data after ALS: 1.1215635173654905.\n",
      "Converge!\n",
      "ALS Final training RMSE : 1.0215189117223804\n",
      "RMSE on test data after ALS: 1.0320978882668552.\n",
      "Converge!\n",
      "ALS Final training RMSE : 1.1421259849367615\n",
      "RMSE on test data after ALS: 1.1510088665050233.\n",
      "Converge!\n",
      "ALS Final training RMSE : 1.1609605416201598\n",
      "RMSE on test data after ALS: 1.169634977394835.\n",
      "Converge!\n",
      "ALS Final training RMSE : 1.312152602409695\n",
      "RMSE on test data after ALS: 1.3194380826721084.\n",
      "Converge!\n",
      "ALS Final training RMSE : 1.218916382768321\n",
      "RMSE on test data after ALS: 1.2270055145906829.\n",
      "ALS Final training RMSE : 0.8383804081611202\n",
      "RMSE on test data after ALS: 0.990812883994429.\n",
      "CHANGE=====>best rmse: 0.990812883994429,lambda_item :0.17,lambda_user:0.05,weight:1.1694915254237288,num_feature:55\n",
      "Converge!\n",
      "ALS Final training RMSE : 1.0275528068061304\n",
      "RMSE on test data after ALS: 1.0380207118134717.\n",
      "Converge!\n",
      "ALS Final training RMSE : 1.0671224244193707\n",
      "RMSE on test data after ALS: 1.0769590007060428.\n",
      "Converge!\n",
      "ALS Final training RMSE : 1.1013051365622633\n",
      "RMSE on test data after ALS: 1.1106785061115774.\n",
      "Converge!\n",
      "ALS Final training RMSE : 1.0067786978459479\n",
      "RMSE on test data after ALS: 1.0176606383422235.\n",
      "Converge!\n",
      "ALS Final training RMSE : 1.2002420111280576\n",
      "RMSE on test data after ALS: 1.2085113753205072.\n",
      "Converge!\n",
      "ALS Final training RMSE : 1.0450494036510258\n",
      "RMSE on test data after ALS: 1.0552212541064658.\n",
      "Converge!\n",
      "ALS Final training RMSE : 1.1303314210132194\n",
      "RMSE on test data after ALS: 1.1393501963968058.\n",
      "Converge!\n",
      "ALS Final training RMSE : 1.3543705455969575\n",
      "RMSE on test data after ALS: 1.3613358444647463.\n",
      "ALS Final training RMSE : 0.8708284951009893\n",
      "RMSE on test data after ALS: 0.9901923370979466.\n",
      "CHANGE=====>best rmse: 0.9901923370979466,lambda_item :0.17,lambda_user:0.05,weight:1.8813559322033897,num_feature:31\n",
      "Converge!\n",
      "ALS Final training RMSE : 1.231032143763445\n",
      "RMSE on test data after ALS: 1.2390081587117792.\n",
      "Converge!\n",
      "ALS Final training RMSE : 1.1502722875668847\n",
      "RMSE on test data after ALS: 1.159063773148949.\n",
      "Converge!\n",
      "ALS Final training RMSE : 1.0713462989099793\n",
      "RMSE on test data after ALS: 1.081122389144139.\n",
      "Converge!\n",
      "ALS Final training RMSE : 1.2360830604732216\n",
      "RMSE on test data after ALS: 1.2440127607367832.\n",
      "Converge!\n",
      "ALS Final training RMSE : 1.3217537480049832\n",
      "RMSE on test data after ALS: 1.3289642898094596.\n",
      "Converge!\n",
      "ALS Final training RMSE : 1.0154541806427015\n",
      "RMSE on test data after ALS: 1.026151269694027.\n",
      "Converge!\n",
      "ALS Final training RMSE : 1.1944586758272742\n",
      "RMSE on test data after ALS: 1.202785383484231.\n",
      "Converge!\n",
      "ALS Final training RMSE : 1.05675956806189\n",
      "RMSE on test data after ALS: 1.066749221348276.\n",
      "Converge!\n",
      "ALS Final training RMSE : 1.0580419202540394\n",
      "RMSE on test data after ALS: 1.0680122459280805.\n",
      "Converge!\n",
      "ALS Final training RMSE : 1.2129727148827962\n",
      "RMSE on test data after ALS: 1.2211184166652351.\n",
      "Converge!\n",
      "ALS Final training RMSE : 1.1873802480496007\n",
      "RMSE on test data after ALS: 1.1957781717652018.\n",
      "Converge!\n",
      "ALS Final training RMSE : 1.0991616726285085\n",
      "RMSE on test data after ALS: 1.1085624966137408.\n",
      "Converge!\n",
      "ALS Final training RMSE : 1.1926914225322145\n",
      "RMSE on test data after ALS: 1.2010358029846453.\n",
      "Converge!\n",
      "ALS Final training RMSE : 1.1171962840361267\n",
      "RMSE on test data after ALS: 1.1263717485649103.\n",
      "ALS Final training RMSE : 0.5700747599920404\n",
      "RMSE on test data after ALS: 1.2500563416824106.\n",
      "Converge!\n",
      "ALS Final training RMSE : 1.3247140514769014\n",
      "RMSE on test data after ALS: 1.3319017476215746.\n",
      "Converge!\n",
      "ALS Final training RMSE : 1.031993284824586\n",
      "RMSE on test data after ALS: 1.0423827740744627.\n",
      "Converge!\n",
      "ALS Final training RMSE : 1.2006189305907868\n",
      "RMSE on test data after ALS: 1.2088845832470796.\n",
      "Converge!\n",
      "ALS Final training RMSE : 1.0794738969553124\n",
      "RMSE on test data after ALS: 1.0891363977820991.\n",
      "Converge!\n",
      "ALS Final training RMSE : 1.1304648289146695\n",
      "RMSE on test data after ALS: 1.1394820425662306.\n",
      "Converge!\n",
      "ALS Final training RMSE : 1.032524791224025\n",
      "RMSE on test data after ALS: 1.0429050618091644.\n",
      "Converge!\n",
      "ALS Final training RMSE : 1.1171931481610595\n",
      "RMSE on test data after ALS: 1.1263686509832365.\n",
      "Converge!\n",
      "ALS Final training RMSE : 1.1862393543889134\n",
      "RMSE on test data after ALS: 1.19464886523835.\n",
      "Converge!\n",
      "ALS Final training RMSE : 1.2471166622039218\n",
      "RMSE on test data after ALS: 1.2549468500371.\n",
      "Converge!\n",
      "ALS Final training RMSE : 1.297391640091953\n",
      "RMSE on test data after ALS: 1.3047949228097588.\n",
      "ALS Final training RMSE : 0.9585648638486614\n",
      "RMSE on test data after ALS: 0.9954155612185944.\n",
      "Converge!\n",
      "ALS Final training RMSE : 1.2880813079251154\n",
      "RMSE on test data after ALS: 1.295560569626203.\n",
      "Converge!\n",
      "ALS Final training RMSE : 1.1643169556513309\n",
      "RMSE on test data after ALS: 1.1729552774078305.\n",
      "Converge!\n",
      "ALS Final training RMSE : 1.0309220129189307\n",
      "RMSE on test data after ALS: 1.0413301880846526.\n",
      "Converge!\n",
      "ALS Final training RMSE : 1.2223663740680366\n",
      "RMSE on test data after ALS: 1.2304229994548794.\n",
      "Converge!\n",
      "ALS Final training RMSE : 1.301718422232984\n",
      "RMSE on test data after ALS: 1.3090868416618842.\n",
      "Converge!\n",
      "ALS Final training RMSE : 1.0764025497247127\n",
      "RMSE on test data after ALS: 1.0861075586877298.\n",
      "Converge!\n",
      "ALS Final training RMSE : 0.9851429551933328\n",
      "RMSE on test data after ALS: 1.0024703092684057.\n",
      "Converge!\n",
      "ALS Final training RMSE : 1.1184535111018934\n",
      "RMSE on test data after ALS: 1.127613720185237.\n",
      "=======>>>> FINAL: BEST RMSE: 0.9901923370979466,lambda_item :0.17,lambda_user:0.05,weight:1.8813559322033897,num_feature:31\n",
      "Train RMSE: 0.8708284951009893, test RMSE: 0.9901923370979466\n"
     ]
    }
   ],
   "source": [
    "run()"
   ]
  },
  {
   "cell_type": "markdown",
   "metadata": {},
   "source": [
    "### After modifying cross validation"
   ]
  },
  {
   "cell_type": "code",
   "execution_count": null,
   "metadata": {},
   "outputs": [
    {
     "name": "stdout",
     "output_type": "stream",
     "text": [
      "number of items: 10000, number of users: 1000\n",
      "the shape of original ratings. (# of row, # of col): (10000, 1000)\n",
      "the shape of valid ratings. (# of row, # of col): (10000, 1000)\n",
      "Total number of nonzero elements in origial data:1176952\n",
      "Total number of nonzero elements in train data:963742\n",
      "Total number of nonzero elements in test data:213210\n"
     ]
    }
   ],
   "source": [
    "run()"
   ]
  },
  {
   "cell_type": "markdown",
   "metadata": {},
   "source": [
    "## transform into df"
   ]
  },
  {
   "cell_type": "code",
   "execution_count": 11,
   "metadata": {},
   "outputs": [
    {
     "name": "stdout",
     "output_type": "stream",
     "text": [
      "number of items: 10000, number of users: 1000\n",
      "the shape of original ratings. (# of row, # of col): (10000, 1000)\n",
      "the shape of valid ratings. (# of row, # of col): (10000, 1000)\n",
      "Total number of nonzero elements in origial data:1176952\n",
      "Total number of nonzero elements in train data:963742\n",
      "Total number of nonzero elements in test data:213210\n",
      "ALS Final training RMSE : 0.9067974720359236\n",
      "RMSE on test data after ALS: 0.9867195060304998.\n"
     ]
    }
   ],
   "source": [
    "run(1)"
   ]
  },
  {
   "cell_type": "code",
   "execution_count": null,
   "metadata": {},
   "outputs": [],
   "source": [
    "def predict_ALS(train,test,num_features=None,lambda_user=None,lambda_item=None,weight=None,load_File=None):\n",
    "    seed = 988\n",
    "    train_dataset = \"./data/data_train.csv\"\n",
    "    ratings = load_data(train_dataset)\n",
    "    \n",
    "    # set seed\n",
    "    np.random.seed(seed)\n",
    "    \n",
    "    num_items_per_user,num_users_per_item = get_number_per(ratings)\n",
    "    valid_ratings, train, test = split_data(\n",
    "    ratings, num_items_per_user, num_users_per_item, min_num_ratings=0, p_test=0.1)\n",
    "    \n",
    "    if(load_File==1):\n",
    "        best_param = np.load(\"best_param_random_search.npy\")\n",
    "        num_features = best_param[0]\n",
    "        weight = best_param[1]\n",
    "        lambda_user = best_param[2]\n",
    "        lambda_item = best_param[3]\n",
    "    else:\n",
    "        num_features = 20\n",
    "        weight = 2.18644068\n",
    "        lambda_user = 0.02\n",
    "        lambda_item = 0.47\n",
    "    item_features,user_features , _ = ALS(train, test,num_features,lambda_user,lambda_item,weight)\n",
    "    predict_labels = item_features.T @ user_features\n",
    "    predict = np.asarray(predict_labels.T)\n",
    "    moive_user_predict = pd.DataFrame(data=predict)\n",
    "    moive_user_predict.reset_index(inplace=True)\n",
    "    moive_user_predict_copy.rename(columns={\"index\":\"Movie\"},inplace=True)\n",
    "    moive_user_predict_melt = pd.melt(moive_user_predict_copy,id_vars=[\"Movie\"],var_name=\"User\",value_name =\"Rating\")\n",
    "    moive_user_predict_melt[\"Movie\"] = moive_user_predict_melt[\"Movie\"].values +1\n",
    "    moive_user_predict_melt[\"User\"] = moive_user_predict_melt[\"User\"].values +1\n",
    "    \n",
    "    return moive_user_predict_melt\n",
    "#     sample = pd.read_csv(\"./data/sampleSubmission.csv\")\n",
    "#     predictions = create_csv_submission(moive_user_predict_melt)\n",
    "#     prediction = predictions[predictions.Id.isin(sample.Id.values)]\n",
    "    \n",
    "#     return prediction"
   ]
  },
  {
   "cell_type": "code",
   "execution_count": 20,
   "metadata": {},
   "outputs": [],
   "source": [
    "param = np.load(\"best_param_random_search.npy\")"
   ]
  },
  {
   "cell_type": "code",
   "execution_count": 21,
   "metadata": {},
   "outputs": [
    {
     "data": {
      "text/plain": [
       "array([20.        ,  2.18644068,  0.02      ,  0.47      ])"
      ]
     },
     "execution_count": 21,
     "metadata": {},
     "output_type": "execute_result"
    }
   ],
   "source": [
    "param"
   ]
  },
  {
   "cell_type": "code",
   "execution_count": 22,
   "metadata": {},
   "outputs": [],
   "source": [
    "predict = np.load(\"predict.npy\")"
   ]
  },
  {
   "cell_type": "code",
   "execution_count": 23,
   "metadata": {},
   "outputs": [
    {
     "data": {
      "text/plain": [
       "(10000, 1000)"
      ]
     },
     "execution_count": 23,
     "metadata": {},
     "output_type": "execute_result"
    }
   ],
   "source": [
    "predict.shape"
   ]
  },
  {
   "cell_type": "code",
   "execution_count": 24,
   "metadata": {},
   "outputs": [],
   "source": [
    "moive_user_predict = pd.DataFrame(data=predict)"
   ]
  },
  {
   "cell_type": "code",
   "execution_count": 25,
   "metadata": {},
   "outputs": [
    {
     "data": {
      "text/plain": [
       "(10000, 1000)"
      ]
     },
     "execution_count": 25,
     "metadata": {},
     "output_type": "execute_result"
    }
   ],
   "source": [
    "moive_user_predict.shape"
   ]
  },
  {
   "cell_type": "code",
   "execution_count": 26,
   "metadata": {},
   "outputs": [
    {
     "data": {
      "text/html": [
       "<div>\n",
       "<style scoped>\n",
       "    .dataframe tbody tr th:only-of-type {\n",
       "        vertical-align: middle;\n",
       "    }\n",
       "\n",
       "    .dataframe tbody tr th {\n",
       "        vertical-align: top;\n",
       "    }\n",
       "\n",
       "    .dataframe thead th {\n",
       "        text-align: right;\n",
       "    }\n",
       "</style>\n",
       "<table border=\"1\" class=\"dataframe\">\n",
       "  <thead>\n",
       "    <tr style=\"text-align: right;\">\n",
       "      <th></th>\n",
       "      <th>0</th>\n",
       "      <th>1</th>\n",
       "      <th>2</th>\n",
       "      <th>3</th>\n",
       "      <th>4</th>\n",
       "      <th>5</th>\n",
       "      <th>6</th>\n",
       "      <th>7</th>\n",
       "      <th>8</th>\n",
       "      <th>9</th>\n",
       "      <th>...</th>\n",
       "      <th>990</th>\n",
       "      <th>991</th>\n",
       "      <th>992</th>\n",
       "      <th>993</th>\n",
       "      <th>994</th>\n",
       "      <th>995</th>\n",
       "      <th>996</th>\n",
       "      <th>997</th>\n",
       "      <th>998</th>\n",
       "      <th>999</th>\n",
       "    </tr>\n",
       "  </thead>\n",
       "  <tbody>\n",
       "    <tr>\n",
       "      <th>0</th>\n",
       "      <td>3.393179</td>\n",
       "      <td>3.841689</td>\n",
       "      <td>3.648266</td>\n",
       "      <td>3.811533</td>\n",
       "      <td>3.519846</td>\n",
       "      <td>4.771594</td>\n",
       "      <td>3.404051</td>\n",
       "      <td>3.775524</td>\n",
       "      <td>2.836085</td>\n",
       "      <td>3.959957</td>\n",
       "      <td>...</td>\n",
       "      <td>3.115013</td>\n",
       "      <td>3.708406</td>\n",
       "      <td>2.987128</td>\n",
       "      <td>3.094524</td>\n",
       "      <td>3.160458</td>\n",
       "      <td>3.130077</td>\n",
       "      <td>3.174885</td>\n",
       "      <td>3.519486</td>\n",
       "      <td>3.059091</td>\n",
       "      <td>3.738504</td>\n",
       "    </tr>\n",
       "    <tr>\n",
       "      <th>1</th>\n",
       "      <td>2.997518</td>\n",
       "      <td>3.348165</td>\n",
       "      <td>3.082422</td>\n",
       "      <td>3.481609</td>\n",
       "      <td>3.035110</td>\n",
       "      <td>4.628826</td>\n",
       "      <td>3.253914</td>\n",
       "      <td>3.774798</td>\n",
       "      <td>3.101355</td>\n",
       "      <td>3.545591</td>\n",
       "      <td>...</td>\n",
       "      <td>2.621680</td>\n",
       "      <td>3.576796</td>\n",
       "      <td>2.394232</td>\n",
       "      <td>3.251566</td>\n",
       "      <td>3.084236</td>\n",
       "      <td>3.116304</td>\n",
       "      <td>3.144644</td>\n",
       "      <td>3.153708</td>\n",
       "      <td>3.155495</td>\n",
       "      <td>3.465169</td>\n",
       "    </tr>\n",
       "    <tr>\n",
       "      <th>2</th>\n",
       "      <td>2.701085</td>\n",
       "      <td>2.971805</td>\n",
       "      <td>2.833805</td>\n",
       "      <td>2.868097</td>\n",
       "      <td>2.708409</td>\n",
       "      <td>4.139222</td>\n",
       "      <td>2.806486</td>\n",
       "      <td>3.223623</td>\n",
       "      <td>2.597808</td>\n",
       "      <td>3.074558</td>\n",
       "      <td>...</td>\n",
       "      <td>2.581619</td>\n",
       "      <td>3.461025</td>\n",
       "      <td>2.647213</td>\n",
       "      <td>2.868709</td>\n",
       "      <td>2.660559</td>\n",
       "      <td>2.398197</td>\n",
       "      <td>2.604028</td>\n",
       "      <td>3.002041</td>\n",
       "      <td>2.753048</td>\n",
       "      <td>3.055945</td>\n",
       "    </tr>\n",
       "    <tr>\n",
       "      <th>3</th>\n",
       "      <td>3.488837</td>\n",
       "      <td>3.164460</td>\n",
       "      <td>3.063617</td>\n",
       "      <td>3.669082</td>\n",
       "      <td>3.479946</td>\n",
       "      <td>4.114427</td>\n",
       "      <td>3.315459</td>\n",
       "      <td>2.957377</td>\n",
       "      <td>3.071815</td>\n",
       "      <td>3.338634</td>\n",
       "      <td>...</td>\n",
       "      <td>2.728050</td>\n",
       "      <td>3.405540</td>\n",
       "      <td>2.780489</td>\n",
       "      <td>3.453255</td>\n",
       "      <td>3.188843</td>\n",
       "      <td>2.687127</td>\n",
       "      <td>3.395283</td>\n",
       "      <td>2.932249</td>\n",
       "      <td>3.276302</td>\n",
       "      <td>3.332850</td>\n",
       "    </tr>\n",
       "    <tr>\n",
       "      <th>4</th>\n",
       "      <td>3.090501</td>\n",
       "      <td>3.468388</td>\n",
       "      <td>2.990522</td>\n",
       "      <td>3.955623</td>\n",
       "      <td>3.412800</td>\n",
       "      <td>4.772756</td>\n",
       "      <td>3.113911</td>\n",
       "      <td>3.638037</td>\n",
       "      <td>3.033379</td>\n",
       "      <td>4.075456</td>\n",
       "      <td>...</td>\n",
       "      <td>2.701928</td>\n",
       "      <td>3.650107</td>\n",
       "      <td>2.536011</td>\n",
       "      <td>3.043492</td>\n",
       "      <td>3.638948</td>\n",
       "      <td>3.182422</td>\n",
       "      <td>3.267897</td>\n",
       "      <td>2.999633</td>\n",
       "      <td>3.208588</td>\n",
       "      <td>3.627859</td>\n",
       "    </tr>\n",
       "  </tbody>\n",
       "</table>\n",
       "<p>5 rows × 1000 columns</p>\n",
       "</div>"
      ],
      "text/plain": [
       "        0         1         2         3         4         5         6    \\\n",
       "0  3.393179  3.841689  3.648266  3.811533  3.519846  4.771594  3.404051   \n",
       "1  2.997518  3.348165  3.082422  3.481609  3.035110  4.628826  3.253914   \n",
       "2  2.701085  2.971805  2.833805  2.868097  2.708409  4.139222  2.806486   \n",
       "3  3.488837  3.164460  3.063617  3.669082  3.479946  4.114427  3.315459   \n",
       "4  3.090501  3.468388  2.990522  3.955623  3.412800  4.772756  3.113911   \n",
       "\n",
       "        7         8         9      ...          990       991       992  \\\n",
       "0  3.775524  2.836085  3.959957    ...     3.115013  3.708406  2.987128   \n",
       "1  3.774798  3.101355  3.545591    ...     2.621680  3.576796  2.394232   \n",
       "2  3.223623  2.597808  3.074558    ...     2.581619  3.461025  2.647213   \n",
       "3  2.957377  3.071815  3.338634    ...     2.728050  3.405540  2.780489   \n",
       "4  3.638037  3.033379  4.075456    ...     2.701928  3.650107  2.536011   \n",
       "\n",
       "        993       994       995       996       997       998       999  \n",
       "0  3.094524  3.160458  3.130077  3.174885  3.519486  3.059091  3.738504  \n",
       "1  3.251566  3.084236  3.116304  3.144644  3.153708  3.155495  3.465169  \n",
       "2  2.868709  2.660559  2.398197  2.604028  3.002041  2.753048  3.055945  \n",
       "3  3.453255  3.188843  2.687127  3.395283  2.932249  3.276302  3.332850  \n",
       "4  3.043492  3.638948  3.182422  3.267897  2.999633  3.208588  3.627859  \n",
       "\n",
       "[5 rows x 1000 columns]"
      ]
     },
     "execution_count": 26,
     "metadata": {},
     "output_type": "execute_result"
    }
   ],
   "source": [
    "moive_user_predict.head()"
   ]
  },
  {
   "cell_type": "code",
   "execution_count": 93,
   "metadata": {},
   "outputs": [],
   "source": [
    "moive_user_predict_copy = moive_user_predict.copy()"
   ]
  },
  {
   "cell_type": "code",
   "execution_count": 94,
   "metadata": {},
   "outputs": [],
   "source": [
    "moive_user_predict_copy.reset_index(inplace=True)"
   ]
  },
  {
   "cell_type": "code",
   "execution_count": 97,
   "metadata": {},
   "outputs": [],
   "source": [
    "moive_user_predict_copy.rename(columns={\"index\":\"Movie\"},inplace=True)"
   ]
  },
  {
   "cell_type": "code",
   "execution_count": 98,
   "metadata": {},
   "outputs": [],
   "source": [
    "moive_user_predict_melt = pd.melt(moive_user_predict_copy,id_vars=[\"Movie\"],var_name=\"User\",value_name =\"Rating\")"
   ]
  },
  {
   "cell_type": "code",
   "execution_count": 99,
   "metadata": {},
   "outputs": [
    {
     "data": {
      "text/html": [
       "<div>\n",
       "<style scoped>\n",
       "    .dataframe tbody tr th:only-of-type {\n",
       "        vertical-align: middle;\n",
       "    }\n",
       "\n",
       "    .dataframe tbody tr th {\n",
       "        vertical-align: top;\n",
       "    }\n",
       "\n",
       "    .dataframe thead th {\n",
       "        text-align: right;\n",
       "    }\n",
       "</style>\n",
       "<table border=\"1\" class=\"dataframe\">\n",
       "  <thead>\n",
       "    <tr style=\"text-align: right;\">\n",
       "      <th></th>\n",
       "      <th>Movie</th>\n",
       "      <th>User</th>\n",
       "      <th>Rating</th>\n",
       "    </tr>\n",
       "  </thead>\n",
       "  <tbody>\n",
       "    <tr>\n",
       "      <th>0</th>\n",
       "      <td>0</td>\n",
       "      <td>0</td>\n",
       "      <td>3.393179</td>\n",
       "    </tr>\n",
       "    <tr>\n",
       "      <th>1</th>\n",
       "      <td>1</td>\n",
       "      <td>0</td>\n",
       "      <td>2.997518</td>\n",
       "    </tr>\n",
       "    <tr>\n",
       "      <th>2</th>\n",
       "      <td>2</td>\n",
       "      <td>0</td>\n",
       "      <td>2.701085</td>\n",
       "    </tr>\n",
       "    <tr>\n",
       "      <th>3</th>\n",
       "      <td>3</td>\n",
       "      <td>0</td>\n",
       "      <td>3.488837</td>\n",
       "    </tr>\n",
       "    <tr>\n",
       "      <th>4</th>\n",
       "      <td>4</td>\n",
       "      <td>0</td>\n",
       "      <td>3.090501</td>\n",
       "    </tr>\n",
       "  </tbody>\n",
       "</table>\n",
       "</div>"
      ],
      "text/plain": [
       "   Movie User    Rating\n",
       "0      0    0  3.393179\n",
       "1      1    0  2.997518\n",
       "2      2    0  2.701085\n",
       "3      3    0  3.488837\n",
       "4      4    0  3.090501"
      ]
     },
     "execution_count": 99,
     "metadata": {},
     "output_type": "execute_result"
    }
   ],
   "source": [
    "moive_user_predict_melt.head()"
   ]
  },
  {
   "cell_type": "code",
   "execution_count": 86,
   "metadata": {},
   "outputs": [],
   "source": [
    "moive_user_predict_melt.reset_index(inplace=True)"
   ]
  },
  {
   "cell_type": "code",
   "execution_count": 87,
   "metadata": {},
   "outputs": [
    {
     "data": {
      "text/html": [
       "<div>\n",
       "<style scoped>\n",
       "    .dataframe tbody tr th:only-of-type {\n",
       "        vertical-align: middle;\n",
       "    }\n",
       "\n",
       "    .dataframe tbody tr th {\n",
       "        vertical-align: top;\n",
       "    }\n",
       "\n",
       "    .dataframe thead th {\n",
       "        text-align: right;\n",
       "    }\n",
       "</style>\n",
       "<table border=\"1\" class=\"dataframe\">\n",
       "  <thead>\n",
       "    <tr style=\"text-align: right;\">\n",
       "      <th></th>\n",
       "      <th>index</th>\n",
       "      <th>User</th>\n",
       "      <th>Rating</th>\n",
       "    </tr>\n",
       "  </thead>\n",
       "  <tbody>\n",
       "    <tr>\n",
       "      <th>0</th>\n",
       "      <td>0</td>\n",
       "      <td>0</td>\n",
       "      <td>3.393179</td>\n",
       "    </tr>\n",
       "    <tr>\n",
       "      <th>1</th>\n",
       "      <td>1</td>\n",
       "      <td>0</td>\n",
       "      <td>2.997518</td>\n",
       "    </tr>\n",
       "    <tr>\n",
       "      <th>2</th>\n",
       "      <td>2</td>\n",
       "      <td>0</td>\n",
       "      <td>2.701085</td>\n",
       "    </tr>\n",
       "    <tr>\n",
       "      <th>3</th>\n",
       "      <td>3</td>\n",
       "      <td>0</td>\n",
       "      <td>3.488837</td>\n",
       "    </tr>\n",
       "    <tr>\n",
       "      <th>4</th>\n",
       "      <td>4</td>\n",
       "      <td>0</td>\n",
       "      <td>3.090501</td>\n",
       "    </tr>\n",
       "  </tbody>\n",
       "</table>\n",
       "</div>"
      ],
      "text/plain": [
       "   index  User    Rating\n",
       "0      0     0  3.393179\n",
       "1      1     0  2.997518\n",
       "2      2     0  2.701085\n",
       "3      3     0  3.488837\n",
       "4      4     0  3.090501"
      ]
     },
     "execution_count": 87,
     "metadata": {},
     "output_type": "execute_result"
    }
   ],
   "source": [
    "moive_user_predict_melt.head()"
   ]
  },
  {
   "cell_type": "code",
   "execution_count": 88,
   "metadata": {},
   "outputs": [],
   "source": [
    "moive_user_predict_melt.rename(columns={\"index\":\"Movie\"},inplace=True)"
   ]
  },
  {
   "cell_type": "code",
   "execution_count": 102,
   "metadata": {},
   "outputs": [],
   "source": [
    "moive_user_predict_melt[\"Movie\"] = moive_user_predict_melt[\"Movie\"].values +1"
   ]
  },
  {
   "cell_type": "code",
   "execution_count": 103,
   "metadata": {},
   "outputs": [],
   "source": [
    "moive_user_predict_melt[\"User\"] = moive_user_predict_melt[\"User\"].values +1"
   ]
  },
  {
   "cell_type": "code",
   "execution_count": 104,
   "metadata": {},
   "outputs": [
    {
     "data": {
      "text/html": [
       "<div>\n",
       "<style scoped>\n",
       "    .dataframe tbody tr th:only-of-type {\n",
       "        vertical-align: middle;\n",
       "    }\n",
       "\n",
       "    .dataframe tbody tr th {\n",
       "        vertical-align: top;\n",
       "    }\n",
       "\n",
       "    .dataframe thead th {\n",
       "        text-align: right;\n",
       "    }\n",
       "</style>\n",
       "<table border=\"1\" class=\"dataframe\">\n",
       "  <thead>\n",
       "    <tr style=\"text-align: right;\">\n",
       "      <th></th>\n",
       "      <th>Movie</th>\n",
       "      <th>User</th>\n",
       "      <th>Rating</th>\n",
       "    </tr>\n",
       "  </thead>\n",
       "  <tbody>\n",
       "    <tr>\n",
       "      <th>0</th>\n",
       "      <td>1</td>\n",
       "      <td>1</td>\n",
       "      <td>3.393179</td>\n",
       "    </tr>\n",
       "    <tr>\n",
       "      <th>1</th>\n",
       "      <td>2</td>\n",
       "      <td>1</td>\n",
       "      <td>2.997518</td>\n",
       "    </tr>\n",
       "    <tr>\n",
       "      <th>2</th>\n",
       "      <td>3</td>\n",
       "      <td>1</td>\n",
       "      <td>2.701085</td>\n",
       "    </tr>\n",
       "    <tr>\n",
       "      <th>3</th>\n",
       "      <td>4</td>\n",
       "      <td>1</td>\n",
       "      <td>3.488837</td>\n",
       "    </tr>\n",
       "    <tr>\n",
       "      <th>4</th>\n",
       "      <td>5</td>\n",
       "      <td>1</td>\n",
       "      <td>3.090501</td>\n",
       "    </tr>\n",
       "  </tbody>\n",
       "</table>\n",
       "</div>"
      ],
      "text/plain": [
       "   Movie User    Rating\n",
       "0      1    1  3.393179\n",
       "1      2    1  2.997518\n",
       "2      3    1  2.701085\n",
       "3      4    1  3.488837\n",
       "4      5    1  3.090501"
      ]
     },
     "execution_count": 104,
     "metadata": {},
     "output_type": "execute_result"
    }
   ],
   "source": [
    "moive_user_predict_melt.head()"
   ]
  },
  {
   "cell_type": "code",
   "execution_count": 48,
   "metadata": {},
   "outputs": [],
   "source": [
    "sample = pd.read_csv(\"./data/sampleSubmission.csv\")"
   ]
  },
  {
   "cell_type": "code",
   "execution_count": 50,
   "metadata": {},
   "outputs": [
    {
     "data": {
      "text/plain": [
       "1176952"
      ]
     },
     "execution_count": 50,
     "metadata": {},
     "output_type": "execute_result"
    }
   ],
   "source": [
    "len(sample)"
   ]
  },
  {
   "cell_type": "code",
   "execution_count": 105,
   "metadata": {},
   "outputs": [],
   "source": [
    "def create_csv_submission_v2(predictions):\n",
    "    \"\"\"Create submission file \"\"\"\n",
    "    print(\"Creating submission file...\")\n",
    "    def round_(x):\n",
    "        if x > 5:\n",
    "            return 5\n",
    "        elif x < 1:\n",
    "            return 1\n",
    "        else:\n",
    "            return round(x)\n",
    "     \n",
    "    predictions['Id'] = predictions.apply(lambda x: 'r{}_c{}'.format(int(x.Movie), int(x.User)), axis=1)\n",
    "    predictions['Prediction'] = predictions.Rating.apply(lambda x: round_(x))\n",
    "    return predictions[['Id', 'Prediction']]"
   ]
  },
  {
   "cell_type": "code",
   "execution_count": 106,
   "metadata": {},
   "outputs": [],
   "source": [
    "predict2 = moive_user_predict_melt[[\"User\",\"Movie\",\"Rating\"]]"
   ]
  },
  {
   "cell_type": "code",
   "execution_count": 107,
   "metadata": {},
   "outputs": [
    {
     "name": "stdout",
     "output_type": "stream",
     "text": [
      "Creating submission file...\n"
     ]
    }
   ],
   "source": [
    "predictions2 = create_csv_submission_v2(predict2)"
   ]
  },
  {
   "cell_type": "code",
   "execution_count": 71,
   "metadata": {},
   "outputs": [],
   "source": [
    "submitId = list(sample.Id.values)"
   ]
  },
  {
   "cell_type": "code",
   "execution_count": 108,
   "metadata": {},
   "outputs": [],
   "source": [
    "prediction_v2 = predictions2[predictions2.Id.isin(submitId)]"
   ]
  },
  {
   "cell_type": "code",
   "execution_count": 110,
   "metadata": {},
   "outputs": [
    {
     "data": {
      "text/plain": [
       "1176952"
      ]
     },
     "execution_count": 110,
     "metadata": {},
     "output_type": "execute_result"
    }
   ],
   "source": [
    "len(prediction_v2)"
   ]
  },
  {
   "cell_type": "code",
   "execution_count": 114,
   "metadata": {},
   "outputs": [],
   "source": [
    "prediction_v2.set_index('Id',inplace=True)"
   ]
  },
  {
   "cell_type": "code",
   "execution_count": 115,
   "metadata": {},
   "outputs": [],
   "source": [
    "prediction_v2.to_csv(\"prediction_als.csv\")"
   ]
  },
  {
   "cell_type": "code",
   "execution_count": null,
   "metadata": {},
   "outputs": [],
   "source": []
  }
 ],
 "metadata": {
  "kernelspec": {
   "display_name": "Python 3",
   "language": "python",
   "name": "python3"
  },
  "language_info": {
   "codemirror_mode": {
    "name": "ipython",
    "version": 3
   },
   "file_extension": ".py",
   "mimetype": "text/x-python",
   "name": "python",
   "nbconvert_exporter": "python",
   "pygments_lexer": "ipython3",
   "version": "3.6.7"
  }
 },
 "nbformat": 4,
 "nbformat_minor": 2
}
