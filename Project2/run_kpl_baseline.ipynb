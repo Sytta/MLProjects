{
 "cells": [
  {
   "cell_type": "code",
   "execution_count": 1,
   "metadata": {},
   "outputs": [],
   "source": [
    "import pandas as pd\n",
    "import numpy as np"
   ]
  },
  {
   "cell_type": "code",
   "execution_count": 2,
   "metadata": {},
   "outputs": [],
   "source": [
    "train_dataset = \"./datas/data_train.csv\"\n",
    "pred_dataset = \"./datas/sampleSubmission.csv\""
   ]
  },
  {
   "cell_type": "code",
   "execution_count": 3,
   "metadata": {},
   "outputs": [],
   "source": [
    "def load_dataset(path):\n",
    "    \"\"\"Load dataset as a (User, Movie, Rating) pandas dataframe\"\"\"\n",
    "    df = pd.read_csv(path)\n",
    "    parsed_df = pd.DataFrame()\n",
    "    # Get all pairs of (r44_c1) -> (44, 1) (user, movie)\n",
    "    user_movie_indices = df.Id.apply(lambda x: x.split('_'))\n",
    "    parsed_df['User'] =  [int(i[0][1:]) for i in user_movie_indices]\n",
    "    parsed_df['Movie'] = [int(i[1][1:]) for i in user_movie_indices]\n",
    "    parsed_df['Rating'] = df['Prediction']\n",
    "    \n",
    "    num_items = parsed_df.Movie.nunique()\n",
    "    num_users = parsed_df.User.nunique()\n",
    "    print(\"USERS: {} ITEMS: {}\".format(num_users, num_items))\n",
    "    return parsed_df"
   ]
  },
  {
   "cell_type": "code",
   "execution_count": 4,
   "metadata": {},
   "outputs": [
    {
     "name": "stdout",
     "output_type": "stream",
     "text": [
      "USERS: 10000 ITEMS: 1000\n"
     ]
    }
   ],
   "source": [
    "train_df = load_dataset(train_dataset)"
   ]
  },
  {
   "cell_type": "code",
   "execution_count": 5,
   "metadata": {},
   "outputs": [
    {
     "name": "stdout",
     "output_type": "stream",
     "text": [
      "movies per user: min[3], max[522], users per movie: min[8], max[4590].\n",
      "The shape of test_dataset: (117695, 3), train_dataset: (1059257, 3)\n"
     ]
    }
   ],
   "source": [
    "def split_dataset(parsed_df, p_test=0.1, min_num_ratings=0):\n",
    "    movies_per_user = parsed_df.User.value_counts()\n",
    "    users_per_movie = parsed_df.Movie.value_counts()\n",
    "\n",
    "    valid_users = movies_per_user[movies_per_user > min_num_ratings].index.values\n",
    "    valid_movies = users_per_movie[users_per_movie > min_num_ratings].index.values\n",
    "    valid_parsed_df = parsed_df[parsed_df.User.isin(valid_users) & parsed_df.Movie.isin(valid_movies)].reset_index(drop=True)\n",
    "    \n",
    "    print(\"movies per user: min[{a}], max[{b}], users per movie: min[{c}], max[{d}].\".\n",
    "          format(a=movies_per_user.min(), b=movies_per_user.max(), c=users_per_movie.min(), d=users_per_movie.max()))\n",
    "\n",
    "    size = valid_parsed_df.shape[0]\n",
    "    indexes = list(range(size))\n",
    "    np.random.shuffle(indexes)\n",
    "\n",
    "    test_ind = indexes[:int(size*p_test)]\n",
    "    train_ind = indexes[int(size*p_test):]\n",
    "\n",
    "    test = valid_parsed_df.loc[test_ind].reset_index(drop=True)\n",
    "    train = valid_parsed_df.loc[train_ind].reset_index(drop=True)\n",
    "    print(\"The shape of test_dataset: {test}, train_dataset: {train}\".format(test=test.shape, train=train.shape))\n",
    "    \n",
    "    return train, test\n",
    "\n",
    "train, test = split_dataset(train_df)\n",
    "# print(train.iloc[0,2])\n",
    "# type(train.iloc[0,2])"
   ]
  },
  {
   "cell_type": "code",
   "execution_count": 6,
   "metadata": {},
   "outputs": [],
   "source": [
    "def compute_rmse(pred, real):\n",
    "    pred_sorted = pred.sort_values(['Movie', 'User']).reset_index(drop=True)\n",
    "    real_sorted = real.sort_values(['Movie', 'User']).reset_index(drop=True)\n",
    "\n",
    "    mse = np.square(pred_sorted.Rating - real_sorted.Rating).mean()\n",
    "    rmse = np.sqrt(mse)\n",
    "\n",
    "    return rmse"
   ]
  },
  {
   "cell_type": "code",
   "execution_count": 7,
   "metadata": {},
   "outputs": [
    {
     "name": "stdout",
     "output_type": "stream",
     "text": [
      "1.1145304342508455\n"
     ]
    }
   ],
   "source": [
    "def baseline_global_mean(train, test):\n",
    "    mean = train.Rating.mean()\n",
    "#     print(type(mean)),\n",
    "    pred_test = test.copy()\n",
    "    pred_test.Rating = mean\n",
    "\n",
    "    rmse = compute_rmse(pred_test, test)\n",
    "\n",
    "    return pred_test, rmse\n",
    "pred_test, rmse = baseline_global_mean(train, test)\n",
    "print(rmse)\n",
    "# print(pred_test)\n",
    "# print(pred_test.iloc[0,2])\n",
    "# type(pred_test.iloc[0,2])"
   ]
  },
  {
   "cell_type": "code",
   "execution_count": 8,
   "metadata": {},
   "outputs": [
    {
     "name": "stdout",
     "output_type": "stream",
     "text": [
      "1.1237730563387889\n"
     ]
    }
   ],
   "source": [
    "def baseline_global_median(train, test):\n",
    "    median = train.Rating.median()\n",
    "#     print(type(median))\n",
    "    pred_test = test.copy()\n",
    "    pred_test.Rating = median\n",
    "\n",
    "    rmse = compute_rmse(pred_test, test)\n",
    "\n",
    "    return pred_test, rmse\n",
    "pred_test, rmse = baseline_global_median(train, test)\n",
    "print(rmse)\n",
    "# print(pred_test)"
   ]
  },
  {
   "cell_type": "code",
   "execution_count": 9,
   "metadata": {},
   "outputs": [
    {
     "name": "stdout",
     "output_type": "stream",
     "text": [
      "1.0903067308728722\n"
     ]
    }
   ],
   "source": [
    "def baseline_user_mean(train, test):\n",
    "    mean_per_user = train.groupby('User').mean().Rating\n",
    "\n",
    "    pred_test = test.copy()\n",
    "\n",
    "    def predict(sub_df):\n",
    "        sub_df['Rating'] = mean_per_user[sub_df.iloc[0,0]]\n",
    "        return sub_df\n",
    "\n",
    "    pred_test = pred_test.groupby('User').apply(predict)\n",
    "\n",
    "    rmse = compute_rmse(pred_test, test)\n",
    "\n",
    "    return pred_test, rmse\n",
    "\n",
    "pred_test, rmse = baseline_user_mean(train, test)\n",
    "print(rmse)\n",
    "# print(pred_test)"
   ]
  },
  {
   "cell_type": "code",
   "execution_count": 10,
   "metadata": {},
   "outputs": [
    {
     "name": "stdout",
     "output_type": "stream",
     "text": [
      "1.146593059753457\n"
     ]
    }
   ],
   "source": [
    "def baseline_user_median(train, test):\n",
    "    median_per_user = train.groupby('User').median().Rating\n",
    "\n",
    "    pred_test = test.copy()\n",
    "\n",
    "    def predict(sub_df):\n",
    "        sub_df['Rating'] = median_per_user[sub_df.iloc[0,0]]\n",
    "        return sub_df\n",
    "\n",
    "    pred_test = pred_test.groupby('User').apply(predict)\n",
    "    rmse = compute_rmse(pred_test, test)\n",
    "\n",
    "    return pred_test, rmse\n",
    "\n",
    "pred_test, rmse = baseline_user_median(train, test)\n",
    "print(rmse)\n",
    "# print(pred_test)"
   ]
  },
  {
   "cell_type": "code",
   "execution_count": 11,
   "metadata": {},
   "outputs": [
    {
     "name": "stdout",
     "output_type": "stream",
     "text": [
      "1.0282713452174768\n"
     ]
    }
   ],
   "source": [
    "def baseline_movie_mean(train, test):\n",
    "    mean_per_movie = train.groupby('Movie').mean().Rating\n",
    "\n",
    "    pred_test = test.copy()\n",
    "\n",
    "    def predict(sub_df):\n",
    "        sub_df['Rating'] = mean_per_movie[sub_df.iloc[0,1]]\n",
    "        return sub_df\n",
    "\n",
    "    pred_test = pred_test.groupby('Movie').apply(predict)\n",
    "    rmse = compute_rmse(pred_test, test)\n",
    "\n",
    "    return pred_test, rmse\n",
    "\n",
    "pred_test, rmse = baseline_movie_mean(train, test)\n",
    "print(rmse)\n",
    "# print(pred_test)"
   ]
  },
  {
   "cell_type": "code",
   "execution_count": 12,
   "metadata": {},
   "outputs": [
    {
     "name": "stdout",
     "output_type": "stream",
     "text": [
      "1.0968752082150792\n"
     ]
    }
   ],
   "source": [
    "def baseline_movie_median(train, test):\n",
    "    median_per_movie = train.groupby('Movie').median().Rating\n",
    "\n",
    "    pred_test = test.copy()\n",
    "\n",
    "    def predict(sub_df):\n",
    "        sub_df['Rating'] = median_per_movie[sub_df.iloc[0,1]]\n",
    "        return sub_df\n",
    "\n",
    "    pred_test = pred_test.groupby('Movie').apply(predict)\n",
    "    rmse = compute_rmse(pred_test, test)\n",
    "\n",
    "    return pred_test, rmse\n",
    "\n",
    "pred_test, rmse = baseline_movie_median(train, test)\n",
    "print(rmse)\n",
    "# print(pred_test)\""
   ]
  },
  {
   "cell_type": "code",
   "execution_count": 13,
   "metadata": {},
   "outputs": [],
   "source": [
    "def user_standardize(df):\n",
    "    mean_per_user = df.groupby('User').mean().Rating\n",
    "    var_per_user = df.groupby('User').var().Rating\n",
    "    stand_df = df.copy()\n",
    "    stand_df['Rating'] = df.apply(lambda x: (x['Rating'] - mean_per_user[x['User']]) / var_per_user[x['User']], axis=1)\n",
    "    return stand_df\n",
    "\n",
    "# stand_df = user_standardize(train)\n",
    "# print(stand_df)\n",
    "\n",
    "def user_standardize_recover(df, stand_pred_test):\n",
    "    mean_per_user = df.groupby('User').mean().Rating\n",
    "    var_per_user = df.groupby('User').var().Rating\n",
    "    pred_test = stand_pred_test.copy()\n",
    "    pred_test['Rating'] = stand_pred_test.apply(lambda x: (x['Rating'] * var_per_user[x['User']] + mean_per_user[x['User']]), axis=1)\n",
    "    return pred_test\n",
    "\n",
    "# df = user_standardize_recover(train, stand_df)\n",
    "# print(df)"
   ]
  },
  {
   "cell_type": "code",
   "execution_count": 14,
   "metadata": {},
   "outputs": [],
   "source": [
    "def user_habit(df):\n",
    "    global_mean = df.Rating.mean()\n",
    "    mean_per_user = df.groupby('User').mean().Rating\n",
    "    habit =mean_per_user - global_mean\n",
    "    return habit\n",
    "\n",
    "# habit = user_habit(train)\n",
    "# print(habit)\n",
    "\n",
    "def user_habit_standardize(df):\n",
    "    habit = user_habit(df)\n",
    "    stand_df = df.copy()\n",
    "    stand_df['Rating'] = df.apply(lambda x: x['Rating'] - habit[x['User']], axis=1)\n",
    "    return stand_df\n",
    "\n",
    "# stand_df = user_habit_standardize(train)\n",
    "# print(stand_df)\n",
    "\n",
    "def user_habit_standardize_recover(df, stand_pred_test):\n",
    "    habit = user_habit(df)\n",
    "    pred_test = stand_pred_test.copy()\n",
    "    pred_test['Rating'] = stand_pred_test.apply(lambda x: x['Rating'] + habit[x['User']], axis=1)\n",
    "    return pred_test\n",
    "\n",
    "# df = user_habit_standardize_recover(train, stand_df)\n",
    "# print(df)"
   ]
  },
  {
   "cell_type": "code",
   "execution_count": 15,
   "metadata": {},
   "outputs": [
    {
     "name": "stdout",
     "output_type": "stream",
     "text": [
      "1.0040541298054675\n"
     ]
    }
   ],
   "source": [
    "def movie_mean_user_standardize(train, test):\n",
    "    #standardize the rating according to per user mean and variance\n",
    "#     print(train.iloc[0,2])\n",
    "#     print(type(train.iloc[0,2]))\n",
    "    stand_train = user_standardize(train)\n",
    "#     print(stand_train.iloc[0,2])\n",
    "#     print(type(stand_train.iloc[0,2]))\n",
    "    #predict the standardized test rating\n",
    "    stand_pred_test, rmse = baseline_movie_mean(stand_train, test)\n",
    "\n",
    "    #recover from the standardized predicted test rating\n",
    "    pred_test = user_standardize_recover(train, stand_pred_test)\n",
    "\n",
    "    #compute the rmse\n",
    "    rmse = compute_rmse(pred_test, test)\n",
    "    return pred_test, rmse\n",
    "\n",
    "pred_test, rmse = movie_mean_user_standardize(train, test)\n",
    "print(rmse)\n",
    "# print(pred_test)\""
   ]
  },
  {
   "cell_type": "code",
   "execution_count": 16,
   "metadata": {},
   "outputs": [
    {
     "name": "stdout",
     "output_type": "stream",
     "text": [
      "1.0251927927569746\n"
     ]
    }
   ],
   "source": [
    "def movie_median_user_standardize(train, test):\n",
    "    #standardize the rating according to per user mean and variance\n",
    "    stand_train = user_standardize(train)\n",
    "\n",
    "    #predict the standardized test rating\n",
    "    stand_pred_test, rmse = baseline_movie_median(stand_train, test)\n",
    "\n",
    "    #recover from the standardized predicted test rating\n",
    "    pred_test = user_standardize_recover(train, stand_pred_test)\n",
    "\n",
    "    #compute the rmse\n",
    "    rmse = compute_rmse(pred_test, test)\n",
    "    return pred_test, rmse\n",
    "\n",
    "pred_test, rmse = movie_median_user_standardize(train, test)\n",
    "print(rmse)\n",
    "# print(pred_test)"
   ]
  },
  {
   "cell_type": "code",
   "execution_count": 17,
   "metadata": {},
   "outputs": [
    {
     "name": "stdout",
     "output_type": "stream",
     "text": [
      "1.0033023344448717\n"
     ]
    }
   ],
   "source": [
    "def movie_mean_user_habit_standardize(train, test):\n",
    "    #standardize the rating according to per user habit\n",
    "    pred_test = test.copy()\n",
    "    pred_test.Rating = pred_test.Rating.apply(lambda x: float(x))\n",
    "    stand_train = user_habit_standardize(train)\n",
    "\n",
    "    #predict the standardized test rating\n",
    "    stand_pred_test, rmse = baseline_movie_mean(stand_train, test)\n",
    "\n",
    "    #recover from the standardized predicted test rating\n",
    "    pred_test = user_habit_standardize_recover(train, stand_pred_test)\n",
    "\n",
    "    #compute the rmse\n",
    "    rmse = compute_rmse(pred_test, test)\n",
    "    return pred_test, rmse\n",
    "\n",
    "pred_test, rmse = movie_mean_user_habit_standardize(train, test)\n",
    "print(rmse)\n",
    "# print(pred_test)"
   ]
  },
  {
   "cell_type": "code",
   "execution_count": 18,
   "metadata": {},
   "outputs": [
    {
     "name": "stdout",
     "output_type": "stream",
     "text": [
      "1.021270509749067\n"
     ]
    }
   ],
   "source": [
    "def movie_median_user_habit_standardize(train, test):\n",
    "    #standardize the rating according to per user mean and variance\n",
    "    stand_train = user_habit_standardize(train)\n",
    "\n",
    "    #predict the standardized test rating\n",
    "    stand_pred_test, rmse = baseline_movie_median(stand_train, test)\n",
    "\n",
    "    #recover from the standardized predicted test rating\n",
    "    pred_test = user_habit_standardize_recover(train, stand_pred_test)\n",
    "\n",
    "    #compute the rmse\n",
    "    rmse = compute_rmse(pred_test, test)\n",
    "    return pred_test, rmse\n",
    "\n",
    "pred_test, rmse = movie_median_user_habit_standardize(train, test)\n",
    "print(rmse)\n",
    "# print(pred_test)"
   ]
  },
  {
   "cell_type": "code",
   "execution_count": 19,
   "metadata": {},
   "outputs": [
    {
     "name": "stdout",
     "output_type": "stream",
     "text": [
      "1.0035523727853255\n"
     ]
    }
   ],
   "source": [
    "def movie_mean_user_habit(train, test):\n",
    "    habit = user_habit(train)\n",
    "    mean_per_movie = train.groupby('Movie').mean().Rating\n",
    "\n",
    "    pred_test = test.copy()\n",
    "    pred_test['Rating'] = pred_test['Rating'].apply(lambda x: float(x))\n",
    "\n",
    "    def predict(x):\n",
    "        x['Rating'] = mean_per_movie[x['Movie']] + habit[x['User']]\n",
    "        return x\n",
    "\n",
    "    pred_test = pred_test.apply(predict, axis=1)\n",
    "    pred_test['User'] = pred_test['User'].apply(lambda x: int(x))\n",
    "    pred_test['Movie'] = pred_test['Movie'].apply(lambda x: int(x))\n",
    "\n",
    "    rmse = compute_rmse(pred_test, test)\n",
    "    return pred_test, rmse\n",
    "\n",
    "pred_test, rmse = movie_mean_user_habit(train, test)\n",
    "print(rmse)\n",
    "# print(pred_test)"
   ]
  },
  {
   "cell_type": "code",
   "execution_count": 20,
   "metadata": {},
   "outputs": [
    {
     "name": "stdout",
     "output_type": "stream",
     "text": [
      "1.0736894788559919\n",
      "        User  Movie    Rating\n",
      "0       9351    920  3.162866\n",
      "1       3315    482  4.299222\n",
      "2        146     14  4.696167\n",
      "3       9656    347  3.995159\n",
      "4       3407    105  3.089711\n",
      "5       2342    350  3.961223\n",
      "6       3306     90  3.033142\n",
      "7       4578    245  4.142595\n",
      "8       9265    674  4.438545\n",
      "9       5345     66  3.883975\n",
      "10      5415    231  2.627702\n",
      "11      8115     37  4.105558\n",
      "12      2783    322  5.280526\n",
      "13       259      6  5.340397\n",
      "14       176    673  3.994208\n",
      "15      9640    208  3.731636\n",
      "16      6704    654  3.637332\n",
      "17      8498    310  5.429552\n",
      "18      9702    690  4.126291\n",
      "19      6704    561  2.637332\n",
      "20      2977     74  2.980540\n",
      "21      5798    810  3.477674\n",
      "22      8639    235  4.045034\n",
      "23      2272    682  4.142595\n",
      "24      7020    814  4.064817\n",
      "25      2973    300  3.796441\n",
      "26      1229    575  4.007460\n",
      "27      9171    318  5.303054\n",
      "28      8228    434  4.851550\n",
      "29      2399    293  3.200149\n",
      "...      ...    ...       ...\n",
      "117665    37    247  3.877059\n",
      "117666  8738    403  3.940064\n",
      "117667  5263     14  4.451686\n",
      "117668  6208    819  2.321700\n",
      "117669  5043    499  4.033684\n",
      "117670  9441    474  4.089565\n",
      "117671  8629    412  5.240634\n",
      "117672  5376    368  4.498527\n",
      "117673  3985    549  3.447939\n",
      "117674   100    117  3.374383\n",
      "117675  7651    238  3.383398\n",
      "117676  1096    776  3.806774\n",
      "117677  2990    484  4.207636\n",
      "117678  1082     34  3.005340\n",
      "117679  4753    779  4.013285\n",
      "117680  8142    791  5.168911\n",
      "117681  1722    803  4.392595\n",
      "117682  3178    493  3.676842\n",
      "117683  1244    604  5.311372\n",
      "117684  8611    823  4.280161\n",
      "117685  5984    351  4.505340\n",
      "117686  3718    583  3.941478\n",
      "117687  1790    576  3.897497\n",
      "117688  8233    428  3.287472\n",
      "117689  7912    227  3.895974\n",
      "117690  3048    739  2.696943\n",
      "117691  9571     26  4.090871\n",
      "117692  7248    485  4.349832\n",
      "117693  1245    613  4.198151\n",
      "117694  1991    657  5.125204\n",
      "\n",
      "[117695 rows x 3 columns]\n"
     ]
    }
   ],
   "source": [
    "def movie_median_user_habit(train, test):\n",
    "    habit = user_habit(train)\n",
    "    median_per_movie = train.groupby('Movie').median().Rating\n",
    "\n",
    "    pred_test = test.copy()\n",
    "    pred_test['Rating'] = pred_test['Rating'].apply(lambda x: float(x))\n",
    "\n",
    "    def predict(x):\n",
    "        x['Rating'] = median_per_movie[x['Movie']] + habit[x['User']]\n",
    "        return x\n",
    "\n",
    "    pred_test = pred_test.apply(predict, axis=1)\n",
    "    pred_test['User'] = pred_test['User'].apply(lambda x: int(x))\n",
    "    pred_test['Movie'] = pred_test['Movie'].apply(lambda x: int(x))\n",
    "\n",
    "    rmse = compute_rmse(pred_test, test)\n",
    "    return pred_test, rmse\n",
    "\n",
    "pred_test, rmse = movie_median_user_habit(train, test)\n",
    "print(rmse)\n",
    "print(pred_test)"
   ]
  },
  {
   "cell_type": "code",
   "execution_count": null,
   "metadata": {},
   "outputs": [],
   "source": []
  },
  {
   "cell_type": "code",
   "execution_count": null,
   "metadata": {},
   "outputs": [],
   "source": []
  },
  {
   "cell_type": "code",
   "execution_count": null,
   "metadata": {},
   "outputs": [],
   "source": []
  }
 ],
 "metadata": {
  "kernelspec": {
   "display_name": "Python 3",
   "language": "python",
   "name": "python3"
  },
  "language_info": {
   "codemirror_mode": {
    "name": "ipython",
    "version": 3
   },
   "file_extension": ".py",
   "mimetype": "text/x-python",
   "name": "python",
   "nbconvert_exporter": "python",
   "pygments_lexer": "ipython3",
   "version": "3.6.7"
  }
 },
 "nbformat": 4,
 "nbformat_minor": 2
}
