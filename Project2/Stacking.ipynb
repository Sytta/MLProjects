{
 "cells": [
  {
   "cell_type": "code",
   "execution_count": 1,
   "metadata": {},
   "outputs": [],
   "source": [
    "from helpers import *\n",
    "from baseline import *\n",
    "from baseline_helpers import *\n",
    "from surprise_helpers import *\n",
    "from spotlight_helpers import *\n",
    "from pyfm_helpers import *\n",
    "import scipy.optimize as sco\n",
    "\n",
    "from os import listdir\n",
    "from os.path import isfile, join"
   ]
  },
  {
   "cell_type": "code",
   "execution_count": 3,
   "metadata": {},
   "outputs": [
    {
     "name": "stdout",
     "output_type": "stream",
     "text": [
      "[load_dataset] Valid: (1176813, 3)\n"
     ]
    },
    {
     "data": {
      "text/html": [
       "<div>\n",
       "<style scoped>\n",
       "    .dataframe tbody tr th:only-of-type {\n",
       "        vertical-align: middle;\n",
       "    }\n",
       "\n",
       "    .dataframe tbody tr th {\n",
       "        vertical-align: top;\n",
       "    }\n",
       "\n",
       "    .dataframe thead th {\n",
       "        text-align: right;\n",
       "    }\n",
       "</style>\n",
       "<table border=\"1\" class=\"dataframe\">\n",
       "  <thead>\n",
       "    <tr style=\"text-align: right;\">\n",
       "      <th></th>\n",
       "      <th>User</th>\n",
       "      <th>Movie</th>\n",
       "      <th>Rating</th>\n",
       "    </tr>\n",
       "  </thead>\n",
       "  <tbody>\n",
       "    <tr>\n",
       "      <th>0</th>\n",
       "      <td>44</td>\n",
       "      <td>1</td>\n",
       "      <td>4</td>\n",
       "    </tr>\n",
       "    <tr>\n",
       "      <th>1</th>\n",
       "      <td>61</td>\n",
       "      <td>1</td>\n",
       "      <td>3</td>\n",
       "    </tr>\n",
       "    <tr>\n",
       "      <th>2</th>\n",
       "      <td>67</td>\n",
       "      <td>1</td>\n",
       "      <td>4</td>\n",
       "    </tr>\n",
       "    <tr>\n",
       "      <th>3</th>\n",
       "      <td>72</td>\n",
       "      <td>1</td>\n",
       "      <td>3</td>\n",
       "    </tr>\n",
       "    <tr>\n",
       "      <th>4</th>\n",
       "      <td>86</td>\n",
       "      <td>1</td>\n",
       "      <td>5</td>\n",
       "    </tr>\n",
       "  </tbody>\n",
       "</table>\n",
       "</div>"
      ],
      "text/plain": [
       "   User  Movie  Rating\n",
       "0    44      1       4\n",
       "1    61      1       3\n",
       "2    67      1       4\n",
       "3    72      1       3\n",
       "4    86      1       5"
      ]
     },
     "execution_count": 3,
     "metadata": {},
     "output_type": "execute_result"
    }
   ],
   "source": [
    "train_df = load_dataset(train_dataset)\n",
    "train_df.head()"
   ]
  },
  {
   "cell_type": "code",
   "execution_count": 48,
   "metadata": {},
   "outputs": [],
   "source": [
    "def define_folds(df, k):\n",
    "    \"\"\"Defines k batch of dataset for cross validation\"\"\"\n",
    "    folds_dict = dict.fromkeys(range(k))\n",
    "    \n",
    "    for i in range(k):\n",
    "        # split half-half for train/test\n",
    "        train, test = split_dataset(df, p_test=0.5)\n",
    "        folds_dict[i] = dict(train=train, test=test)\n",
    "    \n",
    "    return folds_dict"
   ]
  },
  {
   "cell_type": "code",
   "execution_count": 49,
   "metadata": {},
   "outputs": [],
   "source": [
    "folds_dict = define_folds(train_df, 5)"
   ]
  },
  {
   "cell_type": "code",
   "execution_count": 85,
   "metadata": {},
   "outputs": [],
   "source": [
    "def load_models():\n",
    "    print(\"Loading models...\")\n",
    "    models_dict = dict(\n",
    "        # Baseline parameters: (train, test)\n",
    "        baseline = dict(\n",
    "            global_mean = baseline_global_mean,\n",
    "            global_median = baseline_global_median,\n",
    "            user_mean = baseline_user_mean,\n",
    "            user_median = baseline_user_median,\n",
    "            movie_mean = baseline_movie_mean,\n",
    "            movie_median = baseline_movie_median,\n",
    "            movie_mean_user_std = movie_mean_user_standardize,\n",
    "            movie_median_user_std = movie_median_user_standardize,\n",
    "            movie_mean_user_habit_std = movie_mean_user_habit_standardize,\n",
    "            movie_median_user_habit_std = movie_median_user_habit_standardize,\n",
    "            movie_mean_user_habit = movie_mean_user_habit,\n",
    "            movie_median_user_habit = movie_median_user_habit,\n",
    "        ),\n",
    "        \n",
    "        surprise\n",
    "        surprise = dict(\n",
    "            surprise_svd = SVD(n_factors=50, n_epochs=200, lr_bu=1e-9 , lr_qi=1e-5, reg_all=0.01),\n",
    "            surprise_svd_pp = SVDpp(n_factors=50, n_epochs=200, lr_bu=1e-9 , lr_qi=1e-5, reg_all=0.01),\n",
    "            surprise_knn = KNNBaseline(k=100, sim_options={'name': 'pearson_baseline', 'user_based': False}),\n",
    "        ),\n",
    "        spotlight\n",
    "        spotlight = dict(\n",
    "            spotlight=ExplicitFactorizationModel(loss='regression',\n",
    "                                   embedding_dim=150,  # latent dimensionality\n",
    "                                   n_iter=50,  # number of epochs of training\n",
    "                                   batch_size=256,  # minibatch size\n",
    "                                   l2=1e-5,  # strength of L2 regularization\n",
    "                                   learning_rate=0.0001,\n",
    "                                   use_cuda=torch.cuda.is_available()),\n",
    "        ),\n",
    "        # als\n",
    "        \n",
    "        # pyfm\n",
    "        pyfm = dict(\n",
    "            pyfm=pylibfm.FM(num_factors=20, num_iter=200, verbose=True, \n",
    "                          task=\"regression\", initial_learning_rate=0.001, \n",
    "                          learning_rate_schedule=\"optimal\")\n",
    "        ),\n",
    "        # keras\n",
    "        # MF\n",
    "    )\n",
    "    \n",
    "    model_msg = \"{} model families loaded:\\n \".format(len(list(models_dict.keys())))\n",
    "    for i in list(models_dict.keys()):\n",
    "        model_msg = model_msg + \"{}; \".format(i)\n",
    "    print(model_msg)\n",
    "    return models_dict\n",
    "    "
   ]
  },
  {
   "cell_type": "code",
   "execution_count": 86,
   "metadata": {},
   "outputs": [
    {
     "name": "stdout",
     "output_type": "stream",
     "text": [
      "Loading models...\n",
      "1 model families loaded:\n",
      " baseline; \n"
     ]
    }
   ],
   "source": [
    "models = load_models()"
   ]
  },
  {
   "cell_type": "code",
   "execution_count": 16,
   "metadata": {},
   "outputs": [],
   "source": [
    "def load_algos():\n",
    "    algo_dict = dict(\n",
    "        baseline = baseline_algo, # baseline_algo(train, test, model)\n",
    "        surprise = surprise_algo, # surprise_algo(train, test, algo, verbose=True, training=False)\n",
    "        spotlight = spotlight_algo, # spotlight_algo(train, test, model, verbose=True)\n",
    "        pyfm = pyfm_algo,\n",
    "    )\n",
    "    return algo_dict\n",
    "algos = load_algos()"
   ]
  },
  {
   "cell_type": "code",
   "execution_count": 108,
   "metadata": {},
   "outputs": [],
   "source": [
    "def predict_and_save(folder = \"./predictions/\", training = True):\n",
    "    # create folder if not existent\n",
    "    if not os.path.exists(folder):\n",
    "        os.makedirs(folder)\n",
    "    \n",
    "    # load csv\n",
    "    train_df = load_dataset(train_dataset, min_num_ratings = 0)\n",
    "    test_df = load_dataset(test_dataset, min_num_ratings = 0)\n",
    "    \n",
    "    # Split training to blend\n",
    "    if training:\n",
    "        print(\"Splitting data for training...\")\n",
    "        train = train_df.copy()\n",
    "        train_df, test_df = split_dataset(train_df, p_test=0.5)\n",
    "        # folds_dict = define_folds(train_df, 5) - FOR FOLDS?\n",
    "    \n",
    "    # dictionary of the predictions\n",
    "    predictions = dict()\n",
    "        \n",
    "    # load models\n",
    "    models_dict = load_models()\n",
    "    # load algos\n",
    "    algo_dict = load_algos()\n",
    "    t = Timer()\n",
    "    t.start()\n",
    "    for model_family_name, model_family in models_dict.items():\n",
    "        algo = algo_dict[model_family_name]\n",
    "        print(\"Predicting using algo: {}, model: {}...\".format(algo, model_family_name))\n",
    "\n",
    "        for model_name, model in model_family.items():\n",
    "            print(\"Time: {}, predicting with model: {}\".format(t.now(), model_name))\n",
    "            if model_family == 'baseline':\n",
    "                if training:\n",
    "                    prediction = algo(train, test_df, model)\n",
    "                else: # predicting\n",
    "                    prediction = algo(train_df.copy(), test_df.copy(), model)\n",
    "            else:\n",
    "                prediction = algo(train_df, test_df, model)\n",
    "            print(\"Time: {}, Saving results of {}...\\n\".format(t.now(), model_name))\n",
    "            prediction.to_csv(\"{}{}_predictions({}).csv\".format(folder, model_name, t.now()))\n",
    "            predictions[model_name] = prediction\n",
    "        \n",
    "    return predictions, test_df\n",
    "        "
   ]
  },
  {
   "cell_type": "code",
   "execution_count": null,
   "metadata": {},
   "outputs": [],
   "source": []
  },
  {
   "cell_type": "code",
   "execution_count": 18,
   "metadata": {},
   "outputs": [
    {
     "name": "stdout",
     "output_type": "stream",
     "text": [
      "[load_dataset] Valid: (1176813, 3)\n",
      "[load_dataset] Valid: (1176790, 3)\n",
      "[split_dataset] Valid: (1176813, 3)\n",
      "Loading models...\n",
      "1 model families loaded:\n",
      " baseline; \n",
      "Predicting using algo: <function baseline_algo at 0x7f637a7f80d0>, model: baseline...\n",
      "Time: 0:00:00.000034, predicting with model: global_mean\n",
      "Time: 0:00:00.010808, Saving results of global_mean...\n",
      "\n",
      "Time: 0:00:02.729773, predicting with model: global_median\n",
      "Time: 0:00:02.752637, Saving results of global_median...\n",
      "\n",
      "Time: 0:00:05.199607, predicting with model: user_mean\n",
      "Time: 0:00:10.967199, Saving results of user_mean...\n",
      "\n",
      "Time: 0:00:13.817070, predicting with model: user_median\n",
      "Time: 0:00:21.281023, Saving results of user_median...\n",
      "\n",
      "Time: 0:00:24.030324, predicting with model: movie_mean\n",
      "Time: 0:00:25.110543, Saving results of movie_mean...\n",
      "\n",
      "Time: 0:00:28.376726, predicting with model: movie_median\n",
      "Time: 0:00:29.249773, Saving results of movie_median...\n",
      "\n",
      "Time: 0:00:31.381042, predicting with model: movie_mean_user_std\n",
      "Time: 0:02:06.749068, Saving results of movie_mean_user_std...\n",
      "\n",
      "Time: 0:02:09.341676, predicting with model: movie_median_user_std\n",
      "Time: 0:03:48.336587, Saving results of movie_median_user_std...\n",
      "\n",
      "Time: 0:03:51.379873, predicting with model: movie_mean_user_habit_std\n",
      "Time: 0:04:57.073019, Saving results of movie_mean_user_habit_std...\n",
      "\n",
      "Time: 0:04:59.638256, predicting with model: movie_median_user_habit_std\n",
      "Time: 0:06:06.261168, Saving results of movie_median_user_habit_std...\n",
      "\n",
      "Time: 0:06:09.156115, predicting with model: movie_mean_user_habit\n",
      "Time: 0:07:18.811986, Saving results of movie_mean_user_habit...\n",
      "\n",
      "Time: 0:07:23.072641, predicting with model: movie_median_user_habit\n",
      "Time: 0:08:31.053013, Saving results of movie_median_user_habit...\n",
      "\n"
     ]
    }
   ],
   "source": [
    "predictions, ground_truth = predict_and_save(\"./predictions_train/\")"
   ]
  },
  {
   "cell_type": "code",
   "execution_count": 19,
   "metadata": {},
   "outputs": [
    {
     "name": "stdout",
     "output_type": "stream",
     "text": [
      "Reading 1/12 : global_mean_predictions(0:00:00.010909).csv...\n",
      "Reading 2/12 : global_median_predictions(0:00:02.752742).csv...\n",
      "Reading 3/12 : movie_mean_predictions(0:00:25.111229).csv...\n",
      "Reading 4/12 : movie_mean_user_habit_predictions(0:07:18.812214).csv...\n",
      "Reading 5/12 : movie_mean_user_habit_std_predictions(0:04:57.073134).csv...\n",
      "Reading 6/12 : movie_mean_user_std_predictions(0:02:06.749171).csv...\n",
      "Reading 7/12 : movie_median_predictions(0:00:29.249886).csv...\n",
      "Reading 8/12 : movie_median_user_habit_predictions(0:08:31.053131).csv...\n",
      "Reading 9/12 : movie_median_user_habit_std_predictions(0:06:06.261281).csv...\n",
      "Reading 10/12 : movie_median_user_std_predictions(0:03:48.336812).csv...\n",
      "Reading 11/12 : user_mean_predictions(0:00:10.967303).csv...\n",
      "Reading 12/12 : user_median_predictions(0:00:21.281134).csv...\n"
     ]
    }
   ],
   "source": [
    "def load_predictions(folder=\"./predictions\"):\n",
    "    def get_model_name(file_name):\n",
    "        results = file_name.split('_predictions')\n",
    "        return results[0]\n",
    "        \n",
    "    pred_array = [f for f in listdir(folder) if isfile(join(folder, f))]\n",
    "    # Set user, col indices\n",
    "    predictions = pd.read_csv(join(folder, pred_array[0]), index_col=0).copy().reset_index(drop=True)\n",
    "    predictions = predictions.drop(['Rating'], axis=1)\n",
    "    predictions = predictions.sort_values(by=['User', 'Movie'])\n",
    "\n",
    "    for i, pred in enumerate(pred_array):\n",
    "        print(\"Reading {}/{} : {}...\".format(i + 1, len(pred_array), pred))\n",
    "        p = pd.read_csv(join(folder, pred), index_col=0).sort_values(by=['User', 'Movie']).reset_index(drop=True)\n",
    "        p = p.rename(index=str, columns={'Rating': get_model_name(pred)})\n",
    "        predictions = pd.merge(predictions, p, how='outer', on=['User', 'Movie']).reset_index(drop=True)\n",
    "    \n",
    "    return predictions\n",
    "        \n",
    "predictions_tr = load_predictions(\"./predictions_train/\")\n"
   ]
  },
  {
   "cell_type": "code",
   "execution_count": 20,
   "metadata": {},
   "outputs": [
    {
     "data": {
      "text/html": [
       "<div>\n",
       "<style scoped>\n",
       "    .dataframe tbody tr th:only-of-type {\n",
       "        vertical-align: middle;\n",
       "    }\n",
       "\n",
       "    .dataframe tbody tr th {\n",
       "        vertical-align: top;\n",
       "    }\n",
       "\n",
       "    .dataframe thead th {\n",
       "        text-align: right;\n",
       "    }\n",
       "</style>\n",
       "<table border=\"1\" class=\"dataframe\">\n",
       "  <thead>\n",
       "    <tr style=\"text-align: right;\">\n",
       "      <th></th>\n",
       "      <th>User</th>\n",
       "      <th>Movie</th>\n",
       "      <th>global_mean</th>\n",
       "      <th>global_median</th>\n",
       "      <th>movie_mean</th>\n",
       "      <th>movie_mean_user_habit</th>\n",
       "      <th>movie_mean_user_habit_std</th>\n",
       "      <th>movie_mean_user_std</th>\n",
       "      <th>movie_median</th>\n",
       "      <th>movie_median_user_habit</th>\n",
       "      <th>movie_median_user_habit_std</th>\n",
       "      <th>movie_median_user_std</th>\n",
       "      <th>user_mean</th>\n",
       "      <th>user_median</th>\n",
       "    </tr>\n",
       "  </thead>\n",
       "  <tbody>\n",
       "    <tr>\n",
       "      <th>0</th>\n",
       "      <td>1</td>\n",
       "      <td>61</td>\n",
       "      <td>3.857306</td>\n",
       "      <td>4.0</td>\n",
       "      <td>3.884834</td>\n",
       "      <td>4.071006</td>\n",
       "      <td>4.073816</td>\n",
       "      <td>4.055245</td>\n",
       "      <td>4.0</td>\n",
       "      <td>4.186172</td>\n",
       "      <td>4.174677</td>\n",
       "      <td>4.175801</td>\n",
       "      <td>4.043478</td>\n",
       "      <td>4.0</td>\n",
       "    </tr>\n",
       "    <tr>\n",
       "      <th>1</th>\n",
       "      <td>1</td>\n",
       "      <td>68</td>\n",
       "      <td>3.857306</td>\n",
       "      <td>4.0</td>\n",
       "      <td>3.505051</td>\n",
       "      <td>3.691223</td>\n",
       "      <td>3.699835</td>\n",
       "      <td>3.703227</td>\n",
       "      <td>4.0</td>\n",
       "      <td>4.186172</td>\n",
       "      <td>3.860551</td>\n",
       "      <td>3.816298</td>\n",
       "      <td>4.043478</td>\n",
       "      <td>4.0</td>\n",
       "    </tr>\n",
       "    <tr>\n",
       "      <th>2</th>\n",
       "      <td>1</td>\n",
       "      <td>310</td>\n",
       "      <td>3.857306</td>\n",
       "      <td>4.0</td>\n",
       "      <td>4.557819</td>\n",
       "      <td>4.743991</td>\n",
       "      <td>4.733773</td>\n",
       "      <td>4.737487</td>\n",
       "      <td>5.0</td>\n",
       "      <td>5.186172</td>\n",
       "      <td>4.971536</td>\n",
       "      <td>4.983678</td>\n",
       "      <td>4.043478</td>\n",
       "      <td>4.0</td>\n",
       "    </tr>\n",
       "    <tr>\n",
       "      <th>3</th>\n",
       "      <td>1</td>\n",
       "      <td>546</td>\n",
       "      <td>3.857306</td>\n",
       "      <td>4.0</td>\n",
       "      <td>4.275251</td>\n",
       "      <td>4.461423</td>\n",
       "      <td>4.460371</td>\n",
       "      <td>4.459905</td>\n",
       "      <td>5.0</td>\n",
       "      <td>5.186172</td>\n",
       "      <td>4.858031</td>\n",
       "      <td>4.863882</td>\n",
       "      <td>4.043478</td>\n",
       "      <td>4.0</td>\n",
       "    </tr>\n",
       "    <tr>\n",
       "      <th>4</th>\n",
       "      <td>1</td>\n",
       "      <td>605</td>\n",
       "      <td>3.857306</td>\n",
       "      <td>4.0</td>\n",
       "      <td>4.400752</td>\n",
       "      <td>4.586924</td>\n",
       "      <td>4.559841</td>\n",
       "      <td>4.561001</td>\n",
       "      <td>5.0</td>\n",
       "      <td>5.186172</td>\n",
       "      <td>4.851478</td>\n",
       "      <td>4.874463</td>\n",
       "      <td>4.043478</td>\n",
       "      <td>4.0</td>\n",
       "    </tr>\n",
       "  </tbody>\n",
       "</table>\n",
       "</div>"
      ],
      "text/plain": [
       "   User  Movie  global_mean  global_median  movie_mean  movie_mean_user_habit  \\\n",
       "0     1     61     3.857306            4.0    3.884834               4.071006   \n",
       "1     1     68     3.857306            4.0    3.505051               3.691223   \n",
       "2     1    310     3.857306            4.0    4.557819               4.743991   \n",
       "3     1    546     3.857306            4.0    4.275251               4.461423   \n",
       "4     1    605     3.857306            4.0    4.400752               4.586924   \n",
       "\n",
       "   movie_mean_user_habit_std  movie_mean_user_std  movie_median  \\\n",
       "0                   4.073816             4.055245           4.0   \n",
       "1                   3.699835             3.703227           4.0   \n",
       "2                   4.733773             4.737487           5.0   \n",
       "3                   4.460371             4.459905           5.0   \n",
       "4                   4.559841             4.561001           5.0   \n",
       "\n",
       "   movie_median_user_habit  movie_median_user_habit_std  \\\n",
       "0                 4.186172                     4.174677   \n",
       "1                 4.186172                     3.860551   \n",
       "2                 5.186172                     4.971536   \n",
       "3                 5.186172                     4.858031   \n",
       "4                 5.186172                     4.851478   \n",
       "\n",
       "   movie_median_user_std  user_mean  user_median  \n",
       "0               4.175801   4.043478          4.0  \n",
       "1               3.816298   4.043478          4.0  \n",
       "2               4.983678   4.043478          4.0  \n",
       "3               4.863882   4.043478          4.0  \n",
       "4               4.874463   4.043478          4.0  "
      ]
     },
     "execution_count": 20,
     "metadata": {},
     "output_type": "execute_result"
    }
   ],
   "source": [
    "predictions_tr.head()\n"
   ]
  },
  {
   "cell_type": "code",
   "execution_count": 21,
   "metadata": {},
   "outputs": [
    {
     "data": {
      "text/html": [
       "<div>\n",
       "<style scoped>\n",
       "    .dataframe tbody tr th:only-of-type {\n",
       "        vertical-align: middle;\n",
       "    }\n",
       "\n",
       "    .dataframe tbody tr th {\n",
       "        vertical-align: top;\n",
       "    }\n",
       "\n",
       "    .dataframe thead th {\n",
       "        text-align: right;\n",
       "    }\n",
       "</style>\n",
       "<table border=\"1\" class=\"dataframe\">\n",
       "  <thead>\n",
       "    <tr style=\"text-align: right;\">\n",
       "      <th></th>\n",
       "      <th>User</th>\n",
       "      <th>Movie</th>\n",
       "      <th>Rating</th>\n",
       "      <th>global_mean</th>\n",
       "      <th>global_median</th>\n",
       "      <th>movie_mean</th>\n",
       "      <th>movie_mean_user_habit</th>\n",
       "      <th>movie_mean_user_habit_std</th>\n",
       "      <th>movie_mean_user_std</th>\n",
       "      <th>movie_median</th>\n",
       "      <th>movie_median_user_habit</th>\n",
       "      <th>movie_median_user_habit_std</th>\n",
       "      <th>movie_median_user_std</th>\n",
       "      <th>user_mean</th>\n",
       "      <th>user_median</th>\n",
       "    </tr>\n",
       "  </thead>\n",
       "  <tbody>\n",
       "  </tbody>\n",
       "</table>\n",
       "</div>"
      ],
      "text/plain": [
       "Empty DataFrame\n",
       "Columns: [User, Movie, Rating, global_mean, global_median, movie_mean, movie_mean_user_habit, movie_mean_user_habit_std, movie_mean_user_std, movie_median, movie_median_user_habit, movie_median_user_habit_std, movie_median_user_std, user_mean, user_median]\n",
       "Index: []"
      ]
     },
     "execution_count": 21,
     "metadata": {},
     "output_type": "execute_result"
    }
   ],
   "source": [
    "aa = pd.merge(ground_truth, predictions_tr, how='outer', on=['User', 'Movie'])\n",
    "aa[aa.isnull().any(axis=1)]"
   ]
  },
  {
   "cell_type": "code",
   "execution_count": 46,
   "metadata": {},
   "outputs": [
    {
     "data": {
      "text/html": [
       "<div>\n",
       "<style scoped>\n",
       "    .dataframe tbody tr th:only-of-type {\n",
       "        vertical-align: middle;\n",
       "    }\n",
       "\n",
       "    .dataframe tbody tr th {\n",
       "        vertical-align: top;\n",
       "    }\n",
       "\n",
       "    .dataframe thead th {\n",
       "        text-align: right;\n",
       "    }\n",
       "</style>\n",
       "<table border=\"1\" class=\"dataframe\">\n",
       "  <thead>\n",
       "    <tr style=\"text-align: right;\">\n",
       "      <th></th>\n",
       "      <th>User</th>\n",
       "      <th>Movie</th>\n",
       "      <th>Rating</th>\n",
       "    </tr>\n",
       "  </thead>\n",
       "  <tbody>\n",
       "    <tr>\n",
       "      <th>279067</th>\n",
       "      <td>1</td>\n",
       "      <td>61</td>\n",
       "      <td>5</td>\n",
       "    </tr>\n",
       "    <tr>\n",
       "      <th>495645</th>\n",
       "      <td>1</td>\n",
       "      <td>68</td>\n",
       "      <td>4</td>\n",
       "    </tr>\n",
       "    <tr>\n",
       "      <th>258936</th>\n",
       "      <td>1</td>\n",
       "      <td>310</td>\n",
       "      <td>4</td>\n",
       "    </tr>\n",
       "    <tr>\n",
       "      <th>549474</th>\n",
       "      <td>1</td>\n",
       "      <td>546</td>\n",
       "      <td>5</td>\n",
       "    </tr>\n",
       "    <tr>\n",
       "      <th>61156</th>\n",
       "      <td>1</td>\n",
       "      <td>605</td>\n",
       "      <td>5</td>\n",
       "    </tr>\n",
       "  </tbody>\n",
       "</table>\n",
       "</div>"
      ],
      "text/plain": [
       "        User  Movie  Rating\n",
       "279067     1     61       5\n",
       "495645     1     68       4\n",
       "258936     1    310       4\n",
       "549474     1    546       5\n",
       "61156      1    605       5"
      ]
     },
     "execution_count": 46,
     "metadata": {},
     "output_type": "execute_result"
    }
   ],
   "source": [
    "ground_truth.sort_values(by=['User', 'Movie']).head()"
   ]
  },
  {
   "cell_type": "code",
   "execution_count": 74,
   "metadata": {},
   "outputs": [],
   "source": [
    "def optimize(models, ground_truth, folder=\"./predictions/\"):\n",
    "    t = Timer()\n",
    "    t.start()\n",
    "    print(\"Loading predictions....\")\n",
    "    predictions = load_predictions(folder=folder)\n",
    "    print(\"Time: {}, Finished loading.\".format(t.now()))\n",
    "    t.stop(verbose= False)\n",
    "    \n",
    "    # Initialize first weights (- nb columns for User, Movie)\n",
    "    w0 = [1/(len(predictions.columns) - 2) for i in range(len(predictions.columns) - 2)]\n",
    "    \n",
    "    print(\"Optimizing...\")\n",
    "    t.start()\n",
    "    res = sco.minimize(evaluate_stacking, w0, method='SLSQP', args=(models, predictions, ground_truth), options={'maxiter': 1000, 'disp': True})\n",
    "    print(\"Time: {}. Optimization done.\".format(t.now()))\n",
    "    t.stop()\n",
    "    \n",
    "    return res\n",
    "\n",
    "def get_best_weights(res, models, predictions, ground_truth):\n",
    "    # Create best dictionnary\n",
    "    best_dict = {}\n",
    "    idx = 0\n",
    "    for key, model_family in models.items():\n",
    "        best_dict[key] = dict()\n",
    "        for name in model_family.keys():\n",
    "            best_dict[key][name] = res.x[idx]\n",
    "            idx = idx + 1\n",
    "    \n",
    "    print(\"Best weights: \\n {}\".format(best_dict))\n",
    "    # test\n",
    "    rmse = evaluate_stacking(res.x, models, predictions, ground_truth)\n",
    "    print(\"Best weights rmse: {}\".format(rmse))\n",
    "    return best_dict, rmse"
   ]
  },
  {
   "cell_type": "code",
   "execution_count": 67,
   "metadata": {},
   "outputs": [
    {
     "name": "stdout",
     "output_type": "stream",
     "text": [
      "Loading predictions....\n",
      "Reading 1/12 : global_mean_predictions(0:00:00.010909).csv...\n",
      "Reading 2/12 : global_median_predictions(0:00:02.752742).csv...\n",
      "Reading 3/12 : movie_mean_predictions(0:00:25.111229).csv...\n",
      "Reading 4/12 : movie_mean_user_habit_predictions(0:07:18.812214).csv...\n",
      "Reading 5/12 : movie_mean_user_habit_std_predictions(0:04:57.073134).csv...\n",
      "Reading 6/12 : movie_mean_user_std_predictions(0:02:06.749171).csv...\n",
      "Reading 7/12 : movie_median_predictions(0:00:29.249886).csv...\n",
      "Reading 8/12 : movie_median_user_habit_predictions(0:08:31.053131).csv...\n",
      "Reading 9/12 : movie_median_user_habit_std_predictions(0:06:06.261281).csv...\n",
      "Reading 10/12 : movie_median_user_std_predictions(0:03:48.336812).csv...\n",
      "Reading 11/12 : user_mean_predictions(0:00:10.967303).csv...\n",
      "Reading 12/12 : user_median_predictions(0:00:21.281134).csv...\n",
      "Time: 0:00:13.322957, Finished loading.\n",
      "Optimizing...\n",
      "Optimization terminated successfully.    (Exit mode 0)\n",
      "            Current function value: 0.9919820970367211\n",
      "            Iterations: 29\n",
      "            Function evaluations: 409\n",
      "            Gradient evaluations: 29\n",
      "Time: 0:04:26.691536. Optimization done.\n"
     ]
    }
   ],
   "source": [
    "res = optimize(models, ground_truth)"
   ]
  },
  {
   "cell_type": "code",
   "execution_count": 75,
   "metadata": {},
   "outputs": [
    {
     "name": "stdout",
     "output_type": "stream",
     "text": [
      "Best weights: \n",
      " {'baseline': {'global_mean': -0.024981370718988857, 'global_median': -0.02898930048715219, 'user_mean': 0.04665145172639839, 'user_median': 0.03575061751380726, 'movie_mean': 0.1346921975521403, 'movie_median': -0.042103646284213654, 'movie_mean_user_std': 0.35254139862350287, 'movie_median_user_std': 0.1926768467682129, 'movie_mean_user_habit_std': 0.216735516843958, 'movie_median_user_habit_std': -0.12040169416858357, 'movie_mean_user_habit': 0.20632386228911023, 'movie_median_user_habit': 0.029530390078346635}}\n",
      "Best weights rmse: 0.9919820970367211\n"
     ]
    }
   ],
   "source": [
    "best_dict, rmse = get_best_weights(res, models, predictions_tr, ground_truth)"
   ]
  },
  {
   "cell_type": "code",
   "execution_count": 111,
   "metadata": {},
   "outputs": [],
   "source": [
    "def predict(weight_dict):\n",
    "    print(\"Predicting....\")\n",
    "    predictions, _ = predict_and_save(folder=\"./pred_tmp/\", training=False)\n",
    "    predictions = load_predictions(folder=\"./pred_tmp\")\n",
    "    print(\"Finished loading.\")\n",
    "    \n",
    "    stacked = np.zeros(predictions.shape[0])\n",
    "    for key, model_fam in models.items():\n",
    "        weights = weight_dict[key]\n",
    "        for name in model_fam.keys():\n",
    "            weight = weights[name]\n",
    "            print(\"Stacking {} * {}...\".format(weight, name))\n",
    "            stacked = stacked + weight * predictions[name]\n",
    "    \n",
    "    pred = predictions[['User', 'Movie']].copy()\n",
    "    pred['Rating'] = stacked\n",
    "    return pred"
   ]
  },
  {
   "cell_type": "code",
   "execution_count": 112,
   "metadata": {
    "scrolled": false
   },
   "outputs": [
    {
     "name": "stdout",
     "output_type": "stream",
     "text": [
      "Predicting....\n",
      "[load_dataset] Valid: (1176952, 3)\n",
      "[load_dataset] Valid: (1176952, 3)\n",
      "Loading models...\n",
      "1 model families loaded:\n",
      " baseline; \n",
      "Predicting using algo: <function baseline_algo at 0x7f637a7f80d0>, model: baseline...\n",
      "Time: 0:00:00.000028, predicting with model: global_mean\n",
      "Time: 0:00:00.013422, Saving results of global_mean...\n",
      "\n",
      "Time: 0:00:05.270736, predicting with model: global_median\n",
      "Time: 0:00:05.298369, Saving results of global_median...\n",
      "\n",
      "Time: 0:00:09.327589, predicting with model: user_mean\n",
      "Time: 0:00:15.683861, Saving results of user_mean...\n",
      "\n",
      "Time: 0:00:21.105028, predicting with model: user_median\n",
      "Time: 0:00:28.866726, Saving results of user_median...\n",
      "\n",
      "Time: 0:00:32.934296, predicting with model: movie_mean\n",
      "Time: 0:00:33.582614, Saving results of movie_mean...\n",
      "\n",
      "Time: 0:00:39.057338, predicting with model: movie_median\n",
      "Time: 0:00:39.829904, Saving results of movie_median...\n",
      "\n",
      "Time: 0:00:43.930557, predicting with model: movie_mean_user_std\n",
      "Time: 0:02:53.494157, Saving results of movie_mean_user_std...\n",
      "\n",
      "Time: 0:02:58.696135, predicting with model: movie_median_user_std\n",
      "Time: 0:05:14.728740, Saving results of movie_median_user_std...\n",
      "\n",
      "Time: 0:05:20.720226, predicting with model: movie_mean_user_habit_std\n",
      "Time: 0:06:47.706194, Saving results of movie_mean_user_habit_std...\n",
      "\n",
      "Time: 0:06:54.509066, predicting with model: movie_median_user_habit_std\n",
      "Time: 0:08:17.207095, Saving results of movie_median_user_habit_std...\n",
      "\n",
      "Time: 0:08:24.030634, predicting with model: movie_mean_user_habit\n",
      "Time: 0:10:40.579174, Saving results of movie_mean_user_habit...\n",
      "\n",
      "Time: 0:10:45.998359, predicting with model: movie_median_user_habit\n",
      "Time: 0:13:14.897922, Saving results of movie_median_user_habit...\n",
      "\n",
      "Reading 1/12 : global_mean_predictions(0:00:00.013524).csv...\n",
      "Reading 2/12 : global_median_predictions(0:00:05.298470).csv...\n",
      "Reading 3/12 : movie_mean_predictions(0:00:33.582722).csv...\n",
      "Reading 4/12 : movie_mean_user_habit_predictions(0:10:40.579286).csv...\n",
      "Reading 5/12 : movie_mean_user_habit_std_predictions(0:06:47.706432).csv...\n",
      "Reading 6/12 : movie_mean_user_std_predictions(0:02:53.494322).csv...\n",
      "Reading 7/12 : movie_median_predictions(0:00:39.830016).csv...\n",
      "Reading 8/12 : movie_median_user_habit_predictions(0:13:14.898115).csv...\n",
      "Reading 9/12 : movie_median_user_habit_std_predictions(0:08:17.207226).csv...\n",
      "Reading 10/12 : movie_median_user_std_predictions(0:05:14.728869).csv...\n",
      "Reading 11/12 : user_mean_predictions(0:00:15.683977).csv...\n",
      "Reading 12/12 : user_median_predictions(0:00:28.866835).csv...\n",
      "Finished loading.\n",
      "Stacking -0.024981370718988857 * global_mean...\n",
      "Stacking -0.02898930048715219 * global_median...\n",
      "Stacking 0.04665145172639839 * user_mean...\n",
      "Stacking 0.03575061751380726 * user_median...\n",
      "Stacking 0.1346921975521403 * movie_mean...\n",
      "Stacking -0.042103646284213654 * movie_median...\n",
      "Stacking 0.35254139862350287 * movie_mean_user_std...\n",
      "Stacking 0.1926768467682129 * movie_median_user_std...\n",
      "Stacking 0.216735516843958 * movie_mean_user_habit_std...\n",
      "Stacking -0.12040169416858357 * movie_median_user_habit_std...\n",
      "Stacking 0.20632386228911023 * movie_mean_user_habit...\n",
      "Stacking 0.029530390078346635 * movie_median_user_habit...\n"
     ]
    }
   ],
   "source": [
    "predictions = predict(best_dict)"
   ]
  },
  {
   "cell_type": "code",
   "execution_count": 114,
   "metadata": {},
   "outputs": [
    {
     "data": {
      "text/html": [
       "<div>\n",
       "<style scoped>\n",
       "    .dataframe tbody tr th:only-of-type {\n",
       "        vertical-align: middle;\n",
       "    }\n",
       "\n",
       "    .dataframe tbody tr th {\n",
       "        vertical-align: top;\n",
       "    }\n",
       "\n",
       "    .dataframe thead th {\n",
       "        text-align: right;\n",
       "    }\n",
       "</style>\n",
       "<table border=\"1\" class=\"dataframe\">\n",
       "  <thead>\n",
       "    <tr style=\"text-align: right;\">\n",
       "      <th></th>\n",
       "      <th>User</th>\n",
       "      <th>Movie</th>\n",
       "      <th>Rating</th>\n",
       "    </tr>\n",
       "  </thead>\n",
       "  <tbody>\n",
       "    <tr>\n",
       "      <th>0</th>\n",
       "      <td>1</td>\n",
       "      <td>4</td>\n",
       "      <td>4.118236</td>\n",
       "    </tr>\n",
       "    <tr>\n",
       "      <th>1</th>\n",
       "      <td>1</td>\n",
       "      <td>8</td>\n",
       "      <td>4.062649</td>\n",
       "    </tr>\n",
       "    <tr>\n",
       "      <th>2</th>\n",
       "      <td>1</td>\n",
       "      <td>21</td>\n",
       "      <td>3.749176</td>\n",
       "    </tr>\n",
       "    <tr>\n",
       "      <th>3</th>\n",
       "      <td>1</td>\n",
       "      <td>102</td>\n",
       "      <td>4.365330</td>\n",
       "    </tr>\n",
       "    <tr>\n",
       "      <th>4</th>\n",
       "      <td>1</td>\n",
       "      <td>127</td>\n",
       "      <td>3.636194</td>\n",
       "    </tr>\n",
       "  </tbody>\n",
       "</table>\n",
       "</div>"
      ],
      "text/plain": [
       "   User  Movie    Rating\n",
       "0     1      4  4.118236\n",
       "1     1      8  4.062649\n",
       "2     1     21  3.749176\n",
       "3     1    102  4.365330\n",
       "4     1    127  3.636194"
      ]
     },
     "execution_count": 114,
     "metadata": {},
     "output_type": "execute_result"
    }
   ],
   "source": [
    "predictions.head()"
   ]
  },
  {
   "cell_type": "code",
   "execution_count": 118,
   "metadata": {},
   "outputs": [
    {
     "name": "stdout",
     "output_type": "stream",
     "text": [
      "Creating submission file...\n"
     ]
    }
   ],
   "source": [
    "submission = create_csv_submission(predictions)"
   ]
  },
  {
   "cell_type": "code",
   "execution_count": 119,
   "metadata": {},
   "outputs": [],
   "source": [
    "submission.to_csv(\"blended_baseline.csv\")"
   ]
  },
  {
   "cell_type": "code",
   "execution_count": 103,
   "metadata": {},
   "outputs": [
    {
     "name": "stdout",
     "output_type": "stream",
     "text": [
      "[load_dataset] Valid: (1176813, 3)\n",
      "[load_dataset] Valid: (1176790, 3)\n"
     ]
    }
   ],
   "source": [
    "train_df = load_dataset(train_dataset)\n",
    "test_df = load_dataset(test_dataset)"
   ]
  },
  {
   "cell_type": "code",
   "execution_count": null,
   "metadata": {},
   "outputs": [],
   "source": [
    "test_df"
   ]
  },
  {
   "cell_type": "code",
   "execution_count": 92,
   "metadata": {},
   "outputs": [
    {
     "ename": "AttributeError",
     "evalue": "'dict' object has no attribute 'head'",
     "output_type": "error",
     "traceback": [
      "\u001b[0;31m---------------------------------------------------------------------------\u001b[0m",
      "\u001b[0;31mAttributeError\u001b[0m                            Traceback (most recent call last)",
      "\u001b[0;32m<ipython-input-92-70c11d2378a3>\u001b[0m in \u001b[0;36m<module>\u001b[0;34m\u001b[0m\n\u001b[0;32m----> 1\u001b[0;31m \u001b[0mpredictions\u001b[0m\u001b[0;34m.\u001b[0m\u001b[0mhead\u001b[0m\u001b[0;34m(\u001b[0m\u001b[0;34m)\u001b[0m\u001b[0;34m\u001b[0m\u001b[0;34m\u001b[0m\u001b[0m\n\u001b[0m",
      "\u001b[0;31mAttributeError\u001b[0m: 'dict' object has no attribute 'head'"
     ]
    }
   ],
   "source": [
    "predictions.head()"
   ]
  },
  {
   "cell_type": "code",
   "execution_count": null,
   "metadata": {},
   "outputs": [],
   "source": []
  },
  {
   "cell_type": "code",
   "execution_count": 51,
   "metadata": {},
   "outputs": [],
   "source": [
    "def evaluate_stacking(weights, models, predictions, ground_truth):\n",
    "    # Get stacking results\n",
    "    user_movie = predictions[['User', 'Movie']]\n",
    "    truth = pd.merge(user_movie, ground_truth, on=['User', 'Movie'], how='inner').reset_index(drop=True)\n",
    "    pred = stack(weights, predictions, models)\n",
    "    return compute_rmse(pred, truth)\n",
    "    "
   ]
  },
  {
   "cell_type": "code",
   "execution_count": 63,
   "metadata": {},
   "outputs": [
    {
     "data": {
      "text/html": [
       "<div>\n",
       "<style scoped>\n",
       "    .dataframe tbody tr th:only-of-type {\n",
       "        vertical-align: middle;\n",
       "    }\n",
       "\n",
       "    .dataframe tbody tr th {\n",
       "        vertical-align: top;\n",
       "    }\n",
       "\n",
       "    .dataframe thead th {\n",
       "        text-align: right;\n",
       "    }\n",
       "</style>\n",
       "<table border=\"1\" class=\"dataframe\">\n",
       "  <thead>\n",
       "    <tr style=\"text-align: right;\">\n",
       "      <th></th>\n",
       "      <th>User</th>\n",
       "      <th>Movie</th>\n",
       "      <th>Rating</th>\n",
       "    </tr>\n",
       "  </thead>\n",
       "  <tbody>\n",
       "    <tr>\n",
       "      <th>0</th>\n",
       "      <td>1</td>\n",
       "      <td>61</td>\n",
       "      <td>4.043528</td>\n",
       "    </tr>\n",
       "    <tr>\n",
       "      <th>1</th>\n",
       "      <td>1</td>\n",
       "      <td>68</td>\n",
       "      <td>3.863595</td>\n",
       "    </tr>\n",
       "    <tr>\n",
       "      <th>2</th>\n",
       "      <td>1</td>\n",
       "      <td>310</td>\n",
       "      <td>4.567937</td>\n",
       "    </tr>\n",
       "    <tr>\n",
       "      <th>3</th>\n",
       "      <td>1</td>\n",
       "      <td>546</td>\n",
       "      <td>4.455485</td>\n",
       "    </tr>\n",
       "    <tr>\n",
       "      <th>4</th>\n",
       "      <td>1</td>\n",
       "      <td>605</td>\n",
       "      <td>4.493451</td>\n",
       "    </tr>\n",
       "  </tbody>\n",
       "</table>\n",
       "</div>"
      ],
      "text/plain": [
       "   User  Movie    Rating\n",
       "0     1     61  4.043528\n",
       "1     1     68  3.863595\n",
       "2     1    310  4.567937\n",
       "3     1    546  4.455485\n",
       "4     1    605  4.493451"
      ]
     },
     "execution_count": 63,
     "metadata": {},
     "output_type": "execute_result"
    }
   ],
   "source": [
    "def stack(weights, predictions, models):\n",
    "    stacked = np.zeros(predictions.shape[0])\n",
    "    idx = 0\n",
    "    for key, model_fam in models.items():\n",
    "        for name in model_fam.keys():\n",
    "            weight = weights[idx]\n",
    "#             print(\"Stacking {} * {}...\".format(weight, name))\n",
    "            stacked = stacked + weight * predictions[name]\n",
    "            idx = idx + 1\n",
    "    \n",
    "    pred= predictions[['User', 'Movie']].copy()\n",
    "    pred['Rating'] = stacked\n",
    "    return pred\n",
    "\n",
    "w0 = [1/(len(predictions_tr.columns) - 2) for i in range(len(predictions_tr.columns) - 2)]\n",
    "pred = stack(w0, predictions_tr, models)\n",
    "pred.head()"
   ]
  },
  {
   "cell_type": "code",
   "execution_count": 58,
   "metadata": {},
   "outputs": [
    {
     "name": "stdout",
     "output_type": "stream",
     "text": [
      "Stacking 0.08333333333333333 * global_mean...\n",
      "Stacking 0.08333333333333333 * global_median...\n",
      "Stacking 0.08333333333333333 * user_mean...\n",
      "Stacking 0.08333333333333333 * user_median...\n",
      "Stacking 0.08333333333333333 * movie_mean...\n",
      "Stacking 0.08333333333333333 * movie_median...\n",
      "Stacking 0.08333333333333333 * movie_mean_user_std...\n",
      "Stacking 0.08333333333333333 * movie_median_user_std...\n",
      "Stacking 0.08333333333333333 * movie_mean_user_habit_std...\n",
      "Stacking 0.08333333333333333 * movie_median_user_habit_std...\n",
      "Stacking 0.08333333333333333 * movie_mean_user_habit...\n",
      "Stacking 0.08333333333333333 * movie_median_user_habit...\n"
     ]
    },
    {
     "data": {
      "text/plain": [
       "1.005557699080822"
      ]
     },
     "execution_count": 58,
     "metadata": {},
     "output_type": "execute_result"
    }
   ],
   "source": [
    "evaluate_stacking(w0, models, predictions_tr, ground_truth)"
   ]
  },
  {
   "cell_type": "code",
   "execution_count": 44,
   "metadata": {},
   "outputs": [
    {
     "data": {
      "text/plain": [
       "0    4.043528\n",
       "1    3.863595\n",
       "2    4.567937\n",
       "3    4.455485\n",
       "4    4.493451\n",
       "dtype: float64"
      ]
     },
     "execution_count": 44,
     "metadata": {},
     "output_type": "execute_result"
    }
   ],
   "source": [
    "pred.head()"
   ]
  },
  {
   "cell_type": "code",
   "execution_count": 76,
   "metadata": {},
   "outputs": [
    {
     "data": {
      "text/plain": [
       "0    4.043528\n",
       "1    3.863595\n",
       "2    4.567937\n",
       "3    4.455485\n",
       "4    4.493451\n",
       "dtype: float64"
      ]
     },
     "execution_count": 76,
     "metadata": {},
     "output_type": "execute_result"
    }
   ],
   "source": [
    "predictions_tr[predictions_tr.columns[2:]].mean(axis=1).head()"
   ]
  },
  {
   "cell_type": "code",
   "execution_count": 10,
   "metadata": {},
   "outputs": [],
   "source": [
    "# def build_k_indices(y, k_fold, seed=42):\n",
    "#     \"\"\"build k indices for k-fold.\"\"\"\n",
    "#     num_row = y.shape[0]\n",
    "#     interval = int(num_row / k_fold)\n",
    "#     np.random.seed(seed)\n",
    "#     indices = np.random.permutation(num_row)\n",
    "#     k_indices = [indices[k * interval: (k + 1) * interval] for k in range(k_fold)]\n",
    "#     return np.array(k_indices)\n",
    "\n",
    "df = train_df.copy()\n",
    "# k_indices = build_k_indices(df, 5)\n",
    "folds_dict = dict.fromkeys(range(5))\n",
    "\n",
    "for i in range(5):\n",
    "#     ind_sorted = sorted(indices)\n",
    "#     fold_data = df.iloc[ind_sorted]\n",
    "    train, test = split_dataset(fold_data)\n",
    "    folds_dict[i] = dict(train=train, test=test)"
   ]
  },
  {
   "cell_type": "code",
   "execution_count": 14,
   "metadata": {},
   "outputs": [
    {
     "data": {
      "text/plain": [
       "((188312, 3), (47078, 3))"
      ]
     },
     "execution_count": 14,
     "metadata": {},
     "output_type": "execute_result"
    }
   ],
   "source": [
    "folds_dict[i]['train'].shape, folds_dict[i]['test'].shape"
   ]
  },
  {
   "cell_type": "code",
   "execution_count": null,
   "metadata": {},
   "outputs": [],
   "source": []
  }
 ],
 "metadata": {
  "kernelspec": {
   "display_name": "Python 3",
   "language": "python",
   "name": "python3"
  },
  "language_info": {
   "codemirror_mode": {
    "name": "ipython",
    "version": 3
   },
   "file_extension": ".py",
   "mimetype": "text/x-python",
   "name": "python",
   "nbconvert_exporter": "python",
   "pygments_lexer": "ipython3",
   "version": "3.6.7"
  }
 },
 "nbformat": 4,
 "nbformat_minor": 2
}
